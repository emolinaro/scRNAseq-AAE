{
 "cells": [
  {
   "cell_type": "code",
   "execution_count": null,
   "metadata": {
    "ExecuteTime": {
     "end_time": "2019-09-20T15:36:40.839664Z",
     "start_time": "2019-09-20T15:36:38.703077Z"
    }
   },
   "outputs": [],
   "source": [
    "import scanpy as sc\n",
    "import numpy as np\n",
    "import os, sys\n",
    "\n",
    "os.makedirs('../data', exist_ok=True)\n",
    "os.makedirs('../data/proc', exist_ok=True)"
   ]
  },
  {
   "cell_type": "code",
   "execution_count": null,
   "metadata": {
    "ExecuteTime": {
     "end_time": "2019-09-20T15:36:41.531076Z",
     "start_time": "2019-09-20T15:36:41.528169Z"
    }
   },
   "outputs": [],
   "source": [
    "import warnings\n",
    "warnings.filterwarnings(\"ignore\")"
   ]
  },
  {
   "cell_type": "markdown",
   "metadata": {},
   "source": [
    "# Download datasets"
   ]
  },
  {
   "cell_type": "markdown",
   "metadata": {
    "heading_collapsed": true
   },
   "source": [
    "## PBMC 3k"
   ]
  },
  {
   "cell_type": "code",
   "execution_count": null,
   "metadata": {
    "hidden": true
   },
   "outputs": [],
   "source": [
    "os.makedirs('../data/pbmc3k/', exist_ok=True)\n",
    "!wget http://cf.10xgenomics.com/samples/cell-exp/1.1.0/pbmc3k/pbmc3k_filtered_gene_bc_matrices.tar.gz -O ../data/pbmc3k/pbmc3k_filtered_gene_bc_matrices.tar.gz\n",
    "!cd ../data/pbmc3k/; tar -xzf pbmc3k_filtered_gene_bc_matrices.tar.gz; rm pbmc3k_filtered_gene_bc_matrices.tar.gz\n"
   ]
  },
  {
   "cell_type": "code",
   "execution_count": null,
   "metadata": {
    "hidden": true
   },
   "outputs": [],
   "source": [
    "data_path = '../data/pbmc3k/filtered_gene_bc_matrices/hg19'\n",
    "results_file = '../data/proc/pbmc3k.h5ad'\n",
    "results_file2 = '../data/proc/pbmc3k.tfrecord'"
   ]
  },
  {
   "cell_type": "code",
   "execution_count": null,
   "metadata": {
    "hidden": true
   },
   "outputs": [],
   "source": [
    "gene_up = 2500\n",
    "percent_mito_up = 0.05\n",
    "n_pcs = 40\n",
    "resolution = 1.0"
   ]
  },
  {
   "cell_type": "code",
   "execution_count": null,
   "metadata": {
    "hidden": true
   },
   "outputs": [],
   "source": [
    "marker_genes = ['IL7R', 'CD79A', 'MS4A1', 'CD8A', 'CD8B', 'LYZ', 'CD14',\n",
    "                'LGALS3', 'S100A8', 'GNLY', 'NKG7', 'KLRB1',\n",
    "                'FCGR3A', 'MS4A7', 'FCER1A', 'CST3', 'PPBP']"
   ]
  },
  {
   "cell_type": "code",
   "execution_count": null,
   "metadata": {
    "hidden": true
   },
   "outputs": [],
   "source": [
    "#Louvain    Markers       Cell Type\n",
    "#0          IL7R, CD4     T cells\n",
    "#1          CD14, LYZ     CD14+ Monocytes\n",
    "#2          MS4A1         B cells\n",
    "#3          CD8A, CD8     T cells\n",
    "#4          GNLY, NKG7    NK cells\n",
    "#5          FCGR3A, MS4A7 FCGR3A+ Monocytes\n",
    "#6          FCER1A, CST3  Dendritic Cells\n",
    "#7          PPBP          Megakaryocytes"
   ]
  },
  {
   "cell_type": "code",
   "execution_count": null,
   "metadata": {
    "hidden": true
   },
   "outputs": [],
   "source": [
    "new_cluster_names = [\n",
    "    'CD4 T', 'CD14+ Monocytes',\n",
    "    'B', 'CD8 T',\n",
    "    'NK', 'FCGR3A+ Monocytes',\n",
    "    'Dendritic', 'Megakaryocytes']"
   ]
  },
  {
   "cell_type": "markdown",
   "metadata": {},
   "source": [
    "## PBMC 8k"
   ]
  },
  {
   "cell_type": "code",
   "execution_count": null,
   "metadata": {},
   "outputs": [],
   "source": [
    "os.makedirs('../data/pbmc8k/', exist_ok=True)\n",
    "!wget http://cf.10xgenomics.com/samples/cell-exp/2.1.0/pbmc8k/pbmc8k_filtered_gene_bc_matrices.tar.gz -O ../data/pbmc8k/pbmc8k_filtered_gene_bc_matrices.tar.gz\n",
    "!cd ../data/pbmc8k/; tar -xzf pbmc8k_filtered_gene_bc_matrices.tar.gz; rm pbmc8k_filtered_gene_bc_matrices.tar.gz\n"
   ]
  },
  {
   "cell_type": "code",
   "execution_count": null,
   "metadata": {},
   "outputs": [],
   "source": [
    "data_path = '../data/pbmc8k/filtered_gene_bc_matrices/GRCh38/'\n",
    "results_file = '../data/proc/pbmc8k.h5ad'\n",
    "results_file2 = '../data/proc/pbmc8k.tfrecord'"
   ]
  },
  {
   "cell_type": "code",
   "execution_count": null,
   "metadata": {},
   "outputs": [],
   "source": [
    "gene_up = 2500\n",
    "percent_mito_up = 0.05\n",
    "n_pcs = 20\n",
    "resolution = 0.7"
   ]
  },
  {
   "cell_type": "code",
   "execution_count": null,
   "metadata": {},
   "outputs": [],
   "source": [
    "marker_genes = ['IL7R','CD4' ,'CD8A', 'CD8B', \n",
    "                'LYZ', 'CD14',\n",
    "                'MS4A1', \n",
    "                'CD79A',\n",
    "                'LGALS3', 'S100A8', \n",
    "                'GNLY', 'NKG7', 'KLRB1',\n",
    "                'FCGR3A', 'MS4A7', \n",
    "                'FCER1A', 'CST3', \n",
    "               ]"
   ]
  },
  {
   "cell_type": "code",
   "execution_count": null,
   "metadata": {},
   "outputs": [],
   "source": [
    "new_cluster_names = [\n",
    "    'CD4+_T-Cells',\n",
    "    'CD14+_Monocytes',\n",
    "        'CD8+_T-Cells',\n",
    "        'CD4+_T-Cells ',\n",
    "    'B_cells',\n",
    "    'NK',\n",
    "    'B_cells ',\n",
    "    'CD4+_T-Cells  ',\n",
    "    'NK ',\n",
    "    'NK  ',\n",
    "    'FCGR3A+_Monocytes',\n",
    "    'Dendritic_cells',\n",
    "    'Megakaryocytes']"
   ]
  },
  {
   "cell_type": "markdown",
   "metadata": {},
   "source": [
    "## PBMC 10k"
   ]
  },
  {
   "cell_type": "code",
   "execution_count": null,
   "metadata": {},
   "outputs": [],
   "source": [
    "os.makedirs('../data/pbmc10k/', exist_ok=True)\n",
    "!wget http://cf.10xgenomics.com/samples/cell-exp/3.0.0/pbmc_10k_v3/pbmc_10k_v3_filtered_feature_bc_matrix.tar.gz  -O ../data/pbmc10k/pbmc_10k_v3_filtered_feature_bc_matrix.tar.gz\n",
    "!cd ../data/pbmc10k/; tar -xzf pbmc_10k_v3_filtered_feature_bc_matrix.tar.gz; rm pbmc_10k_v3_filtered_feature_bc_matrix.tar.gz\n"
   ]
  },
  {
   "cell_type": "code",
   "execution_count": null,
   "metadata": {
    "ExecuteTime": {
     "end_time": "2019-09-20T15:37:04.484542Z",
     "start_time": "2019-09-20T15:37:04.481776Z"
    }
   },
   "outputs": [],
   "source": [
    "data_path = '../data/pbmc10k/filtered_feature_bc_matrix'\n",
    "results_file = '../data/proc/pbmc10k.h5ad'\n",
    "results_file2 = '../data/proc/pbmc10k.tfrecord'"
   ]
  },
  {
   "cell_type": "code",
   "execution_count": null,
   "metadata": {
    "ExecuteTime": {
     "end_time": "2019-09-20T15:37:06.030876Z",
     "start_time": "2019-09-20T15:37:06.027899Z"
    }
   },
   "outputs": [],
   "source": [
    "gene_up = 4500\n",
    "percent_mito_up = 0.3\n",
    "n_pcs = 40\n",
    "resolution = 0.6"
   ]
  },
  {
   "cell_type": "code",
   "execution_count": null,
   "metadata": {},
   "outputs": [],
   "source": [
    "marker_genes = ['IL7R', 'CD79A', 'MS4A1', 'TRAC', 'CD8A', 'CD8B','CD4', 'LYZ', 'CD14',\n",
    "                'LGALS3', 'S100A8','CD14', 'GNLY', 'NKG7', 'KLRB1',\n",
    "                'FCGR3A', 'MS4A7','IL6R', 'FCER1A', 'CST3', 'PPBP', 'IL3RA', 'CD40']"
   ]
  },
  {
   "cell_type": "code",
   "execution_count": null,
   "metadata": {},
   "outputs": [],
   "source": [
    "new_cluster_names = [\n",
    "    'CD14+ Monocytes', \n",
    "    'Double negative T cells',\n",
    "    'CD14+ Monocytes__', \n",
    "    'Double negative T cells__',\n",
    "    'Mature B cell',\n",
    "    'CD8 Effector', \n",
    "    'NK cells','Plasma cell','CD8 Effector__','FCGR3A+ Monocytes','CD8 Naive','Megakaryocytes','Immature B cell','CD14+ Monocytes______','Dendritic cells',\n",
    "    'CD8 Effector____','pDC','Dendritic cells__']"
   ]
  },
  {
   "cell_type": "markdown",
   "metadata": {},
   "source": [
    "# Data preprocessing"
   ]
  },
  {
   "cell_type": "code",
   "execution_count": null,
   "metadata": {
    "ExecuteTime": {
     "end_time": "2019-09-11T15:42:31.444749Z",
     "start_time": "2019-09-11T15:42:31.440147Z"
    }
   },
   "outputs": [],
   "source": [
    "sc.settings.verbosity = 3             # verbosity: errors (0), warnings (1), info (2), hints (3)\n",
    "sc.logging.print_versions()"
   ]
  },
  {
   "cell_type": "code",
   "execution_count": null,
   "metadata": {
    "ExecuteTime": {
     "end_time": "2019-09-11T15:42:36.737059Z",
     "start_time": "2019-09-11T15:42:35.454380Z"
    }
   },
   "outputs": [],
   "source": [
    "adata = sc.read_10x_mtx(\n",
    "            data_path,  # the directory with the `.mtx` file\n",
    "            var_names='gene_symbols',                  # use gene symbols for the variable names (variables-axis index)\n",
    "            cache=True)                                # write a cache file for faster subsequent reading"
   ]
  },
  {
   "cell_type": "code",
   "execution_count": null,
   "metadata": {
    "ExecuteTime": {
     "end_time": "2019-09-11T15:42:37.885179Z",
     "start_time": "2019-09-11T15:42:37.881572Z"
    }
   },
   "outputs": [],
   "source": [
    "sc.settings.set_figure_params(dpi=80)"
   ]
  },
  {
   "cell_type": "code",
   "execution_count": null,
   "metadata": {
    "ExecuteTime": {
     "end_time": "2019-09-11T15:42:38.814347Z",
     "start_time": "2019-09-11T15:42:38.807042Z"
    }
   },
   "outputs": [],
   "source": [
    "adata.var_names_make_unique()  # this is unnecessary if using 'gene_ids'"
   ]
  },
  {
   "cell_type": "code",
   "execution_count": null,
   "metadata": {
    "ExecuteTime": {
     "end_time": "2019-09-11T15:42:42.853426Z",
     "start_time": "2019-09-11T15:42:39.658995Z"
    }
   },
   "outputs": [],
   "source": [
    "# Show those genes that yield the highest fraction of counts in each single cells, across all cells.\n",
    "sc.pl.highest_expr_genes(adata, n_top=20)\n",
    "\n",
    "\n",
    "# Basic filtering\n",
    "sc.pp.filter_cells(adata, min_genes=200)\n",
    "sc.pp.filter_genes(adata, min_cells=3)"
   ]
  },
  {
   "cell_type": "code",
   "execution_count": null,
   "metadata": {
    "ExecuteTime": {
     "end_time": "2019-09-11T15:42:43.650767Z",
     "start_time": "2019-09-11T15:42:43.579763Z"
    }
   },
   "outputs": [],
   "source": [
    "mito_genes = adata.var_names.str.startswith('MT-')\n",
    "# for each cell compute fraction of counts in mito genes vs. all genes\n",
    "# the `.A1` is only necessary as X is sparse (to transform to a dense array after summing)\n",
    "adata.obs['percent_mito'] = np.sum(\n",
    "    adata[:, mito_genes].X, axis=1).A1 / np.sum(adata.X, axis=1).A1\n",
    "# add the total counts per cell as observations-annotation to adata\n",
    "adata.obs['n_counts'] = adata.X.sum(axis=1).A1"
   ]
  },
  {
   "cell_type": "code",
   "execution_count": null,
   "metadata": {
    "ExecuteTime": {
     "end_time": "2019-09-11T15:42:45.687611Z",
     "start_time": "2019-09-11T15:42:44.158979Z"
    }
   },
   "outputs": [],
   "source": [
    "sc.pl.violin(adata, ['n_genes', 'n_counts', 'percent_mito'],\n",
    "             jitter=0.4, multi_panel=True)"
   ]
  },
  {
   "cell_type": "code",
   "execution_count": null,
   "metadata": {
    "ExecuteTime": {
     "end_time": "2019-09-11T15:42:47.136284Z",
     "start_time": "2019-09-11T15:42:46.097856Z"
    }
   },
   "outputs": [],
   "source": [
    "sc.pl.scatter(adata, x='n_counts', y='percent_mito')\n",
    "sc.pl.scatter(adata, x='n_counts', y='n_genes')"
   ]
  },
  {
   "cell_type": "code",
   "execution_count": null,
   "metadata": {
    "ExecuteTime": {
     "end_time": "2019-09-11T15:42:47.840878Z",
     "start_time": "2019-09-11T15:42:47.534055Z"
    }
   },
   "outputs": [],
   "source": [
    "adata = adata[adata.obs['n_genes'] < gene_up, :] \n",
    "adata = adata[adata.obs['percent_mito'] < percent_mito_up, :]"
   ]
  },
  {
   "cell_type": "code",
   "execution_count": null,
   "metadata": {
    "ExecuteTime": {
     "end_time": "2019-09-11T15:42:48.953878Z",
     "start_time": "2019-09-11T15:42:48.313277Z"
    }
   },
   "outputs": [],
   "source": [
    "# Data in log scale\n",
    "sc.pp.normalize_per_cell(adata, counts_per_cell_after=1e4)\n",
    "sc.pp.log1p(adata)\n",
    "\n",
    "adata.raw = adata"
   ]
  },
  {
   "cell_type": "code",
   "execution_count": null,
   "metadata": {
    "ExecuteTime": {
     "end_time": "2019-09-11T15:42:52.232029Z",
     "start_time": "2019-09-11T15:42:49.400791Z"
    }
   },
   "outputs": [],
   "source": [
    "sc.pp.highly_variable_genes(adata, min_mean=0.0125, max_mean=3, min_disp=0.5)\n",
    "sc.pl.highly_variable_genes(adata)"
   ]
  },
  {
   "cell_type": "code",
   "execution_count": null,
   "metadata": {
    "ExecuteTime": {
     "end_time": "2019-09-11T15:42:52.870098Z",
     "start_time": "2019-09-11T15:42:52.657627Z"
    }
   },
   "outputs": [],
   "source": [
    "adata = adata[:, adata.var['highly_variable']]"
   ]
  },
  {
   "cell_type": "code",
   "execution_count": null,
   "metadata": {
    "ExecuteTime": {
     "end_time": "2019-09-11T15:43:06.776629Z",
     "start_time": "2019-09-11T15:42:53.102122Z"
    }
   },
   "outputs": [],
   "source": [
    "sc.pp.regress_out(adata, ['n_counts', 'percent_mito'])"
   ]
  },
  {
   "cell_type": "code",
   "execution_count": null,
   "metadata": {
    "ExecuteTime": {
     "end_time": "2019-09-11T15:43:07.210313Z",
     "start_time": "2019-09-11T15:43:07.050188Z"
    }
   },
   "outputs": [],
   "source": [
    "sc.pp.scale(adata, max_value=10)"
   ]
  },
  {
   "cell_type": "code",
   "execution_count": null,
   "metadata": {
    "ExecuteTime": {
     "end_time": "2019-09-11T15:43:09.546181Z",
     "start_time": "2019-09-11T15:43:07.394796Z"
    }
   },
   "outputs": [],
   "source": [
    "sc.tl.pca(adata, svd_solver='arpack')"
   ]
  },
  {
   "cell_type": "code",
   "execution_count": null,
   "metadata": {
    "ExecuteTime": {
     "end_time": "2019-09-11T15:43:10.244643Z",
     "start_time": "2019-09-11T15:43:09.773880Z"
    }
   },
   "outputs": [],
   "source": [
    "sc.pl.pca(adata, color='CST3')"
   ]
  },
  {
   "cell_type": "code",
   "execution_count": null,
   "metadata": {
    "ExecuteTime": {
     "end_time": "2019-09-11T15:43:10.803679Z",
     "start_time": "2019-09-11T15:43:10.449733Z"
    }
   },
   "outputs": [],
   "source": [
    "sc.pl.pca_variance_ratio(adata, log=True)"
   ]
  },
  {
   "cell_type": "code",
   "execution_count": null,
   "metadata": {
    "ExecuteTime": {
     "end_time": "2019-09-11T15:43:14.979879Z",
     "start_time": "2019-09-11T15:43:10.972848Z"
    }
   },
   "outputs": [],
   "source": [
    "sc.pp.neighbors(adata, n_neighbors=10, n_pcs=n_pcs)"
   ]
  },
  {
   "cell_type": "code",
   "execution_count": null,
   "metadata": {
    "ExecuteTime": {
     "end_time": "2019-09-11T15:43:27.258458Z",
     "start_time": "2019-09-11T15:43:15.219962Z"
    }
   },
   "outputs": [],
   "source": [
    "sc.tl.umap(adata)"
   ]
  },
  {
   "cell_type": "code",
   "execution_count": null,
   "metadata": {
    "ExecuteTime": {
     "end_time": "2019-09-11T15:43:28.845433Z",
     "start_time": "2019-09-11T15:43:27.475435Z"
    }
   },
   "outputs": [],
   "source": [
    "sc.pl.umap(adata, color=['CST3', 'NKG7', 'PPBP'])"
   ]
  },
  {
   "cell_type": "code",
   "execution_count": null,
   "metadata": {
    "ExecuteTime": {
     "end_time": "2019-09-11T15:43:30.720628Z",
     "start_time": "2019-09-11T15:43:29.020092Z"
    }
   },
   "outputs": [],
   "source": [
    "sc.tl.louvain(adata, resolution=resolution)"
   ]
  },
  {
   "cell_type": "code",
   "execution_count": null,
   "metadata": {
    "ExecuteTime": {
     "end_time": "2019-09-11T15:43:32.308809Z",
     "start_time": "2019-09-11T15:43:30.951992Z"
    }
   },
   "outputs": [],
   "source": [
    "sc.pl.umap(adata, color=['louvain', 'CST3', 'NKG7'])"
   ]
  },
  {
   "cell_type": "code",
   "execution_count": null,
   "metadata": {
    "ExecuteTime": {
     "end_time": "2019-09-11T15:43:43.409196Z",
     "start_time": "2019-09-11T15:43:32.526179Z"
    }
   },
   "outputs": [],
   "source": [
    "sc.tl.rank_genes_groups(adata, 'louvain', method='t-test')\n",
    "sc.pl.rank_genes_groups(adata, n_genes=25, sharey=False)"
   ]
  },
  {
   "cell_type": "code",
   "execution_count": null,
   "metadata": {},
   "outputs": [],
   "source": [
    "adata.var_names[adata.var_names.str.startswith('IG')]"
   ]
  },
  {
   "cell_type": "code",
   "execution_count": null,
   "metadata": {},
   "outputs": [],
   "source": [
    "sc.pl.stacked_violin(adata, groupby='louvain', var_names=marker_genes)"
   ]
  },
  {
   "cell_type": "code",
   "execution_count": null,
   "metadata": {},
   "outputs": [],
   "source": [
    "try:\n",
    "    sc.pl.stacked_violin(adata, groupby='louvain', var_names=marker_genes)\n",
    "except:\n",
    "    print(\"marker genes not defined for this dataset\")"
   ]
  },
  {
   "cell_type": "code",
   "execution_count": null,
   "metadata": {
    "ExecuteTime": {
     "end_time": "2019-09-11T15:43:43.648612Z",
     "start_time": "2019-09-11T15:43:43.643180Z"
    }
   },
   "outputs": [],
   "source": [
    "try:\n",
    "    sc.pl.stacked_violin(adata, groupby='louvain', var_names=marker_genes)\n",
    "except:\n",
    "    print(\"marker genes not defined for this dataset\")"
   ]
  },
  {
   "cell_type": "code",
   "execution_count": null,
   "metadata": {
    "ExecuteTime": {
     "end_time": "2019-09-11T15:43:43.882827Z",
     "start_time": "2019-09-11T15:43:43.876934Z"
    }
   },
   "outputs": [],
   "source": [
    "try:\n",
    "    adata.rename_categories('louvain', new_cluster_names)\n",
    "except:\n",
    "    print(\"new cluster names not defined for this dataset\")"
   ]
  },
  {
   "cell_type": "code",
   "execution_count": null,
   "metadata": {},
   "outputs": [],
   "source": [
    "adata.obs.louvain = [ i.split('_')[0] for i in adata.obs.louvain]\n",
    "\n",
    "del adata.uns['louvain_colors']"
   ]
  },
  {
   "cell_type": "code",
   "execution_count": null,
   "metadata": {
    "ExecuteTime": {
     "end_time": "2019-09-11T15:43:44.586463Z",
     "start_time": "2019-09-11T15:43:44.111633Z"
    }
   },
   "outputs": [],
   "source": [
    "sc.pl.umap(adata, color='louvain', legend_loc='on data', title='', frameon=False)"
   ]
  },
  {
   "cell_type": "code",
   "execution_count": null,
   "metadata": {
    "ExecuteTime": {
     "end_time": "2019-09-11T15:43:49.573052Z",
     "start_time": "2019-09-11T15:43:44.804109Z"
    }
   },
   "outputs": [],
   "source": [
    "adata.write_h5ad(results_file, compression='gzip')"
   ]
  },
  {
   "cell_type": "code",
   "execution_count": null,
   "metadata": {
    "ExecuteTime": {
     "end_time": "2019-09-20T15:37:23.657316Z",
     "start_time": "2019-09-20T15:37:23.635942Z"
    }
   },
   "outputs": [],
   "source": [
    "# export file in TFRecords format\n",
    "\n",
    "sys.path.append('../src')\n",
    "from utils import export_to_tfrecord\n",
    "\n",
    "export_to_tfrecord(results_file2, adata)"
   ]
  },
  {
   "cell_type": "code",
   "execution_count": null,
   "metadata": {
    "ExecuteTime": {
     "end_time": "2019-09-11T15:43:54.229268Z",
     "start_time": "2019-09-11T15:43:54.224016Z"
    }
   },
   "outputs": [],
   "source": [
    "adata"
   ]
  },
  {
   "cell_type": "code",
   "execution_count": null,
   "metadata": {},
   "outputs": [],
   "source": []
  }
 ],
 "metadata": {
  "kernelspec": {
   "display_name": "Python 3",
   "language": "python",
   "name": "python3"
  },
  "language_info": {
   "codemirror_mode": {
    "name": "ipython",
    "version": 3
   },
   "file_extension": ".py",
   "mimetype": "text/x-python",
   "name": "python",
   "nbconvert_exporter": "python",
   "pygments_lexer": "ipython3",
   "version": "3.7.3"
  },
  "toc": {
   "base_numbering": 1,
   "nav_menu": {},
   "number_sections": true,
   "sideBar": true,
   "skip_h1_title": false,
   "title_cell": "Table of Contents",
   "title_sidebar": "Contents",
   "toc_cell": false,
   "toc_position": {},
   "toc_section_display": true,
   "toc_window_display": true
  },
  "varInspector": {
   "cols": {
    "lenName": 16,
    "lenType": 16,
    "lenVar": 40
   },
   "kernels_config": {
    "python": {
     "delete_cmd_postfix": "",
     "delete_cmd_prefix": "del ",
     "library": "var_list.py",
     "varRefreshCmd": "print(var_dic_list())"
    },
    "r": {
     "delete_cmd_postfix": ") ",
     "delete_cmd_prefix": "rm(",
     "library": "var_list.r",
     "varRefreshCmd": "cat(var_dic_list()) "
    }
   },
   "types_to_exclude": [
    "module",
    "function",
    "builtin_function_or_method",
    "instance",
    "_Feature"
   ],
   "window_display": false
  }
 },
 "nbformat": 4,
 "nbformat_minor": 2
}
