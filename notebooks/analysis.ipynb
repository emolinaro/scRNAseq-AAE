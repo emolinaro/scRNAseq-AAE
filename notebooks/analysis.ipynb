{
 "cells": [
  {
   "cell_type": "markdown",
   "metadata": {},
   "source": [
    "# Clustering analysis on 10k PBMC data"
   ]
  },
  {
   "cell_type": "code",
   "execution_count": null,
   "metadata": {
    "ExecuteTime": {
     "end_time": "2019-09-06T14:04:12.573168Z",
     "start_time": "2019-09-06T14:04:06.955016Z"
    },
    "hide_input": false
   },
   "outputs": [],
   "source": [
    "# from keras.utils.vis_utils import model_to_dot\n",
    "from tensorflow.keras.utils import plot_model\n",
    "\n",
    "from sklearn.preprocessing import StandardScaler, LabelEncoder\n",
    "from sklearn.decomposition import PCA\n",
    "\n",
    "import matplotlib.pyplot as plt\n",
    "import os, sys\n",
    "\n",
    "sys.path.append('../src')\n",
    "\n",
    "from imp import load_source\n",
    "from models import *"
   ]
  },
  {
   "cell_type": "code",
   "execution_count": null,
   "metadata": {
    "ExecuteTime": {
     "end_time": "2019-09-06T14:04:17.902784Z",
     "start_time": "2019-09-06T14:04:17.900358Z"
    }
   },
   "outputs": [],
   "source": [
    "import warnings\n",
    "warnings.filterwarnings(\"ignore\")"
   ]
  },
  {
   "cell_type": "code",
   "execution_count": null,
   "metadata": {
    "ExecuteTime": {
     "end_time": "2019-09-06T20:57:31.909057Z",
     "start_time": "2019-09-06T20:57:30.188470Z"
    }
   },
   "outputs": [],
   "source": [
    "from tensorflow.python.util import deprecation\n",
    "deprecation._PRINT_DEPRECATION_WARNINGS = False"
   ]
  },
  {
   "cell_type": "markdown",
   "metadata": {
    "heading_collapsed": true
   },
   "source": [
    "## Adversarial Autoencoder: Basic Architecture"
   ]
  },
  {
   "cell_type": "markdown",
   "metadata": {
    "ExecuteTime": {
     "end_time": "2019-07-30T10:02:28.158025Z",
     "start_time": "2019-07-30T10:02:28.154496Z"
    },
    "hidden": true
   },
   "source": [
    "<img src=\"img/adversarial_autoencoder_model.png\" width=\"800px\" style=\"float:center\" >"
   ]
  },
  {
   "cell_type": "markdown",
   "metadata": {
    "hidden": true
   },
   "source": [
    "### Build the model"
   ]
  },
  {
   "cell_type": "code",
   "execution_count": null,
   "metadata": {
    "ExecuteTime": {
     "end_time": "2019-09-06T13:30:37.876891Z",
     "start_time": "2019-09-06T13:30:37.873624Z"
    },
    "hidden": true
   },
   "outputs": [],
   "source": [
    "# Network parameters\n",
    "parameters = {\n",
    "    'latent_dim': 10,\n",
    "    'layers_enc_dim': [200, 100, 50, 30],\n",
    "    'layers_dec_dim': [30, 50, 100, 200],\n",
    "    'layers_dis_dim': [200, 100, 50, 30],\n",
    "    'batch_size': 35,\n",
    "    'epochs': 5 #200\n",
    "}"
   ]
  },
  {
   "cell_type": "code",
   "execution_count": null,
   "metadata": {
    "ExecuteTime": {
     "end_time": "2019-09-06T13:30:39.090245Z",
     "start_time": "2019-09-06T13:30:39.087438Z"
    },
    "hidden": true
   },
   "outputs": [],
   "source": [
    "model = AAE1(**parameters)"
   ]
  },
  {
   "cell_type": "code",
   "execution_count": null,
   "metadata": {
    "ExecuteTime": {
     "end_time": "2019-09-06T12:55:09.534509Z",
     "start_time": "2019-09-06T12:55:07.281403Z"
    },
    "hidden": true
   },
   "outputs": [],
   "source": [
    "# Import dataset\n",
    "\n",
    "data_path = '../data/proc/pbmc10k.h5ad'\n",
    "\n",
    "model.load_data(data_path)"
   ]
  },
  {
   "cell_type": "code",
   "execution_count": null,
   "metadata": {
    "ExecuteTime": {
     "end_time": "2019-09-06T12:55:12.497364Z",
     "start_time": "2019-09-06T12:55:12.113965Z"
    },
    "hidden": true
   },
   "outputs": [],
   "source": [
    "# Rescale gene expression data\n",
    "\n",
    "model.rescale_data()"
   ]
  },
  {
   "cell_type": "code",
   "execution_count": null,
   "metadata": {
    "ExecuteTime": {
     "end_time": "2019-09-06T12:55:15.745590Z",
     "start_time": "2019-09-06T12:55:13.790608Z"
    },
    "hidden": true
   },
   "outputs": [],
   "source": [
    "# Build the full model\n",
    "\n",
    "model.build_model()"
   ]
  },
  {
   "cell_type": "code",
   "execution_count": null,
   "metadata": {
    "ExecuteTime": {
     "end_time": "2019-09-06T12:55:16.981304Z",
     "start_time": "2019-09-06T12:55:16.965278Z"
    },
    "hidden": true,
    "scrolled": true
   },
   "outputs": [],
   "source": [
    "# Show network hyper-parameters\n",
    "\n",
    "print(\"List of Network parameters\")\n",
    "model.get_parameters()"
   ]
  },
  {
   "cell_type": "code",
   "execution_count": null,
   "metadata": {
    "ExecuteTime": {
     "end_time": "2019-09-06T12:55:18.335236Z",
     "start_time": "2019-09-06T12:55:18.303199Z"
    },
    "hidden": true,
    "scrolled": true
   },
   "outputs": [],
   "source": [
    "# Model summary\n",
    "\n",
    "model.get_summary()"
   ]
  },
  {
   "cell_type": "code",
   "execution_count": null,
   "metadata": {
    "ExecuteTime": {
     "end_time": "2019-09-06T12:55:20.202215Z",
     "start_time": "2019-09-06T12:55:19.346938Z"
    },
    "hidden": true
   },
   "outputs": [],
   "source": [
    "# Export model graphs\n",
    "\n",
    "log_dir = '../results/AAE1/PBMC10k/'\n",
    "os.makedirs(log_dir + 'graphs', exist_ok=True)\n",
    "model.export_graph('../results/AAE1/PBMC10k/graphs')"
   ]
  },
  {
   "cell_type": "markdown",
   "metadata": {
    "heading_collapsed": true,
    "hidden": true
   },
   "source": [
    "### Visualize graphs"
   ]
  },
  {
   "cell_type": "markdown",
   "metadata": {
    "ExecuteTime": {
     "end_time": "2019-09-05T16:51:38.875223Z",
     "start_time": "2019-09-05T16:51:38.872254Z"
    },
    "hidden": true
   },
   "source": [
    "[ENCODER](../results/AAE1/PBMC10k/graphs/encoder.png)"
   ]
  },
  {
   "cell_type": "markdown",
   "metadata": {
    "hidden": true
   },
   "source": [
    "[DECODER](../results/AAE1/PBMC10k/graphs/decoder.png)"
   ]
  },
  {
   "cell_type": "markdown",
   "metadata": {
    "hidden": true
   },
   "source": [
    "[DISCRIMINATOR](../results/AAE1/PBMC10k/graphs/discriminator.png)"
   ]
  },
  {
   "cell_type": "markdown",
   "metadata": {
    "hidden": true
   },
   "source": [
    "[AUTOENCODER](../results/AAE1/PBMC10k/graphs/autoencoder.png)"
   ]
  },
  {
   "cell_type": "markdown",
   "metadata": {
    "heading_collapsed": true,
    "hidden": true
   },
   "source": [
    "### Train the model"
   ]
  },
  {
   "cell_type": "code",
   "execution_count": null,
   "metadata": {
    "ExecuteTime": {
     "end_time": "2019-09-06T13:30:29.844322Z",
     "start_time": "2019-09-06T13:30:28.564095Z"
    },
    "hidden": true
   },
   "outputs": [],
   "source": [
    "# graph=True to show the data points in the 2-D latent space\n",
    "\n",
    "log_dir = '../results/AAE1/PBMC10k/'\n",
    "os.makedirs(log_dir, exist_ok=True)\n",
    "\n",
    "GENE = 'CST3' # used only for training visualization \n",
    "\n",
    "rec_loss, dis_loss = model.train(graph=True, gene=GENE, log_dir=log_dir)"
   ]
  },
  {
   "cell_type": "markdown",
   "metadata": {
    "ExecuteTime": {
     "start_time": "2019-08-26T11:49:43.875Z"
    },
    "hidden": true
   },
   "source": [
    "!tensorboard --logdir=../results/AAE1/PBMC10k/"
   ]
  },
  {
   "cell_type": "code",
   "execution_count": null,
   "metadata": {
    "ExecuteTime": {
     "end_time": "2019-09-06T12:57:36.764294Z",
     "start_time": "2019-09-06T12:57:36.511297Z"
    },
    "hidden": true,
    "scrolled": false
   },
   "outputs": [],
   "source": [
    "# Plot training loss values\n",
    "steps = int(len(model.data)/model.batch_size)\n",
    "\n",
    "plt.figure(figsize=(8, 6))\n",
    "axes = plt.gca()\n",
    "plt.plot(rec_loss[::steps])\n",
    "plt.plot(dis_loss[::steps])\n",
    "plt.ylabel('Loss')\n",
    "plt.xlabel('Epoch')\n",
    "plt.legend(['Autoencoder', 'Discriminator'], loc='upper right')\n",
    "plt.show()"
   ]
  },
  {
   "cell_type": "code",
   "execution_count": null,
   "metadata": {
    "ExecuteTime": {
     "end_time": "2019-08-26T11:33:40.926196Z",
     "start_time": "2019-08-26T11:33:04.337921Z"
    },
    "hidden": true
   },
   "outputs": [],
   "source": [
    "GENE_LIST = ['CST3', 'NKG7', 'PPBP']\n",
    "model.plot_umap(gene_selected=GENE_LIST, louvain=True)"
   ]
  },
  {
   "cell_type": "code",
   "execution_count": null,
   "metadata": {
    "ExecuteTime": {
     "end_time": "2019-09-06T12:59:30.772650Z",
     "start_time": "2019-09-06T12:59:08.480200Z"
    },
    "hidden": true
   },
   "outputs": [],
   "source": [
    "from tensorflow.keras.models import load_model\n",
    "from sklearn.metrics import adjusted_rand_score\n",
    "from sklearn.metrics.cluster import adjusted_mutual_info_score\n",
    "\n",
    "log_dir = '../results/AAE1/PBMC10k/'\n",
    "model.encoder = load_model(log_dir + 'models/encoder.h5')\n",
    "\n",
    "labels_true = model.labels\n",
    "\n",
    "model.update_labels(res=0.6)\n",
    "labels_pred = model.labels\n",
    "\n",
    "GENE_LIST = ['CST3']\n",
    "model.plot_umap(gene_selected=GENE_LIST, louvain=True)\n",
    "\n",
    "print(\"ARI = {}\".format(adjusted_rand_score(labels_true, labels_pred)))\n",
    "print(\"AMI = {}\".format(adjusted_mutual_info_score(labels_true, labels_pred)))"
   ]
  },
  {
   "cell_type": "markdown",
   "metadata": {
    "heading_collapsed": true
   },
   "source": [
    "## Unsupervised Adversarial Autoencoder: Setting Number of Clusters"
   ]
  },
  {
   "cell_type": "markdown",
   "metadata": {
    "heading_collapsed": true,
    "hidden": true
   },
   "source": [
    "### Build the model"
   ]
  },
  {
   "cell_type": "code",
   "execution_count": null,
   "metadata": {
    "ExecuteTime": {
     "end_time": "2019-09-06T14:04:25.840837Z",
     "start_time": "2019-09-06T14:04:25.835715Z"
    },
    "code_folding": [],
    "hidden": true
   },
   "outputs": [],
   "source": [
    "# Network parameters\n",
    "parameters = {\n",
    "    'latent_dim': 10,\n",
    "    'num_clusters': 18,\n",
    "    'layers_enc_dim': [200, 100, 50, 30],\n",
    "    'layers_dec_dim': [30, 50, 100, 200],\n",
    "    'layers_dis_dim': [200, 100, 50, 30],\n",
    "    'layers_dis_cat_dim': [200, 100, 50, 30],\n",
    "    'batch_size': 35,\n",
    "    'epochs': 5, #200,\n",
    "    'tau': 0.05 # temperature parameter\n",
    "}"
   ]
  },
  {
   "cell_type": "code",
   "execution_count": null,
   "metadata": {
    "ExecuteTime": {
     "end_time": "2019-09-06T14:04:28.497758Z",
     "start_time": "2019-09-06T14:04:28.494385Z"
    },
    "hidden": true
   },
   "outputs": [],
   "source": [
    "model = AAE2(**parameters)"
   ]
  },
  {
   "cell_type": "code",
   "execution_count": null,
   "metadata": {
    "ExecuteTime": {
     "end_time": "2019-09-06T14:04:32.420981Z",
     "start_time": "2019-09-06T14:04:30.095037Z"
    },
    "hidden": true
   },
   "outputs": [],
   "source": [
    "# Import dataset\n",
    "\n",
    "data_path = '../data/proc/pbmc10k.h5ad'\n",
    "\n",
    "model.load_data(data_path)"
   ]
  },
  {
   "cell_type": "code",
   "execution_count": null,
   "metadata": {
    "ExecuteTime": {
     "end_time": "2019-09-06T14:04:34.103526Z",
     "start_time": "2019-09-06T14:04:33.740711Z"
    },
    "hidden": true
   },
   "outputs": [],
   "source": [
    "# Rescale gene expression data\n",
    "\n",
    "model.rescale_data()"
   ]
  },
  {
   "cell_type": "code",
   "execution_count": null,
   "metadata": {
    "ExecuteTime": {
     "end_time": "2019-09-06T14:04:38.837795Z",
     "start_time": "2019-09-06T14:04:35.451205Z"
    },
    "hidden": true
   },
   "outputs": [],
   "source": [
    "# Build the full model\n",
    "\n",
    "model.build_model()"
   ]
  },
  {
   "cell_type": "code",
   "execution_count": null,
   "metadata": {
    "ExecuteTime": {
     "end_time": "2019-09-06T14:04:40.221539Z",
     "start_time": "2019-09-06T14:04:40.198566Z"
    },
    "hidden": true,
    "scrolled": true
   },
   "outputs": [],
   "source": [
    "# Show network hyper-parameters\n",
    "\n",
    "print(\"List of Network parameters\")\n",
    "model.get_parameters()"
   ]
  },
  {
   "cell_type": "code",
   "execution_count": null,
   "metadata": {
    "ExecuteTime": {
     "end_time": "2019-09-06T14:04:41.615839Z",
     "start_time": "2019-09-06T14:04:41.555049Z"
    },
    "hidden": true,
    "scrolled": true
   },
   "outputs": [],
   "source": [
    "# Model summary\n",
    "\n",
    "model.get_summary()"
   ]
  },
  {
   "cell_type": "code",
   "execution_count": null,
   "metadata": {
    "ExecuteTime": {
     "end_time": "2019-09-06T14:04:44.171469Z",
     "start_time": "2019-09-06T14:04:43.009104Z"
    },
    "hidden": true
   },
   "outputs": [],
   "source": [
    "# Export model graphs\n",
    "\n",
    "log_dir = '../results/AAE2/PBMC10k/'\n",
    "os.makedirs(log_dir + 'graphs', exist_ok=True)\n",
    "model.export_graph('../results/AAE2/PBMC10k/graphs')"
   ]
  },
  {
   "cell_type": "markdown",
   "metadata": {
    "heading_collapsed": true,
    "hidden": true
   },
   "source": [
    "### Visualize graphs"
   ]
  },
  {
   "cell_type": "markdown",
   "metadata": {
    "ExecuteTime": {
     "end_time": "2019-09-05T16:51:38.875223Z",
     "start_time": "2019-09-05T16:51:38.872254Z"
    },
    "hidden": true
   },
   "source": [
    "[ENCODER](../results/AAE2/PBMC10k/graphs/encoder.png)"
   ]
  },
  {
   "cell_type": "markdown",
   "metadata": {
    "hidden": true
   },
   "source": [
    "[DECODER](../results/AAE2/PBMC10k/graphs/decoder.png)"
   ]
  },
  {
   "cell_type": "markdown",
   "metadata": {
    "hidden": true
   },
   "source": [
    "[DISCRIMINATOR](../results/AAE2/PBMC10k/graphs/discriminator.png)"
   ]
  },
  {
   "cell_type": "markdown",
   "metadata": {
    "hidden": true
   },
   "source": [
    "[AUTOENCODER](../results/AAE2/PBMC10k/graphs/autoencoder.png)"
   ]
  },
  {
   "cell_type": "markdown",
   "metadata": {
    "heading_collapsed": true,
    "hidden": true
   },
   "source": [
    "### Train the model\n"
   ]
  },
  {
   "cell_type": "code",
   "execution_count": null,
   "metadata": {
    "ExecuteTime": {
     "end_time": "2019-09-06T14:07:25.553177Z",
     "start_time": "2019-09-06T14:04:45.430089Z"
    },
    "hidden": true
   },
   "outputs": [],
   "source": [
    "# graph=True to show the data points in the 2-D latent space\n",
    "\n",
    "log_dir = '../results/AAE2/PBMC10k/'\n",
    "os.makedirs(log_dir, exist_ok=True)\n",
    "\n",
    "GENE = 'CST3' # used only for training visualization \n",
    "\n",
    "rec_loss, dis_loss, dis_cat_loss = model.train(graph=True, gene=GENE, log_dir=log_dir)"
   ]
  },
  {
   "cell_type": "code",
   "execution_count": null,
   "metadata": {
    "hidden": true
   },
   "outputs": [],
   "source": [
    "#!tensorboard --logdir=../results/AAE5/PBMC10k/"
   ]
  },
  {
   "cell_type": "code",
   "execution_count": null,
   "metadata": {
    "ExecuteTime": {
     "end_time": "2019-09-06T14:07:40.486820Z",
     "start_time": "2019-09-06T14:07:40.222426Z"
    },
    "hidden": true
   },
   "outputs": [],
   "source": [
    "# Plot training loss values\n",
    "steps = int(len(model.data)/model.batch_size)\n",
    "\n",
    "\n",
    "plt.figure(figsize=(8, 6))\n",
    "axes = plt.gca()\n",
    "plt.plot(rec_loss[::steps])\n",
    "plt.plot(dis_loss[::steps])\n",
    "plt.plot(dis_cat_loss[::steps])\n",
    "plt.ylabel('Loss')\n",
    "plt.xlabel('Epoch')\n",
    "plt.legend(['Reconstruction', 'Discriminator', 'Cat. Discriminator'], \n",
    "           loc='upper right')\n",
    "plt.show()"
   ]
  },
  {
   "cell_type": "code",
   "execution_count": null,
   "metadata": {
    "ExecuteTime": {
     "end_time": "2019-08-26T10:15:21.684116Z",
     "start_time": "2019-08-26T10:15:04.629109Z"
    },
    "hidden": true
   },
   "outputs": [],
   "source": [
    "GENE_LIST = ['CST3', 'NKG7', 'PPBP']\n",
    "model.plot_umap(gene_selected=GENE_LIST, louvain=True)"
   ]
  },
  {
   "cell_type": "code",
   "execution_count": null,
   "metadata": {
    "ExecuteTime": {
     "end_time": "2019-09-06T14:08:19.347766Z",
     "start_time": "2019-09-06T14:07:58.469423Z"
    },
    "hidden": true
   },
   "outputs": [],
   "source": [
    "from tensorflow.keras.models import load_model\n",
    "from sklearn.metrics import adjusted_rand_score\n",
    "from sklearn.metrics.cluster import adjusted_mutual_info_score\n",
    "\n",
    "# BUG: currently loading a model with multiple outpus generates an AttributeError\n",
    "# log_dir = '../results/AAE2/PBMC10k/'\n",
    "# model.encoder = load_model(log_dir + 'models/encoder.h5')\n",
    "\n",
    "labels_true = model.labels\n",
    "\n",
    "model.update_labels(res=0.6)\n",
    "labels_pred = model.labels\n",
    "\n",
    "GENE_LIST = ['CST3']\n",
    "model.plot_umap(gene_selected=GENE_LIST, louvain=True)\n",
    "\n",
    "print(\"ARI = {}\".format(adjusted_rand_score(labels_true, labels_pred)))\n",
    "print(\"AMI = {}\".format(adjusted_mutual_info_score(labels_true, labels_pred)))"
   ]
  },
  {
   "cell_type": "markdown",
   "metadata": {
    "heading_collapsed": true
   },
   "source": [
    "## Variational Autoencoder"
   ]
  },
  {
   "cell_type": "markdown",
   "metadata": {
    "hidden": true
   },
   "source": [
    "<img src=\"img/variational_autoencoder_model.png\" width=\"800px\" style=\"float:center\">"
   ]
  },
  {
   "cell_type": "markdown",
   "metadata": {
    "hidden": true
   },
   "source": [
    "### Build the model"
   ]
  },
  {
   "cell_type": "code",
   "execution_count": null,
   "metadata": {
    "ExecuteTime": {
     "end_time": "2019-09-05T16:59:10.639721Z",
     "start_time": "2019-09-05T16:59:10.635913Z"
    },
    "hidden": true
   },
   "outputs": [],
   "source": [
    "# Network parameters\n",
    "parameters = {\n",
    "    'latent_dim': 10,\n",
    "    'layers_enc_dim': [200, 100, 50, 30],\n",
    "    'layers_dec_dim': [30, 50, 100, 200],\n",
    "    'batch_size': 35,\n",
    "    'epochs': 5 #500\n",
    "}"
   ]
  },
  {
   "cell_type": "code",
   "execution_count": null,
   "metadata": {
    "ExecuteTime": {
     "end_time": "2019-09-05T16:59:13.281110Z",
     "start_time": "2019-09-05T16:59:13.276683Z"
    },
    "hidden": true
   },
   "outputs": [],
   "source": [
    "model = VAE(**parameters)"
   ]
  },
  {
   "cell_type": "code",
   "execution_count": null,
   "metadata": {
    "ExecuteTime": {
     "end_time": "2019-09-05T16:59:18.617710Z",
     "start_time": "2019-09-05T16:59:16.410086Z"
    },
    "hidden": true
   },
   "outputs": [],
   "source": [
    "# Import dataset\n",
    "\n",
    "data_path = '../data/proc/pbmc10k.h5ad'\n",
    "\n",
    "model.load_data(data_path)"
   ]
  },
  {
   "cell_type": "code",
   "execution_count": null,
   "metadata": {
    "ExecuteTime": {
     "end_time": "2019-09-05T16:59:20.247643Z",
     "start_time": "2019-09-05T16:59:19.825659Z"
    },
    "hidden": true
   },
   "outputs": [],
   "source": [
    "# Rescale gene expression data\n",
    "\n",
    "model.rescale_data()"
   ]
  },
  {
   "cell_type": "code",
   "execution_count": null,
   "metadata": {
    "ExecuteTime": {
     "end_time": "2019-09-05T16:59:23.245362Z",
     "start_time": "2019-09-05T16:59:23.229960Z"
    },
    "hidden": true,
    "scrolled": true
   },
   "outputs": [],
   "source": [
    "# Show network hyper-parameters\n",
    "\n",
    "print(\"List of Network parameters\")\n",
    "model.get_parameters()"
   ]
  },
  {
   "cell_type": "code",
   "execution_count": null,
   "metadata": {
    "ExecuteTime": {
     "end_time": "2019-09-05T16:59:27.170894Z",
     "start_time": "2019-09-05T16:59:24.532479Z"
    },
    "hidden": true
   },
   "outputs": [],
   "source": [
    "# Build the full model\n",
    "\n",
    "model.build_model()"
   ]
  },
  {
   "cell_type": "code",
   "execution_count": null,
   "metadata": {
    "ExecuteTime": {
     "end_time": "2019-09-05T16:59:28.492758Z",
     "start_time": "2019-09-05T16:59:28.444725Z"
    },
    "hidden": true,
    "scrolled": true
   },
   "outputs": [],
   "source": [
    "# Model summary\n",
    "\n",
    "model.get_summary()"
   ]
  },
  {
   "cell_type": "code",
   "execution_count": null,
   "metadata": {
    "ExecuteTime": {
     "end_time": "2019-09-05T16:59:30.343696Z",
     "start_time": "2019-09-05T16:59:29.639243Z"
    },
    "hidden": true,
    "scrolled": true
   },
   "outputs": [],
   "source": [
    "# Export model graphs\n",
    "\n",
    "log_dir = '../results/VAE/PBMC10k/'\n",
    "os.makedirs(log_dir + 'graphs', exist_ok=True)\n",
    "model.export_graph('../results/VAE/PBMC10k/graphs')"
   ]
  },
  {
   "cell_type": "markdown",
   "metadata": {
    "hidden": true
   },
   "source": [
    "### Visualize graphs"
   ]
  },
  {
   "cell_type": "markdown",
   "metadata": {
    "ExecuteTime": {
     "end_time": "2019-09-05T16:52:21.890032Z",
     "start_time": "2019-09-05T16:52:21.754626Z"
    },
    "hidden": true
   },
   "source": [
    "[ENCODER](../results/VAE/PBMC10k/graphs/encoder.png)"
   ]
  },
  {
   "cell_type": "markdown",
   "metadata": {
    "hidden": true
   },
   "source": [
    "[DECODER](../results/VAE/PBMC10k/graphs/decoder.png)"
   ]
  },
  {
   "cell_type": "markdown",
   "metadata": {
    "hidden": true
   },
   "source": [
    "[AUTOENCODER](../results/VAE/PBMC10k/graphs/autoencoder.png)"
   ]
  },
  {
   "cell_type": "markdown",
   "metadata": {
    "heading_collapsed": true,
    "hidden": true
   },
   "source": [
    "### Train the model"
   ]
  },
  {
   "cell_type": "code",
   "execution_count": null,
   "metadata": {
    "ExecuteTime": {
     "end_time": "2019-09-05T16:20:09.489283Z",
     "start_time": "2019-09-05T16:19:48.667145Z"
    },
    "hidden": true
   },
   "outputs": [],
   "source": [
    "# Training...\n",
    "\n",
    "log_dir = '../results/VAE/PBMC10k/'\n",
    "os.makedirs(log_dir, exist_ok=True)\n",
    "\n",
    "loss, val_loss = model.train(val_split=0.2, log_dir=log_dir)"
   ]
  },
  {
   "cell_type": "code",
   "execution_count": null,
   "metadata": {
    "ExecuteTime": {
     "start_time": "2019-08-22T16:39:03.965Z"
    },
    "hidden": true
   },
   "outputs": [],
   "source": [
    "# !tensorboard --logdir=../results/VAE/PBMC10k/"
   ]
  },
  {
   "cell_type": "code",
   "execution_count": null,
   "metadata": {
    "ExecuteTime": {
     "end_time": "2019-09-05T13:52:36.909474Z",
     "start_time": "2019-09-05T13:52:36.607681Z"
    },
    "hidden": true
   },
   "outputs": [],
   "source": [
    "# Plot training & validation loss values\n",
    "\n",
    "plt.figure(figsize=(8, 6))\n",
    "axes = plt.gca()\n",
    "plt.plot(loss)\n",
    "plt.plot(val_loss)\n",
    "plt.ylabel('Loss')\n",
    "plt.xlabel('Epoch')\n",
    "plt.legend(['Train', 'Validation'], loc='upper right')\n",
    "plt.show()"
   ]
  },
  {
   "cell_type": "code",
   "execution_count": null,
   "metadata": {
    "ExecuteTime": {
     "end_time": "2019-09-05T13:53:03.725095Z",
     "start_time": "2019-09-05T13:52:40.689764Z"
    },
    "hidden": true
   },
   "outputs": [],
   "source": [
    "gene_list = ['CST3', 'NKG7', 'PPBP']\n",
    "model.plot_umap(gene_selected=gene_list, louvain=True)"
   ]
  },
  {
   "cell_type": "code",
   "execution_count": null,
   "metadata": {
    "ExecuteTime": {
     "end_time": "2019-09-05T13:20:31.418426Z",
     "start_time": "2019-09-05T13:20:09.227218Z"
    },
    "hidden": true
   },
   "outputs": [],
   "source": [
    "from tensorflow.keras.models import load_model\n",
    "\n",
    "log_dir = '../results/VAE/PBMC10k/'\n",
    "model.encoder = load_model(log_dir + 'models/encoder.h5')\n",
    "\n",
    "model.update_labels(res=0.6)\n",
    "\n",
    "GENE_LIST = ['CST3']\n",
    "model.plot_umap(gene_selected=GENE_LIST, louvain=True)"
   ]
  },
  {
   "cell_type": "code",
   "execution_count": null,
   "metadata": {
    "hidden": true
   },
   "outputs": [],
   "source": []
  }
 ],
 "metadata": {
  "kernelspec": {
   "display_name": "Python 3",
   "language": "python",
   "name": "python3"
  },
  "language_info": {
   "codemirror_mode": {
    "name": "ipython",
    "version": 3
   },
   "file_extension": ".py",
   "mimetype": "text/x-python",
   "name": "python",
   "nbconvert_exporter": "python",
   "pygments_lexer": "ipython3",
   "version": "3.7.3"
  },
  "toc": {
   "base_numbering": 1,
   "nav_menu": {},
   "number_sections": true,
   "sideBar": true,
   "skip_h1_title": false,
   "title_cell": "Table of Contents",
   "title_sidebar": "Contents",
   "toc_cell": false,
   "toc_position": {
    "height": "calc(100% - 180px)",
    "left": "10px",
    "top": "150px",
    "width": "366.188px"
   },
   "toc_section_display": true,
   "toc_window_display": true
  },
  "varInspector": {
   "cols": {
    "lenName": 16,
    "lenType": 16,
    "lenVar": 40
   },
   "kernels_config": {
    "python": {
     "delete_cmd_postfix": "",
     "delete_cmd_prefix": "del ",
     "library": "var_list.py",
     "varRefreshCmd": "print(var_dic_list())"
    },
    "r": {
     "delete_cmd_postfix": ") ",
     "delete_cmd_prefix": "rm(",
     "library": "var_list.r",
     "varRefreshCmd": "cat(var_dic_list()) "
    }
   },
   "oldHeight": 534,
   "position": {
    "height": "556px",
    "left": "842px",
    "right": "20px",
    "top": "117px",
    "width": "667px"
   },
   "types_to_exclude": [
    "module",
    "function",
    "builtin_function_or_method",
    "instance",
    "_Feature"
   ],
   "varInspector_section_display": "block",
   "window_display": false
  }
 },
 "nbformat": 4,
 "nbformat_minor": 2
}
