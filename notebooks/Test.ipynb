{
 "cells": [
  {
   "cell_type": "code",
   "execution_count": 13,
   "metadata": {},
   "outputs": [
    {
     "data": {
      "text/plain": [
       "'/Users/palessandro/Documents/GitHub/scRNAseq-AAE'"
      ]
     },
     "execution_count": 13,
     "metadata": {},
     "output_type": "execute_result"
    }
   ],
   "source": [
    "%pwd"
   ]
  },
  {
   "cell_type": "code",
   "execution_count": 14,
   "metadata": {},
   "outputs": [
    {
     "name": "stdout",
     "output_type": "stream",
     "text": [
      "[Errno 2] No such file or directory: 'Documents/GitHub/scRNAseq-AAE/'\n",
      "/Users/palessandro/Documents/GitHub/scRNAseq-AAE\n"
     ]
    }
   ],
   "source": [
    "%cd Documents/GitHub/scRNAseq-AAE/"
   ]
  },
  {
   "cell_type": "code",
   "execution_count": 10,
   "metadata": {},
   "outputs": [],
   "source": [
    "import scanpy as sc\n",
    "import numpy as np\n",
    "import os, sys\n",
    "\n",
    "os.makedirs('../scRNAseq-AAE/data', exist_ok=True)\n",
    "os.makedirs('../scRNAseq-AAE/data/proc', exist_ok=True)"
   ]
  },
  {
   "cell_type": "code",
   "execution_count": 12,
   "metadata": {},
   "outputs": [
    {
     "name": "stdout",
     "output_type": "stream",
     "text": [
      "--2020-09-07 09:20:07--  http://cf.10xgenomics.com/samples/cell-exp/1.1.0/pbmc3k/pbmc3k_filtered_gene_bc_matrices.tar.gz\n",
      "Resolving cf.10xgenomics.com (cf.10xgenomics.com)... 104.18.0.173, 104.18.1.173\n",
      "Connecting to cf.10xgenomics.com (cf.10xgenomics.com)|104.18.0.173|:80... connected.\n",
      "HTTP request sent, awaiting response... 301 Moved Permanently\n",
      "Location: https://cf.10xgenomics.com/samples/cell-exp/1.1.0/pbmc3k/pbmc3k_filtered_gene_bc_matrices.tar.gz [following]\n",
      "--2020-09-07 09:20:07--  https://cf.10xgenomics.com/samples/cell-exp/1.1.0/pbmc3k/pbmc3k_filtered_gene_bc_matrices.tar.gz\n",
      "Connecting to cf.10xgenomics.com (cf.10xgenomics.com)|104.18.0.173|:443... connected.\n",
      "HTTP request sent, awaiting response... 200 OK\n",
      "Length: 7621991 (7,3M) [application/x-tar]\n",
      "Saving to: ‘../scRNAseq-AAE/data/pbmc3k/pbmc3k_filtered_gene_bc_matrices.tar.gz’\n",
      "\n",
      "../scRNAseq-AAE/dat 100%[===================>]   7,27M  4,75MB/s    in 1,5s    \n",
      "\n",
      "2020-09-07 09:20:09 (4,75 MB/s) - ‘../scRNAseq-AAE/data/pbmc3k/pbmc3k_filtered_gene_bc_matrices.tar.gz’ saved [7621991/7621991]\n",
      "\n"
     ]
    }
   ],
   "source": [
    "os.makedirs('../scRNAseq-AAE/data/pbmc3k/', exist_ok=True)\n",
    "!wget http://cf.10xgenomics.com/samples/cell-exp/1.1.0/pbmc3k/pbmc3k_filtered_gene_bc_matrices.tar.gz -O ../scRNAseq-AAE/data/pbmc3k/pbmc3k_filtered_gene_bc_matrices.tar.gz\n",
    "!cd ../scRNAseq-AAE/data/pbmc3k/; tar -xzf pbmc3k_filtered_gene_bc_matrices.tar.gz; rm pbmc3k_filtered_gene_bc_matrices.tar.gz"
   ]
  },
  {
   "cell_type": "code",
   "execution_count": 15,
   "metadata": {},
   "outputs": [],
   "source": [
    "data_path = '../scRNAseq-AAE/data/pbmc3k/filtered_gene_bc_matrices/hg19'\n",
    "results_file = '../scRNAseq-AAE/data/proc/pbmc3k.h5ad'\n",
    "results_file2 = '../scRNAseq-AAE/data/proc/pbmc3k.tfrecord'"
   ]
  },
  {
   "cell_type": "code",
   "execution_count": 16,
   "metadata": {},
   "outputs": [],
   "source": [
    "gene_up = 2500\n",
    "percent_mito_up = 0.05\n",
    "n_pcs = 40\n",
    "resolution = 1.0"
   ]
  },
  {
   "cell_type": "code",
   "execution_count": 17,
   "metadata": {},
   "outputs": [],
   "source": [
    "marker_genes = ['IL7R', 'CD79A', 'MS4A1', 'CD8A', 'CD8B', 'LYZ', 'CD14',\n",
    "                'LGALS3', 'S100A8', 'GNLY', 'NKG7', 'KLRB1',\n",
    "                'FCGR3A', 'MS4A7', 'FCER1A', 'CST3', 'PPBP']"
   ]
  },
  {
   "cell_type": "code",
   "execution_count": 18,
   "metadata": {},
   "outputs": [],
   "source": [
    "new_cluster_names = [\n",
    "    'CD4 T', 'CD14+ Monocytes',\n",
    "    'B', 'CD8 T',\n",
    "    'NK', 'FCGR3A+ Monocytes',\n",
    "    'Dendritic', 'Megakaryocytes']"
   ]
  },
  {
   "cell_type": "code",
   "execution_count": 9,
   "metadata": {},
   "outputs": [],
   "source": [
    "from keras.utils.vis_utils import model_to_dot\n",
    "\n",
    "import tensorflow as tf\n",
    "from tensorflow.keras.utils import plot_model\n",
    "\n",
    "from sklearn.preprocessing import StandardScaler, LabelEncoder\n",
    "from sklearn.decomposition import PCA\n",
    "\n",
    "import matplotlib.pyplot as plt\n",
    "import os, sys\n",
    "\n",
    "from imp import load_source\n",
    "from models import *\n",
    "from utils import *\n",
    "\n",
    "try:\n",
    "    tf.enable_eager_execution()\n",
    "except:\n",
    "    pass\n",
    "\n",
    "tf.executing_eagerly()\n",
    "tf.random.set_seed(32)"
   ]
  },
  {
   "cell_type": "code",
   "execution_count": 10,
   "metadata": {},
   "outputs": [],
   "source": [
    "parameters = {\n",
    "    'latent_dim': 10,\n",
    "    'layers_enc_dim': [200, 100],\n",
    "    'layers_dec_dim': [100, 200],\n",
    "    'layers_dis_dim': [200, 100, 50, 40, 30],\n",
    "    'batch_size': 1000,\n",
    "    'epochs': 30\n",
    "}"
   ]
  },
  {
   "cell_type": "code",
   "execution_count": 11,
   "metadata": {},
   "outputs": [],
   "source": [
    "model = AAE1(**parameters)"
   ]
  },
  {
   "cell_type": "code",
   "execution_count": 12,
   "metadata": {},
   "outputs": [
    {
     "data": {
      "text/html": [
       "<div>\n",
       "<style scoped>\n",
       "    .dataframe tbody tr th:only-of-type {\n",
       "        vertical-align: middle;\n",
       "    }\n",
       "\n",
       "    .dataframe tbody tr th {\n",
       "        vertical-align: top;\n",
       "    }\n",
       "\n",
       "    .dataframe thead th {\n",
       "        text-align: right;\n",
       "    }\n",
       "</style>\n",
       "<table border=\"1\" class=\"dataframe\">\n",
       "  <thead>\n",
       "    <tr style=\"text-align: right;\">\n",
       "      <th></th>\n",
       "      <th>Value</th>\n",
       "      <th>Description</th>\n",
       "    </tr>\n",
       "  </thead>\n",
       "  <tbody>\n",
       "    <tr>\n",
       "      <th>batch_size</th>\n",
       "      <td>1000</td>\n",
       "      <td>batch size</td>\n",
       "    </tr>\n",
       "    <tr>\n",
       "      <th>epochs</th>\n",
       "      <td>30</td>\n",
       "      <td>number of epochs</td>\n",
       "    </tr>\n",
       "    <tr>\n",
       "      <th>alpha</th>\n",
       "      <td>0.1</td>\n",
       "      <td>alpha coeff. in activation function</td>\n",
       "    </tr>\n",
       "    <tr>\n",
       "      <th>do_rate</th>\n",
       "      <td>0.1</td>\n",
       "      <td>dropout rate</td>\n",
       "    </tr>\n",
       "    <tr>\n",
       "      <th>kernel_initializer</th>\n",
       "      <td>glorot_uniform</td>\n",
       "      <td>kernel initializer of all dense layers</td>\n",
       "    </tr>\n",
       "    <tr>\n",
       "      <th>bias_initializer</th>\n",
       "      <td>zeros</td>\n",
       "      <td>bias initializer of all dense layers</td>\n",
       "    </tr>\n",
       "    <tr>\n",
       "      <th>l2_weight</th>\n",
       "      <td>None</td>\n",
       "      <td>weight of l2 kernel regularization</td>\n",
       "    </tr>\n",
       "    <tr>\n",
       "      <th>l1_weight</th>\n",
       "      <td>None</td>\n",
       "      <td>weight of l1 activity regularization</td>\n",
       "    </tr>\n",
       "    <tr>\n",
       "      <th>latent_dim</th>\n",
       "      <td>10</td>\n",
       "      <td>dimension of latent space Z</td>\n",
       "    </tr>\n",
       "    <tr>\n",
       "      <th>layer_1_enc_dim</th>\n",
       "      <td>200</td>\n",
       "      <td>dimension of encoder dense layer 1</td>\n",
       "    </tr>\n",
       "    <tr>\n",
       "      <th>layer_2_enc_dim</th>\n",
       "      <td>100</td>\n",
       "      <td>dimension of encoder dense layer 2</td>\n",
       "    </tr>\n",
       "    <tr>\n",
       "      <th>layer_1_dec_dim</th>\n",
       "      <td>100</td>\n",
       "      <td>dimension of decoder dense layer 1</td>\n",
       "    </tr>\n",
       "    <tr>\n",
       "      <th>layer_2_dec_dim</th>\n",
       "      <td>200</td>\n",
       "      <td>dimension of decoder dense layer 2</td>\n",
       "    </tr>\n",
       "    <tr>\n",
       "      <th>lr_ae</th>\n",
       "      <td>0.0002</td>\n",
       "      <td>learning rate of autoencoder</td>\n",
       "    </tr>\n",
       "    <tr>\n",
       "      <th>dr_ae</th>\n",
       "      <td>1e-06</td>\n",
       "      <td>decay rate of autoencoder</td>\n",
       "    </tr>\n",
       "    <tr>\n",
       "      <th>layer_1_dis_dim</th>\n",
       "      <td>200</td>\n",
       "      <td>dimension of discriminator dense layer 1</td>\n",
       "    </tr>\n",
       "    <tr>\n",
       "      <th>layer_2_dis_dim</th>\n",
       "      <td>100</td>\n",
       "      <td>dimension of discriminator dense layer 2</td>\n",
       "    </tr>\n",
       "    <tr>\n",
       "      <th>layer_3_dis_dim</th>\n",
       "      <td>50</td>\n",
       "      <td>dimension of discriminator dense layer 3</td>\n",
       "    </tr>\n",
       "    <tr>\n",
       "      <th>layer_4_dis_dim</th>\n",
       "      <td>40</td>\n",
       "      <td>dimension of discriminator dense layer 4</td>\n",
       "    </tr>\n",
       "    <tr>\n",
       "      <th>layer_5_dis_dim</th>\n",
       "      <td>30</td>\n",
       "      <td>dimension of discriminator dense layer 5</td>\n",
       "    </tr>\n",
       "    <tr>\n",
       "      <th>lr_dis</th>\n",
       "      <td>0.0001</td>\n",
       "      <td>learning rate of discriminator</td>\n",
       "    </tr>\n",
       "    <tr>\n",
       "      <th>dr_dis</th>\n",
       "      <td>1e-06</td>\n",
       "      <td>decay rate of discriminator</td>\n",
       "    </tr>\n",
       "  </tbody>\n",
       "</table>\n",
       "</div>"
      ],
      "text/plain": [
       "                             Value                               Description\n",
       "batch_size                    1000                                batch size\n",
       "epochs                          30                          number of epochs\n",
       "alpha                          0.1       alpha coeff. in activation function\n",
       "do_rate                        0.1                              dropout rate\n",
       "kernel_initializer  glorot_uniform    kernel initializer of all dense layers\n",
       "bias_initializer             zeros      bias initializer of all dense layers\n",
       "l2_weight                     None        weight of l2 kernel regularization\n",
       "l1_weight                     None      weight of l1 activity regularization\n",
       "latent_dim                      10               dimension of latent space Z\n",
       "layer_1_enc_dim                200        dimension of encoder dense layer 1\n",
       "layer_2_enc_dim                100        dimension of encoder dense layer 2\n",
       "layer_1_dec_dim                100        dimension of decoder dense layer 1\n",
       "layer_2_dec_dim                200        dimension of decoder dense layer 2\n",
       "lr_ae                       0.0002              learning rate of autoencoder\n",
       "dr_ae                        1e-06                 decay rate of autoencoder\n",
       "layer_1_dis_dim                200  dimension of discriminator dense layer 1\n",
       "layer_2_dis_dim                100  dimension of discriminator dense layer 2\n",
       "layer_3_dis_dim                 50  dimension of discriminator dense layer 3\n",
       "layer_4_dis_dim                 40  dimension of discriminator dense layer 4\n",
       "layer_5_dis_dim                 30  dimension of discriminator dense layer 5\n",
       "lr_dis                      0.0001            learning rate of discriminator\n",
       "dr_dis                       1e-06               decay rate of discriminator"
      ]
     },
     "execution_count": 12,
     "metadata": {},
     "output_type": "execute_result"
    }
   ],
   "source": [
    "model.get_parameters()"
   ]
  },
  {
   "cell_type": "code",
   "execution_count": null,
   "metadata": {},
   "outputs": [],
   "source": [
    "os.makedirs('../data', exist_ok=True)\n",
    "os.makedirs('../data/proc', exist_ok=True)\n",
    "os.makedirs('../data/pbmc3k/', exist_ok=True)\n",
    "!wget http://cf.10xgenomics.com/samples/cell-exp/1.1.0/pbmc3k/pbmc3k_filtered_gene_bc_matrices.tar.gz -O ../data/pbmc3k/pbmc3k_filtered_gene_bc_matrices.tar.gz\n",
    "!cd ../data/pbmc3k/; tar -xzf pbmc3k_filtered_gene_bc_matrices.tar.gz; rm pbmc3k_filtered_gene_bc_matrices.tar.gz"
   ]
  },
  {
   "cell_type": "code",
   "execution_count": null,
   "metadata": {},
   "outputs": [],
   "source": [
    "data_path = '../data/pbmc3k/filtered_gene_bc_matrices/hg19'\n",
    "results_file = '../data/proc/pbmc3k.h5ad'\n",
    "results_file2 = '../data/proc/pbmc3k.tfrecord'"
   ]
  },
  {
   "cell_type": "code",
   "execution_count": null,
   "metadata": {},
   "outputs": [],
   "source": [
    "gene_up = 2500\n",
    "percent_mito_up = 0.05\n",
    "n_pcs = 40\n",
    "resolution = 1.0"
   ]
  },
  {
   "cell_type": "code",
   "execution_count": null,
   "metadata": {},
   "outputs": [],
   "source": [
    "marker_genes = ['IL7R', 'CD79A', 'MS4A1', 'CD8A', 'CD8B', 'LYZ', 'CD14',\n",
    "                'LGALS3', 'S100A8', 'GNLY', 'NKG7', 'KLRB1',\n",
    "                'FCGR3A', 'MS4A7', 'FCER1A', 'CST3', 'PPBP']"
   ]
  },
  {
   "cell_type": "code",
   "execution_count": null,
   "metadata": {},
   "outputs": [],
   "source": [
    "new_cluster_names = [\n",
    "    'CD4 T', 'CD14+ Monocytes',\n",
    "    'B', 'CD8 T',\n",
    "    'NK', 'FCGR3A+ Monocytes',\n",
    "    'Dendritic', 'Megakaryocytes']"
   ]
  }
 ],
 "metadata": {
  "kernelspec": {
   "display_name": "Python 3",
   "language": "python",
   "name": "python3"
  },
  "language_info": {
   "codemirror_mode": {
    "name": "ipython",
    "version": 3
   },
   "file_extension": ".py",
   "mimetype": "text/x-python",
   "name": "python",
   "nbconvert_exporter": "python",
   "pygments_lexer": "ipython3",
   "version": "3.7.6"
  }
 },
 "nbformat": 4,
 "nbformat_minor": 4
}
