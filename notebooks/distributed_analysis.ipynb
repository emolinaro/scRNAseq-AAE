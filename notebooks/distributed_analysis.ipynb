{
 "cells": [
  {
   "cell_type": "markdown",
   "metadata": {},
   "source": [
    "# Clustering analysis on 10k PBMC data"
   ]
  },
  {
   "cell_type": "code",
   "execution_count": 1,
   "metadata": {
    "ExecuteTime": {
     "end_time": "2019-09-25T12:19:43.207711Z",
     "start_time": "2019-09-25T12:19:37.620789Z"
    },
    "hide_input": false,
    "scrolled": false
   },
   "outputs": [
    {
     "name": "stderr",
     "output_type": "stream",
     "text": [
      "Using TensorFlow backend.\n"
     ]
    },
    {
     "name": "stdout",
     "output_type": "stream",
     "text": [
      "WARNING:tensorflow:\n",
      "\n",
      "  TensorFlow's `tf-nightly` package will soon be updated to TensorFlow 2.0.\n",
      "\n",
      "  Please upgrade your code to TensorFlow 2.0:\n",
      "    * https://www.tensorflow.org/beta/guide/migration_guide\n",
      "\n",
      "  Or install the latest stable TensorFlow 1.X release:\n",
      "    * `pip install -U \"tensorflow==1.*\"`\n",
      "\n",
      "  Otherwise your code may be broken by the change.\n",
      "\n",
      "  \n"
     ]
    },
    {
     "data": {
      "text/plain": [
       "True"
      ]
     },
     "execution_count": 1,
     "metadata": {},
     "output_type": "execute_result"
    }
   ],
   "source": [
    "from keras.utils.vis_utils import model_to_dot\n",
    "\n",
    "import tensorflow as tf\n",
    "from tensorflow.keras.utils import plot_model\n",
    "\n",
    "from sklearn.preprocessing import StandardScaler, LabelEncoder\n",
    "from sklearn.decomposition import PCA\n",
    "\n",
    "import matplotlib.pyplot as plt\n",
    "import os, sys\n",
    "\n",
    "sys.path.append('../src')\n",
    "\n",
    "from imp import load_source\n",
    "from models import *\n",
    "from utils import *\n",
    "\n",
    "tf.enable_eager_execution()\n",
    "tf.executing_eagerly()"
   ]
  },
  {
   "cell_type": "code",
   "execution_count": 2,
   "metadata": {
    "ExecuteTime": {
     "end_time": "2019-09-25T12:19:45.479903Z",
     "start_time": "2019-09-25T12:19:45.476937Z"
    }
   },
   "outputs": [],
   "source": [
    "import warnings\n",
    "warnings.filterwarnings(\"ignore\")"
   ]
  },
  {
   "cell_type": "code",
   "execution_count": 3,
   "metadata": {
    "ExecuteTime": {
     "end_time": "2019-09-25T12:19:46.098359Z",
     "start_time": "2019-09-25T12:19:46.094872Z"
    }
   },
   "outputs": [],
   "source": [
    "from tensorflow.python.util import deprecation\n",
    "deprecation._PRINT_DEPRECATION_WARNINGS = False"
   ]
  },
  {
   "cell_type": "markdown",
   "metadata": {},
   "source": [
    "## Adversarial Autoencoder: Basic Architecture"
   ]
  },
  {
   "cell_type": "markdown",
   "metadata": {
    "ExecuteTime": {
     "end_time": "2019-07-30T10:02:28.158025Z",
     "start_time": "2019-07-30T10:02:28.154496Z"
    }
   },
   "source": [
    "<img src=\"img/adversarial_autoencoder_model.png\" width=\"800px\" style=\"float:center\" >"
   ]
  },
  {
   "cell_type": "markdown",
   "metadata": {},
   "source": [
    "### Build the model"
   ]
  },
  {
   "cell_type": "code",
   "execution_count": 4,
   "metadata": {
    "ExecuteTime": {
     "end_time": "2019-09-25T11:15:08.114164Z",
     "start_time": "2019-09-25T11:15:08.110268Z"
    }
   },
   "outputs": [],
   "source": [
    "# Network parameters\n",
    "parameters = {\n",
    "    'latent_dim': 10,\n",
    "    'layers_enc_dim': [200, 100, 50, 30],\n",
    "    'layers_dec_dim': [30, 50, 100, 200],\n",
    "    'layers_dis_dim': [200, 100, 50, 30],\n",
    "    'batch_size': 35,\n",
    "    'epochs': 5 #200\n",
    "}"
   ]
  },
  {
   "cell_type": "code",
   "execution_count": 5,
   "metadata": {
    "ExecuteTime": {
     "end_time": "2019-09-25T11:15:08.714736Z",
     "start_time": "2019-09-25T11:15:08.711155Z"
    }
   },
   "outputs": [],
   "source": [
    "model = AAE1(**parameters)"
   ]
  },
  {
   "cell_type": "code",
   "execution_count": 6,
   "metadata": {
    "ExecuteTime": {
     "end_time": "2019-09-25T11:15:12.797369Z",
     "start_time": "2019-09-25T11:15:09.327623Z"
    }
   },
   "outputs": [
    {
     "name": "stdout",
     "output_type": "stream",
     "text": [
      "Dataset imported.\n"
     ]
    }
   ],
   "source": [
    "# Import dataset\n",
    "\n",
    "data_path = '../data/proc/pbmc10k.h5ad'\n",
    "\n",
    "model.load_data(data_path)"
   ]
  },
  {
   "cell_type": "code",
   "execution_count": 7,
   "metadata": {
    "ExecuteTime": {
     "end_time": "2019-09-25T11:15:13.573994Z",
     "start_time": "2019-09-25T11:15:12.938346Z"
    }
   },
   "outputs": [
    {
     "name": "stdout",
     "output_type": "stream",
     "text": [
      "Dataset rescaled.\n"
     ]
    }
   ],
   "source": [
    "# Rescale gene expression data\n",
    "\n",
    "model.rescale_data()"
   ]
  },
  {
   "cell_type": "code",
   "execution_count": 8,
   "metadata": {
    "ExecuteTime": {
     "end_time": "2019-09-25T11:15:13.699077Z",
     "start_time": "2019-09-25T11:15:13.677574Z"
    },
    "scrolled": true
   },
   "outputs": [
    {
     "name": "stdout",
     "output_type": "stream",
     "text": [
      "List of Network parameters\n"
     ]
    },
    {
     "data": {
      "text/html": [
       "<div>\n",
       "<style scoped>\n",
       "    .dataframe tbody tr th:only-of-type {\n",
       "        vertical-align: middle;\n",
       "    }\n",
       "\n",
       "    .dataframe tbody tr th {\n",
       "        vertical-align: top;\n",
       "    }\n",
       "\n",
       "    .dataframe thead th {\n",
       "        text-align: right;\n",
       "    }\n",
       "</style>\n",
       "<table border=\"1\" class=\"dataframe\">\n",
       "  <thead>\n",
       "    <tr style=\"text-align: right;\">\n",
       "      <th></th>\n",
       "      <th>Value</th>\n",
       "      <th>Description</th>\n",
       "    </tr>\n",
       "  </thead>\n",
       "  <tbody>\n",
       "    <tr>\n",
       "      <td>batch_size</td>\n",
       "      <td>35</td>\n",
       "      <td>batch size</td>\n",
       "    </tr>\n",
       "    <tr>\n",
       "      <td>epochs</td>\n",
       "      <td>5</td>\n",
       "      <td>number of epochs</td>\n",
       "    </tr>\n",
       "    <tr>\n",
       "      <td>alpha</td>\n",
       "      <td>0.1</td>\n",
       "      <td>alpha coeff. in activation function</td>\n",
       "    </tr>\n",
       "    <tr>\n",
       "      <td>do_rate</td>\n",
       "      <td>0.1</td>\n",
       "      <td>dropout rate</td>\n",
       "    </tr>\n",
       "    <tr>\n",
       "      <td>kernel_initializer</td>\n",
       "      <td>glorot_uniform</td>\n",
       "      <td>kernel initializer of all dense layers</td>\n",
       "    </tr>\n",
       "    <tr>\n",
       "      <td>bias_initializer</td>\n",
       "      <td>zeros</td>\n",
       "      <td>bias initializer of all dense layers</td>\n",
       "    </tr>\n",
       "    <tr>\n",
       "      <td>l2_weight</td>\n",
       "      <td>None</td>\n",
       "      <td>weight of l2 kernel regularization</td>\n",
       "    </tr>\n",
       "    <tr>\n",
       "      <td>l1_weight</td>\n",
       "      <td>None</td>\n",
       "      <td>weight of l1 activity regularization</td>\n",
       "    </tr>\n",
       "    <tr>\n",
       "      <td>latent_dim</td>\n",
       "      <td>10</td>\n",
       "      <td>dimension of latent space Z</td>\n",
       "    </tr>\n",
       "    <tr>\n",
       "      <td>layer_1_enc_dim</td>\n",
       "      <td>200</td>\n",
       "      <td>dimension of encoder dense layer 1</td>\n",
       "    </tr>\n",
       "    <tr>\n",
       "      <td>layer_2_enc_dim</td>\n",
       "      <td>100</td>\n",
       "      <td>dimension of encoder dense layer 2</td>\n",
       "    </tr>\n",
       "    <tr>\n",
       "      <td>layer_3_enc_dim</td>\n",
       "      <td>50</td>\n",
       "      <td>dimension of encoder dense layer 3</td>\n",
       "    </tr>\n",
       "    <tr>\n",
       "      <td>layer_4_enc_dim</td>\n",
       "      <td>30</td>\n",
       "      <td>dimension of encoder dense layer 4</td>\n",
       "    </tr>\n",
       "    <tr>\n",
       "      <td>layer_1_dec_dim</td>\n",
       "      <td>30</td>\n",
       "      <td>dimension of decoder dense layer 1</td>\n",
       "    </tr>\n",
       "    <tr>\n",
       "      <td>layer_2_dec_dim</td>\n",
       "      <td>50</td>\n",
       "      <td>dimension of decoder dense layer 2</td>\n",
       "    </tr>\n",
       "    <tr>\n",
       "      <td>layer_3_dec_dim</td>\n",
       "      <td>100</td>\n",
       "      <td>dimension of decoder dense layer 3</td>\n",
       "    </tr>\n",
       "    <tr>\n",
       "      <td>layer_4_dec_dim</td>\n",
       "      <td>200</td>\n",
       "      <td>dimension of decoder dense layer 4</td>\n",
       "    </tr>\n",
       "    <tr>\n",
       "      <td>lr_ae</td>\n",
       "      <td>0.0002</td>\n",
       "      <td>learning rate of autoencoder</td>\n",
       "    </tr>\n",
       "    <tr>\n",
       "      <td>dr_ae</td>\n",
       "      <td>1e-06</td>\n",
       "      <td>decay rate of autoencoder</td>\n",
       "    </tr>\n",
       "    <tr>\n",
       "      <td>layer_1_dis_dim</td>\n",
       "      <td>200</td>\n",
       "      <td>dimension of discriminator dense layer 1</td>\n",
       "    </tr>\n",
       "    <tr>\n",
       "      <td>layer_2_dis_dim</td>\n",
       "      <td>100</td>\n",
       "      <td>dimension of discriminator dense layer 2</td>\n",
       "    </tr>\n",
       "    <tr>\n",
       "      <td>layer_3_dis_dim</td>\n",
       "      <td>50</td>\n",
       "      <td>dimension of discriminator dense layer 3</td>\n",
       "    </tr>\n",
       "    <tr>\n",
       "      <td>layer_4_dis_dim</td>\n",
       "      <td>30</td>\n",
       "      <td>dimension of discriminator dense layer 4</td>\n",
       "    </tr>\n",
       "    <tr>\n",
       "      <td>lr_dis</td>\n",
       "      <td>0.0001</td>\n",
       "      <td>learning rate of discriminator</td>\n",
       "    </tr>\n",
       "    <tr>\n",
       "      <td>dr_dis</td>\n",
       "      <td>1e-06</td>\n",
       "      <td>decay rate of discriminator</td>\n",
       "    </tr>\n",
       "  </tbody>\n",
       "</table>\n",
       "</div>"
      ],
      "text/plain": [
       "                             Value                               Description\n",
       "batch_size                      35                                batch size\n",
       "epochs                           5                          number of epochs\n",
       "alpha                          0.1       alpha coeff. in activation function\n",
       "do_rate                        0.1                              dropout rate\n",
       "kernel_initializer  glorot_uniform    kernel initializer of all dense layers\n",
       "bias_initializer             zeros      bias initializer of all dense layers\n",
       "l2_weight                     None        weight of l2 kernel regularization\n",
       "l1_weight                     None      weight of l1 activity regularization\n",
       "latent_dim                      10               dimension of latent space Z\n",
       "layer_1_enc_dim                200        dimension of encoder dense layer 1\n",
       "layer_2_enc_dim                100        dimension of encoder dense layer 2\n",
       "layer_3_enc_dim                 50        dimension of encoder dense layer 3\n",
       "layer_4_enc_dim                 30        dimension of encoder dense layer 4\n",
       "layer_1_dec_dim                 30        dimension of decoder dense layer 1\n",
       "layer_2_dec_dim                 50        dimension of decoder dense layer 2\n",
       "layer_3_dec_dim                100        dimension of decoder dense layer 3\n",
       "layer_4_dec_dim                200        dimension of decoder dense layer 4\n",
       "lr_ae                       0.0002              learning rate of autoencoder\n",
       "dr_ae                        1e-06                 decay rate of autoencoder\n",
       "layer_1_dis_dim                200  dimension of discriminator dense layer 1\n",
       "layer_2_dis_dim                100  dimension of discriminator dense layer 2\n",
       "layer_3_dis_dim                 50  dimension of discriminator dense layer 3\n",
       "layer_4_dis_dim                 30  dimension of discriminator dense layer 4\n",
       "lr_dis                      0.0001            learning rate of discriminator\n",
       "dr_dis                       1e-06               decay rate of discriminator"
      ]
     },
     "execution_count": 8,
     "metadata": {},
     "output_type": "execute_result"
    }
   ],
   "source": [
    "# Show network hyper-parameters\n",
    "\n",
    "print(\"List of Network parameters\")\n",
    "model.get_parameters()"
   ]
  },
  {
   "cell_type": "code",
   "execution_count": 9,
   "metadata": {
    "ExecuteTime": {
     "end_time": "2019-09-25T11:15:17.096724Z",
     "start_time": "2019-09-25T11:15:15.514680Z"
    }
   },
   "outputs": [
    {
     "name": "stdout",
     "output_type": "stream",
     "text": [
      "INFO:tensorflow:Reduce to /job:localhost/replica:0/task:0/device:CPU:0 then broadcast to ('/job:localhost/replica:0/task:0/device:CPU:0',).\n",
      "INFO:tensorflow:Reduce to /job:localhost/replica:0/task:0/device:CPU:0 then broadcast to ('/job:localhost/replica:0/task:0/device:CPU:0',).\n",
      "INFO:tensorflow:Reduce to /job:localhost/replica:0/task:0/device:CPU:0 then broadcast to ('/job:localhost/replica:0/task:0/device:CPU:0',).\n",
      "INFO:tensorflow:Reduce to /job:localhost/replica:0/task:0/device:CPU:0 then broadcast to ('/job:localhost/replica:0/task:0/device:CPU:0',).\n",
      "INFO:tensorflow:Reduce to /job:localhost/replica:0/task:0/device:CPU:0 then broadcast to ('/job:localhost/replica:0/task:0/device:CPU:0',).\n",
      "INFO:tensorflow:Reduce to /job:localhost/replica:0/task:0/device:CPU:0 then broadcast to ('/job:localhost/replica:0/task:0/device:CPU:0',).\n",
      "INFO:tensorflow:Reduce to /job:localhost/replica:0/task:0/device:CPU:0 then broadcast to ('/job:localhost/replica:0/task:0/device:CPU:0',).\n",
      "INFO:tensorflow:Reduce to /job:localhost/replica:0/task:0/device:CPU:0 then broadcast to ('/job:localhost/replica:0/task:0/device:CPU:0',).\n",
      "INFO:tensorflow:Reduce to /job:localhost/replica:0/task:0/device:CPU:0 then broadcast to ('/job:localhost/replica:0/task:0/device:CPU:0',).\n",
      "INFO:tensorflow:Reduce to /job:localhost/replica:0/task:0/device:CPU:0 then broadcast to ('/job:localhost/replica:0/task:0/device:CPU:0',).\n"
     ]
    }
   ],
   "source": [
    "# Define distribute strategy and build the full model\n",
    "\n",
    "TF_DISTRIBUTE_MIRRORED_STRATEGY = True\n",
    "TF_DISTRIBUTE_CENTRAL_STORAGE_STRATEGY = False\n",
    "\n",
    "if TF_DISTRIBUTE_MIRRORED_STRATEGY:\n",
    "\n",
    "    #     CROSS_DEVICE_OPS = tf.distribute.HierarchicalCopyAllReduce()\n",
    "    #     CROSS_DEVICE_OPS = tf.distribute.ReductionToOneDevice()\n",
    "    CROSS_DEVICE_OPS = tf.distribute.NcclAllReduce()\n",
    "\n",
    "    strategy = tf.distribute.MirroredStrategy(\n",
    "        cross_device_ops=CROSS_DEVICE_OPS)\n",
    "\n",
    "    with strategy.scope():\n",
    "        model.build_model()\n",
    "#         encoder_model = tf.keras.Model(inputs=model.autoencoder.layers[1].get_layer('X').input,\n",
    "#                                        outputs=model.autoencoder.layers[1].get_layer('Z').output)\n",
    "\n",
    "\n",
    "if TF_DISTRIBUTE_CENTRAL_STORAGE_STRATEGY:\n",
    "    pass\n",
    "\n",
    "#     strategy = tf.distribute.experimental.CentralStorageStrategy()\n",
    "\n",
    "#     with strategy.scope():\n",
    "\n",
    "# #         BATCH_SIZE_PER_REPLICA = model.batch_size\n",
    "# #         global_batch_size = (BATCH_SIZE_PER_REPLICA * mirrored_strategy.num_replicas_in_sync)\n",
    "# #         model.batch_size = global_batch_size\n",
    "#         model.build_model()"
   ]
  },
  {
   "cell_type": "code",
   "execution_count": 10,
   "metadata": {
    "ExecuteTime": {
     "end_time": "2019-09-25T11:15:45.202278Z",
     "start_time": "2019-09-25T11:15:45.168414Z"
    },
    "scrolled": true
   },
   "outputs": [
    {
     "name": "stdout",
     "output_type": "stream",
     "text": [
      "\n",
      "Encoder Network\n",
      "===============\n",
      "Model: \"encoder\"\n",
      "__________________________________________________________________________________________________\n",
      "Layer (type)                    Output Shape         Param #     Connected to                     \n",
      "==================================================================================================\n",
      "X (InputLayer)                  [(None, 2145)]       0                                            \n",
      "__________________________________________________________________________________________________\n",
      "H_1 (Dense)                     (None, 200)          429200      X[0][0]                          \n",
      "__________________________________________________________________________________________________\n",
      "BN_1 (BatchNormalization)       (None, 200)          800         H_1[0][0]                        \n",
      "__________________________________________________________________________________________________\n",
      "LR_1 (LeakyReLU)                (None, 200)          0           BN_1[0][0]                       \n",
      "__________________________________________________________________________________________________\n",
      "D_1 (Dropout)                   (None, 200)          0           LR_1[0][0]                       \n",
      "__________________________________________________________________________________________________\n",
      "H_2 (Dense)                     (None, 100)          20100       D_1[0][0]                        \n",
      "__________________________________________________________________________________________________\n",
      "BN_2 (BatchNormalization)       (None, 100)          400         H_2[0][0]                        \n",
      "__________________________________________________________________________________________________\n",
      "LR_2 (LeakyReLU)                (None, 100)          0           BN_2[0][0]                       \n",
      "__________________________________________________________________________________________________\n",
      "D_2 (Dropout)                   (None, 100)          0           LR_2[0][0]                       \n",
      "__________________________________________________________________________________________________\n",
      "H_3 (Dense)                     (None, 50)           5050        D_2[0][0]                        \n",
      "__________________________________________________________________________________________________\n",
      "BN_3 (BatchNormalization)       (None, 50)           200         H_3[0][0]                        \n",
      "__________________________________________________________________________________________________\n",
      "LR_3 (LeakyReLU)                (None, 50)           0           BN_3[0][0]                       \n",
      "__________________________________________________________________________________________________\n",
      "D_3 (Dropout)                   (None, 50)           0           LR_3[0][0]                       \n",
      "__________________________________________________________________________________________________\n",
      "H_4 (Dense)                     (None, 30)           1530        D_3[0][0]                        \n",
      "__________________________________________________________________________________________________\n",
      "BN_4 (BatchNormalization)       (None, 30)           120         H_4[0][0]                        \n",
      "__________________________________________________________________________________________________\n",
      "LR_4 (LeakyReLU)                (None, 30)           0           BN_4[0][0]                       \n",
      "__________________________________________________________________________________________________\n",
      "D_4 (Dropout)                   (None, 30)           0           LR_4[0][0]                       \n",
      "__________________________________________________________________________________________________\n",
      "z_mean (Dense)                  (None, 10)           310         D_4[0][0]                        \n",
      "__________________________________________________________________________________________________\n",
      "z_log_var (Dense)               (None, 10)           310         D_4[0][0]                        \n",
      "__________________________________________________________________________________________________\n",
      "Z (Lambda)                      (None, 10)           0           z_mean[0][0]                     \n",
      "                                                                 z_log_var[0][0]                  \n",
      "==================================================================================================\n",
      "Total params: 458,020\n",
      "Trainable params: 457,260\n",
      "Non-trainable params: 760\n",
      "__________________________________________________________________________________________________\n",
      "\n",
      "Decoder Network\n",
      "===============\n",
      "Model: \"decoder\"\n",
      "_________________________________________________________________\n",
      "Layer (type)                 Output Shape              Param #   \n",
      "=================================================================\n",
      "Z (InputLayer)               [(None, 10)]              0         \n",
      "_________________________________________________________________\n",
      "H_1 (Dense)                  (None, 30)                330       \n",
      "_________________________________________________________________\n",
      "BN_1 (BatchNormalization)    (None, 30)                120       \n",
      "_________________________________________________________________\n",
      "LR_1 (LeakyReLU)             (None, 30)                0         \n",
      "_________________________________________________________________\n",
      "D_1 (Dropout)                (None, 30)                0         \n",
      "_________________________________________________________________\n",
      "H_2 (Dense)                  (None, 50)                1550      \n",
      "_________________________________________________________________\n",
      "BN_2 (BatchNormalization)    (None, 50)                200       \n",
      "_________________________________________________________________\n",
      "LR_2 (LeakyReLU)             (None, 50)                0         \n",
      "_________________________________________________________________\n",
      "D_2 (Dropout)                (None, 50)                0         \n",
      "_________________________________________________________________\n",
      "H_3 (Dense)                  (None, 100)               5100      \n",
      "_________________________________________________________________\n",
      "BN_3 (BatchNormalization)    (None, 100)               400       \n",
      "_________________________________________________________________\n",
      "LR_3 (LeakyReLU)             (None, 100)               0         \n",
      "_________________________________________________________________\n",
      "D_3 (Dropout)                (None, 100)               0         \n",
      "_________________________________________________________________\n",
      "H_4 (Dense)                  (None, 200)               20200     \n",
      "_________________________________________________________________\n",
      "BN_4 (BatchNormalization)    (None, 200)               800       \n",
      "_________________________________________________________________\n",
      "LR_4 (LeakyReLU)             (None, 200)               0         \n",
      "_________________________________________________________________\n",
      "D_4 (Dropout)                (None, 200)               0         \n",
      "_________________________________________________________________\n",
      "Xp (Dense)                   (None, 2145)              431145    \n",
      "=================================================================\n",
      "Total params: 459,845\n",
      "Trainable params: 459,085\n",
      "Non-trainable params: 760\n",
      "_________________________________________________________________\n",
      "\n",
      "Autoencoder Network\n",
      "===================\n",
      "Model: \"autoencoder\"\n",
      "__________________________________________________________________________________________________\n",
      "Layer (type)                    Output Shape         Param #     Connected to                     \n",
      "==================================================================================================\n",
      "X (InputLayer)                  [(None, 2145)]       0                                            \n",
      "__________________________________________________________________________________________________\n",
      "encoder (Model)                 [(None, 10), (None,  458020      X[0][0]                          \n",
      "__________________________________________________________________________________________________\n",
      "decoder (Model)                 (None, 2145)         459845      encoder[1][2]                    \n",
      "__________________________________________________________________________________________________\n",
      "discriminator (Model)           (None, 1)            30431       encoder[1][2]                    \n",
      "==================================================================================================\n",
      "Total params: 948,296\n",
      "Trainable params: 916,345\n",
      "Non-trainable params: 31,951\n",
      "__________________________________________________________________________________________________\n",
      "\n",
      "Discriminator Network\n",
      "=====================\n",
      "Model: \"discriminator\"\n",
      "_________________________________________________________________\n",
      "Layer (type)                 Output Shape              Param #   \n",
      "=================================================================\n",
      "Z (InputLayer)               [(None, 10)]              0         \n",
      "_________________________________________________________________\n",
      "H_1 (Dense)                  (None, 200)               2200      \n",
      "_________________________________________________________________\n",
      "BN_1 (BatchNormalization)    (None, 200)               800       \n",
      "_________________________________________________________________\n",
      "LR_1 (LeakyReLU)             (None, 200)               0         \n",
      "_________________________________________________________________\n",
      "D_1 (Dropout)                (None, 200)               0         \n",
      "_________________________________________________________________\n",
      "H_2 (Dense)                  (None, 100)               20100     \n",
      "_________________________________________________________________\n",
      "BN_2 (BatchNormalization)    (None, 100)               400       \n",
      "_________________________________________________________________\n",
      "LR_2 (LeakyReLU)             (None, 100)               0         \n",
      "_________________________________________________________________\n",
      "D_2 (Dropout)                (None, 100)               0         \n",
      "_________________________________________________________________\n",
      "H_3 (Dense)                  (None, 50)                5050      \n",
      "_________________________________________________________________\n",
      "BN_3 (BatchNormalization)    (None, 50)                200       \n",
      "_________________________________________________________________\n",
      "LR_3 (LeakyReLU)             (None, 50)                0         \n",
      "_________________________________________________________________\n",
      "D_3 (Dropout)                (None, 50)                0         \n",
      "_________________________________________________________________\n",
      "H_4 (Dense)                  (None, 30)                1530      \n",
      "_________________________________________________________________\n",
      "BN_4 (BatchNormalization)    (None, 30)                120       \n",
      "_________________________________________________________________\n",
      "LR_4 (LeakyReLU)             (None, 30)                0         \n",
      "_________________________________________________________________\n",
      "D_4 (Dropout)                (None, 30)                0         \n",
      "_________________________________________________________________\n",
      "Check (Dense)                (None, 1)                 31        \n",
      "=================================================================\n",
      "Total params: 30,431\n",
      "Trainable params: 29,671\n",
      "Non-trainable params: 760\n",
      "_________________________________________________________________\n"
     ]
    }
   ],
   "source": [
    "# Model summary\n",
    "\n",
    "model.get_summary()"
   ]
  },
  {
   "cell_type": "code",
   "execution_count": 11,
   "metadata": {
    "ExecuteTime": {
     "end_time": "2019-09-25T11:00:10.541754Z",
     "start_time": "2019-09-25T11:00:09.915254Z"
    }
   },
   "outputs": [
    {
     "name": "stdout",
     "output_type": "stream",
     "text": [
      "Failed to import pydot. You must install pydot and graphviz for `pydotprint` to work.\n",
      "Failed to import pydot. You must install pydot and graphviz for `pydotprint` to work.\n",
      "Failed to import pydot. You must install pydot and graphviz for `pydotprint` to work.\n",
      "Failed to import pydot. You must install pydot and graphviz for `pydotprint` to work.\n",
      "Model graphs saved.\n",
      "\n"
     ]
    }
   ],
   "source": [
    "# Export model graphs\n",
    "\n",
    "log_dir = '../results/AAE1/PBMC10k/'\n",
    "os.makedirs(log_dir + 'graphs', exist_ok=True)\n",
    "model.export_graph('../results/AAE1/PBMC10k/graphs')"
   ]
  },
  {
   "cell_type": "markdown",
   "metadata": {
    "heading_collapsed": true
   },
   "source": [
    "### Visualize graphs"
   ]
  },
  {
   "cell_type": "markdown",
   "metadata": {
    "ExecuteTime": {
     "end_time": "2019-09-05T16:51:38.875223Z",
     "start_time": "2019-09-05T16:51:38.872254Z"
    },
    "hidden": true
   },
   "source": [
    "[ENCODER](../results/AAE1/PBMC10k/graphs/encoder.png)"
   ]
  },
  {
   "cell_type": "markdown",
   "metadata": {
    "hidden": true
   },
   "source": [
    "[DECODER](../results/AAE1/PBMC10k/graphs/decoder.png)"
   ]
  },
  {
   "cell_type": "markdown",
   "metadata": {
    "hidden": true
   },
   "source": [
    "[DISCRIMINATOR](../results/AAE1/PBMC10k/graphs/discriminator.png)"
   ]
  },
  {
   "cell_type": "markdown",
   "metadata": {
    "hidden": true
   },
   "source": [
    "[AUTOENCODER](../results/AAE1/PBMC10k/graphs/autoencoder.png)"
   ]
  },
  {
   "cell_type": "markdown",
   "metadata": {},
   "source": [
    "### Train the model"
   ]
  },
  {
   "cell_type": "code",
   "execution_count": 11,
   "metadata": {},
   "outputs": [],
   "source": [
    "# Create the input dataset\n",
    "MODE = 'Dataset'\n",
    "\n",
    "BATCH_SIZE_PER_REPLICA = model.batch_size\n",
    "global_batch_size = (BATCH_SIZE_PER_REPLICA *\n",
    "                     strategy.num_replicas_in_sync)\n",
    "    \n",
    "if MODE == 'Dataset':\n",
    "\n",
    "    train_dataset = tf.data.Dataset.from_tensor_slices(model.data).repeat(model.epochs).shuffle(\n",
    "        len(model.data)).batch(global_batch_size, drop_remainder=True)\n",
    "\n",
    "    distributed_train_dataset = strategy.experimental_distribute_dataset(\n",
    "        train_dataset)\n",
    "\n",
    "elif MODE == 'TFRecord':\n",
    "\n",
    "    data_file = '../data/proc/pbmc10k.tfrecord.train'\n",
    "\n",
    "    train_dataset = data_generator(data_file,\n",
    "                                    batch_size=global_batch_size,\n",
    "                                    epochs=model.epochs,\n",
    "                                    is_training=True)\n",
    "\n",
    "    distributed_train_dataset = strategy.experimental_distribute_dataset(\n",
    "        train_dataset)\n",
    "\n",
    "else:\n",
    "    print(\"Choose input dataset mode between 'Dataset' and 'TFRecord'.\")"
   ]
  },
  {
   "cell_type": "code",
   "execution_count": 12,
   "metadata": {},
   "outputs": [],
   "source": [
    "with strategy.scope():\n",
    "    \n",
    "    def gen_code(input_batch):\n",
    "        \n",
    "        encoder_model = tf.keras.Model(inputs=model.autoencoder.layers[1].get_layer('X').input,\n",
    "                                       outputs=model.autoencoder.layers[1].get_layer('Z').output)\n",
    "        \n",
    "        return encoder_model.predict_on_batch(input_batch)\n",
    "        \n",
    "        \n",
    "    def train_step(input_batch, code):\n",
    "        \n",
    "        batch = input_batch\n",
    "        \n",
    "        dis_loss, auto_loss = model.train_on_batch(batch, code)\n",
    "        \n",
    "        return dis_loss, auto_loss"
   ]
  },
  {
   "cell_type": "code",
   "execution_count": null,
   "metadata": {},
   "outputs": [
    {
     "name": "stdout",
     "output_type": "stream",
     "text": [
      "Start model training...\n",
      "\n",
      "WARNING:tensorflow:Using MirroredStrategyV1 eagerly has significant overhead currently. We will be working on improving this in the future, but for now please wrap `call_for_each_replica` or `experimental_run` or `experimental_run_v2` inside a tf.function to get the best performance.\n",
      "INFO:tensorflow:batch_all_reduce: 18 all-reduces with algorithm = nccl, num_packs = 1, agg_small_grads_max_bytes = 0 and agg_small_grads_max_group = 10\n",
      "INFO:tensorflow:batch_all_reduce: 38 all-reduces with algorithm = nccl, num_packs = 1, agg_small_grads_max_bytes = 0 and agg_small_grads_max_group = 10\n",
      "INFO:tensorflow:batch_all_reduce: 18 all-reduces with algorithm = nccl, num_packs = 1, agg_small_grads_max_bytes = 0 and agg_small_grads_max_group = 10\n",
      "INFO:tensorflow:batch_all_reduce: 38 all-reduces with algorithm = nccl, num_packs = 1, agg_small_grads_max_bytes = 0 and agg_small_grads_max_group = 10\n",
      "WARNING:tensorflow:Using MirroredStrategyV1 eagerly has significant overhead currently. We will be working on improving this in the future, but for now please wrap `call_for_each_replica` or `experimental_run` or `experimental_run_v2` inside a tf.function to get the best performance.\n",
      "WARNING:tensorflow:Using MirroredStrategyV1 eagerly has significant overhead currently. We will be working on improving this in the future, but for now please wrap `call_for_each_replica` or `experimental_run` or `experimental_run_v2` inside a tf.function to get the best performance.\n",
      "WARNING:tensorflow:Using MirroredStrategyV1 eagerly has significant overhead currently. We will be working on improving this in the future, but for now please wrap `call_for_each_replica` or `experimental_run` or `experimental_run_v2` inside a tf.function to get the best performance.\n",
      "WARNING:tensorflow:Using MirroredStrategyV1 eagerly has significant overhead currently. We will be working on improving this in the future, but for now please wrap `call_for_each_replica` or `experimental_run` or `experimental_run_v2` inside a tf.function to get the best performance.\n"
     ]
    }
   ],
   "source": [
    "# Training...\n",
    "\n",
    "log_dir = '../results/AAE1/PBMC10k/'\n",
    "os.makedirs(log_dir, exist_ok=True)\n",
    "\n",
    "GRAPH = True\n",
    "GENE = 'CST3'  # used only for training visualization\n",
    "\n",
    "\n",
    "with strategy.scope():\n",
    "    \n",
    "    rec_loss = []\n",
    "    dis_loss = []\n",
    "    \n",
    "    def distributed_code(dist_batch):\n",
    "        \n",
    "        \n",
    "        per_replica_code = strategy.experimental_run_v2(gen_code, \n",
    "                                                        args=(dist_batch,))\n",
    "        \n",
    "        return per_replica_code \n",
    "    \n",
    "    @tf.function\n",
    "    def distributed_train_step(dist_batch, code):\n",
    "        \"\"\"It replicates the training step and runs the calculation with distributed input.\n",
    "        \n",
    "        \"\"\"\n",
    "        \n",
    "        \n",
    "        per_replica_dis_losses, per_replica_auto_losses = strategy.experimental_run_v2(train_step, \n",
    "                                                                                       args=(dist_batch, code,))\n",
    "        \n",
    "        red_dis_loss = strategy.reduce(\n",
    "             tf.distribute.ReduceOp.SUM, per_replica_dis_losses, axis=0) \n",
    "\n",
    "        red_auto_loss = strategy.reduce(\n",
    "             tf.distribute.ReduceOp.SUM, per_replica_auto_losses, axis=0)\n",
    "        \n",
    "        return red_dis_loss, red_auto_loss\n",
    "    \n",
    "    \n",
    "    print(\"Start model training...\\n\")\n",
    "        \n",
    "    for epoch in range(model.epochs):\n",
    "        \n",
    "        num_batches = 0\n",
    "        total_dis_loss = 0.0\n",
    "        total_auto_loss = 0.0\n",
    "            \n",
    "        for batch in distributed_train_dataset:\n",
    "            \n",
    "            code = distributed_code(batch)\n",
    "            \n",
    "            red_dis_loss, red_auto_loss = distributed_train_step(batch, code)\n",
    "            total_dis_loss += red_dis_loss\n",
    "            total_auto_loss += red_auto_loss\n",
    "            num_batches += 1\n",
    "            \n",
    "        train_dis_loss = total_dis_loss / num_batches\n",
    "        train_auto_loss = total_auto_loss / num_batches\n",
    "        \n",
    "        dis_loss.append(train_dis_loss.numpy())\n",
    "        rec_loss.append(train_auto_loss.numpy())\n",
    "        \n",
    "        message = (\"Epoch {0:d}/{1:d}, rec. loss: {2:.6f}, dis. loss: {3:.6f}\")\n",
    "        \n",
    "        clear_output(wait=True)\n",
    "        \n",
    "        print(message.format(\n",
    "                        *[epoch+1, model.epochs, train_auto_loss.numpy(), train_dis_loss.numpy()])\n",
    "             )\n",
    "        \n",
    "        if GRAPH and (GENE is not None):\n",
    "            \n",
    "            model.plot_umap(gene_selected=[GENE], louvain=True)\n",
    "\n",
    "        \n",
    "    print(\"Training completed.\")\n",
    "\n",
    "    # save models in h5 format\n",
    "    makedirs(log_dir + 'models/', exist_ok=True)\n",
    "    model.export_model(log_dir + 'models/')"
   ]
  },
  {
   "cell_type": "code",
   "execution_count": 13,
   "metadata": {},
   "outputs": [],
   "source": [
    "# tf.autograph.to_code(train_loop.python_function)"
   ]
  },
  {
   "cell_type": "code",
   "execution_count": 15,
   "metadata": {},
   "outputs": [
    {
     "data": {
      "text/plain": [
       "TensorSpec(shape=(35, 2145), dtype=tf.float32, name=None)"
      ]
     },
     "execution_count": 15,
     "metadata": {},
     "output_type": "execute_result"
    }
   ],
   "source": [
    "# distributed_train_dataset.element_spec"
   ]
  },
  {
   "cell_type": "markdown",
   "metadata": {
    "ExecuteTime": {
     "start_time": "2019-08-26T11:49:43.875Z"
    }
   },
   "source": [
    "!tensorboard --logdir=../results/AAE1/PBMC10k/"
   ]
  },
  {
   "cell_type": "code",
   "execution_count": 25,
   "metadata": {
    "ExecuteTime": {
     "end_time": "2019-09-25T11:28:40.469608Z",
     "start_time": "2019-09-25T11:28:40.234382Z"
    },
    "scrolled": false
   },
   "outputs": [
    {
     "data": {
      "image/png": "[encoded data removed]",
      "text/plain": [
       "<Figure size 576x432 with 1 Axes>"
      ]
     },
     "metadata": {
      "needs_background": "light"
     },
     "output_type": "display_data"
    }
   ],
   "source": [
    "# Plot training loss values\n",
    "\n",
    "plt.figure(figsize=(8, 6))\n",
    "axes = plt.gca()\n",
    "x_range = np.arange(1, model.epochs + 1, 1)\n",
    "plt.plot(x_range, rec_loss, 'bo-')\n",
    "plt.plot(x_range,dis_loss, 'ro-')\n",
    "plt.ylabel('Loss')\n",
    "plt.xlabel('Epoch')\n",
    "plt.legend(['Autoencoder', 'Discriminator'], loc='upper right')\n",
    "plt.show()"
   ]
  },
  {
   "cell_type": "code",
   "execution_count": null,
   "metadata": {
    "ExecuteTime": {
     "end_time": "2019-08-26T11:33:40.926196Z",
     "start_time": "2019-08-26T11:33:04.337921Z"
    }
   },
   "outputs": [],
   "source": [
    "GENE_LIST = ['CST3', 'NKG7', 'PPBP']\n",
    "model.plot_umap(gene_selected=GENE_LIST, louvain=True)"
   ]
  },
  {
   "cell_type": "code",
   "execution_count": null,
   "metadata": {
    "ExecuteTime": {
     "end_time": "2019-09-06T12:59:30.772650Z",
     "start_time": "2019-09-06T12:59:08.480200Z"
    }
   },
   "outputs": [],
   "source": [
    "from tensorflow.keras.models import load_model\n",
    "from sklearn.metrics import adjusted_rand_score\n",
    "from sklearn.metrics.cluster import adjusted_mutual_info_score\n",
    "\n",
    "log_dir = '../results/AAE1/PBMC10k/'\n",
    "model.encoder = load_model(log_dir + 'models/encoder.h5')\n",
    "\n",
    "labels_true = model.labels\n",
    "\n",
    "model.update_labels(res=0.6)\n",
    "labels_pred = model.labels\n",
    "\n",
    "GENE_LIST = ['CST3']\n",
    "model.plot_umap(gene_selected=GENE_LIST, louvain=True)\n",
    "\n",
    "print(\"ARI = {}\".format(adjusted_rand_score(labels_true, labels_pred)))\n",
    "print(\"AMI = {}\".format(adjusted_mutual_info_score(labels_true, labels_pred)))"
   ]
  },
  {
   "cell_type": "markdown",
   "metadata": {},
   "source": [
    "## Unsupervised Adversarial Autoencoder: Setting Number of Clusters"
   ]
  },
  {
   "cell_type": "markdown",
   "metadata": {
    "heading_collapsed": true
   },
   "source": [
    "### Build the model"
   ]
  },
  {
   "cell_type": "code",
   "execution_count": 4,
   "metadata": {
    "ExecuteTime": {
     "end_time": "2019-09-25T12:19:50.698777Z",
     "start_time": "2019-09-25T12:19:50.694290Z"
    },
    "code_folding": [],
    "hidden": true
   },
   "outputs": [],
   "source": [
    "# Network parameters\n",
    "parameters = {\n",
    "    'latent_dim': 10,\n",
    "    'num_clusters': 17,\n",
    "    'layers_enc_dim': [200, 100, 50, 30],\n",
    "    'layers_dec_dim': [30, 50, 100, 200],\n",
    "    'layers_dis_dim': [200, 100, 50, 30],\n",
    "    'layers_dis_cat_dim': [200, 100, 50, 30],\n",
    "    'batch_size': 35,\n",
    "    'epochs': 5, #200,\n",
    "    'tau': 0.05 # temperature parameter\n",
    "}"
   ]
  },
  {
   "cell_type": "code",
   "execution_count": 5,
   "metadata": {
    "ExecuteTime": {
     "end_time": "2019-09-25T12:19:51.523183Z",
     "start_time": "2019-09-25T12:19:51.520014Z"
    },
    "hidden": true
   },
   "outputs": [],
   "source": [
    "model = AAE2(**parameters)"
   ]
  },
  {
   "cell_type": "code",
   "execution_count": 6,
   "metadata": {
    "ExecuteTime": {
     "end_time": "2019-09-25T12:19:55.539228Z",
     "start_time": "2019-09-25T12:19:52.062254Z"
    },
    "hidden": true
   },
   "outputs": [
    {
     "name": "stdout",
     "output_type": "stream",
     "text": [
      "Dataset imported.\n"
     ]
    }
   ],
   "source": [
    "# Import dataset\n",
    "\n",
    "data_path = '../data/proc/pbmc10k.h5ad'\n",
    "\n",
    "model.load_data(data_path)"
   ]
  },
  {
   "cell_type": "code",
   "execution_count": 7,
   "metadata": {
    "ExecuteTime": {
     "end_time": "2019-09-25T12:19:56.403071Z",
     "start_time": "2019-09-25T12:19:55.783252Z"
    },
    "hidden": true
   },
   "outputs": [
    {
     "name": "stdout",
     "output_type": "stream",
     "text": [
      "Dataset rescaled.\n"
     ]
    }
   ],
   "source": [
    "# Rescale gene expression data\n",
    "\n",
    "model.rescale_data()"
   ]
  },
  {
   "cell_type": "code",
   "execution_count": 8,
   "metadata": {
    "ExecuteTime": {
     "end_time": "2019-09-25T12:19:56.590092Z",
     "start_time": "2019-09-25T12:19:56.569641Z"
    },
    "hidden": true,
    "scrolled": true
   },
   "outputs": [
    {
     "name": "stdout",
     "output_type": "stream",
     "text": [
      "List of Network parameters\n"
     ]
    },
    {
     "data": {
      "text/html": [
       "<div>\n",
       "<style scoped>\n",
       "    .dataframe tbody tr th:only-of-type {\n",
       "        vertical-align: middle;\n",
       "    }\n",
       "\n",
       "    .dataframe tbody tr th {\n",
       "        vertical-align: top;\n",
       "    }\n",
       "\n",
       "    .dataframe thead th {\n",
       "        text-align: right;\n",
       "    }\n",
       "</style>\n",
       "<table border=\"1\" class=\"dataframe\">\n",
       "  <thead>\n",
       "    <tr style=\"text-align: right;\">\n",
       "      <th></th>\n",
       "      <th>Value</th>\n",
       "      <th>Description</th>\n",
       "    </tr>\n",
       "  </thead>\n",
       "  <tbody>\n",
       "    <tr>\n",
       "      <td>batch_size</td>\n",
       "      <td>35</td>\n",
       "      <td>batch size</td>\n",
       "    </tr>\n",
       "    <tr>\n",
       "      <td>epochs</td>\n",
       "      <td>5</td>\n",
       "      <td>number of epochs</td>\n",
       "    </tr>\n",
       "    <tr>\n",
       "      <td>alpha</td>\n",
       "      <td>0.1</td>\n",
       "      <td>alpha coeff. in activation function</td>\n",
       "    </tr>\n",
       "    <tr>\n",
       "      <td>do_rate</td>\n",
       "      <td>0.1</td>\n",
       "      <td>dropout rate</td>\n",
       "    </tr>\n",
       "    <tr>\n",
       "      <td>kernel_initializer</td>\n",
       "      <td>glorot_uniform</td>\n",
       "      <td>kernel initializer of all dense layers</td>\n",
       "    </tr>\n",
       "    <tr>\n",
       "      <td>bias_initializer</td>\n",
       "      <td>zeros</td>\n",
       "      <td>bias initializer of all dense layers</td>\n",
       "    </tr>\n",
       "    <tr>\n",
       "      <td>l2_weight</td>\n",
       "      <td>None</td>\n",
       "      <td>weight of l2 kernel regularization</td>\n",
       "    </tr>\n",
       "    <tr>\n",
       "      <td>l1_weight</td>\n",
       "      <td>None</td>\n",
       "      <td>weight of l1 activity regularization</td>\n",
       "    </tr>\n",
       "    <tr>\n",
       "      <td>latent_dim</td>\n",
       "      <td>10</td>\n",
       "      <td>dimension of latent space Z</td>\n",
       "    </tr>\n",
       "    <tr>\n",
       "      <td>layer_1_enc_dim</td>\n",
       "      <td>200</td>\n",
       "      <td>dimension of encoder dense layer 1</td>\n",
       "    </tr>\n",
       "    <tr>\n",
       "      <td>layer_2_enc_dim</td>\n",
       "      <td>100</td>\n",
       "      <td>dimension of encoder dense layer 2</td>\n",
       "    </tr>\n",
       "    <tr>\n",
       "      <td>layer_3_enc_dim</td>\n",
       "      <td>50</td>\n",
       "      <td>dimension of encoder dense layer 3</td>\n",
       "    </tr>\n",
       "    <tr>\n",
       "      <td>layer_4_enc_dim</td>\n",
       "      <td>30</td>\n",
       "      <td>dimension of encoder dense layer 4</td>\n",
       "    </tr>\n",
       "    <tr>\n",
       "      <td>layer_1_dec_dim</td>\n",
       "      <td>30</td>\n",
       "      <td>dimension of decoder dense layer 1</td>\n",
       "    </tr>\n",
       "    <tr>\n",
       "      <td>layer_2_dec_dim</td>\n",
       "      <td>50</td>\n",
       "      <td>dimension of decoder dense layer 2</td>\n",
       "    </tr>\n",
       "    <tr>\n",
       "      <td>layer_3_dec_dim</td>\n",
       "      <td>100</td>\n",
       "      <td>dimension of decoder dense layer 3</td>\n",
       "    </tr>\n",
       "    <tr>\n",
       "      <td>layer_4_dec_dim</td>\n",
       "      <td>200</td>\n",
       "      <td>dimension of decoder dense layer 4</td>\n",
       "    </tr>\n",
       "    <tr>\n",
       "      <td>lr_ae</td>\n",
       "      <td>0.0002</td>\n",
       "      <td>learning rate of autoencoder</td>\n",
       "    </tr>\n",
       "    <tr>\n",
       "      <td>dr_ae</td>\n",
       "      <td>1e-06</td>\n",
       "      <td>decay rate of autoencoder</td>\n",
       "    </tr>\n",
       "    <tr>\n",
       "      <td>layer_1_dis_dim</td>\n",
       "      <td>200</td>\n",
       "      <td>dimension of discriminator dense layer 1</td>\n",
       "    </tr>\n",
       "    <tr>\n",
       "      <td>layer_2_dis_dim</td>\n",
       "      <td>100</td>\n",
       "      <td>dimension of discriminator dense layer 2</td>\n",
       "    </tr>\n",
       "    <tr>\n",
       "      <td>layer_3_dis_dim</td>\n",
       "      <td>50</td>\n",
       "      <td>dimension of discriminator dense layer 3</td>\n",
       "    </tr>\n",
       "    <tr>\n",
       "      <td>layer_4_dis_dim</td>\n",
       "      <td>30</td>\n",
       "      <td>dimension of discriminator dense layer 4</td>\n",
       "    </tr>\n",
       "    <tr>\n",
       "      <td>lr_dis</td>\n",
       "      <td>0.0001</td>\n",
       "      <td>learning rate of discriminator</td>\n",
       "    </tr>\n",
       "    <tr>\n",
       "      <td>dr_dis</td>\n",
       "      <td>1e-06</td>\n",
       "      <td>decay rate of discriminator</td>\n",
       "    </tr>\n",
       "    <tr>\n",
       "      <td>layer_1_dis_cat_dim</td>\n",
       "      <td>200</td>\n",
       "      <td>dimension of cat. discriminator dense layer 1</td>\n",
       "    </tr>\n",
       "    <tr>\n",
       "      <td>layer_2_dis_cat_dim</td>\n",
       "      <td>100</td>\n",
       "      <td>dimension of cat. discriminator dense layer 2</td>\n",
       "    </tr>\n",
       "    <tr>\n",
       "      <td>layer_3_dis_cat_dim</td>\n",
       "      <td>50</td>\n",
       "      <td>dimension of cat. discriminator dense layer 3</td>\n",
       "    </tr>\n",
       "    <tr>\n",
       "      <td>layer_4_dis_cat_dim</td>\n",
       "      <td>30</td>\n",
       "      <td>dimension of cat. discriminator dense layer 4</td>\n",
       "    </tr>\n",
       "    <tr>\n",
       "      <td>lr_dis_cat</td>\n",
       "      <td>0.0001</td>\n",
       "      <td>learning rate of cat. discriminator</td>\n",
       "    </tr>\n",
       "    <tr>\n",
       "      <td>dr_dis_cat</td>\n",
       "      <td>1e-06</td>\n",
       "      <td>decay rate of cat. discriminator</td>\n",
       "    </tr>\n",
       "    <tr>\n",
       "      <td>tau</td>\n",
       "      <td>0.05</td>\n",
       "      <td>temperature parameter</td>\n",
       "    </tr>\n",
       "    <tr>\n",
       "      <td>num_clusters</td>\n",
       "      <td>17</td>\n",
       "      <td>number of clusters in the dateset</td>\n",
       "    </tr>\n",
       "  </tbody>\n",
       "</table>\n",
       "</div>"
      ],
      "text/plain": [
       "                              Value  \\\n",
       "batch_size                       35   \n",
       "epochs                            5   \n",
       "alpha                           0.1   \n",
       "do_rate                         0.1   \n",
       "kernel_initializer   glorot_uniform   \n",
       "bias_initializer              zeros   \n",
       "l2_weight                      None   \n",
       "l1_weight                      None   \n",
       "latent_dim                       10   \n",
       "layer_1_enc_dim                 200   \n",
       "layer_2_enc_dim                 100   \n",
       "layer_3_enc_dim                  50   \n",
       "layer_4_enc_dim                  30   \n",
       "layer_1_dec_dim                  30   \n",
       "layer_2_dec_dim                  50   \n",
       "layer_3_dec_dim                 100   \n",
       "layer_4_dec_dim                 200   \n",
       "lr_ae                        0.0002   \n",
       "dr_ae                         1e-06   \n",
       "layer_1_dis_dim                 200   \n",
       "layer_2_dis_dim                 100   \n",
       "layer_3_dis_dim                  50   \n",
       "layer_4_dis_dim                  30   \n",
       "lr_dis                       0.0001   \n",
       "dr_dis                        1e-06   \n",
       "layer_1_dis_cat_dim             200   \n",
       "layer_2_dis_cat_dim             100   \n",
       "layer_3_dis_cat_dim              50   \n",
       "layer_4_dis_cat_dim              30   \n",
       "lr_dis_cat                   0.0001   \n",
       "dr_dis_cat                    1e-06   \n",
       "tau                            0.05   \n",
       "num_clusters                     17   \n",
       "\n",
       "                                                       Description  \n",
       "batch_size                                              batch size  \n",
       "epochs                                            number of epochs  \n",
       "alpha                          alpha coeff. in activation function  \n",
       "do_rate                                               dropout rate  \n",
       "kernel_initializer          kernel initializer of all dense layers  \n",
       "bias_initializer              bias initializer of all dense layers  \n",
       "l2_weight                       weight of l2 kernel regularization  \n",
       "l1_weight                     weight of l1 activity regularization  \n",
       "latent_dim                             dimension of latent space Z  \n",
       "layer_1_enc_dim                 dimension of encoder dense layer 1  \n",
       "layer_2_enc_dim                 dimension of encoder dense layer 2  \n",
       "layer_3_enc_dim                 dimension of encoder dense layer 3  \n",
       "layer_4_enc_dim                 dimension of encoder dense layer 4  \n",
       "layer_1_dec_dim                 dimension of decoder dense layer 1  \n",
       "layer_2_dec_dim                 dimension of decoder dense layer 2  \n",
       "layer_3_dec_dim                 dimension of decoder dense layer 3  \n",
       "layer_4_dec_dim                 dimension of decoder dense layer 4  \n",
       "lr_ae                                 learning rate of autoencoder  \n",
       "dr_ae                                    decay rate of autoencoder  \n",
       "layer_1_dis_dim           dimension of discriminator dense layer 1  \n",
       "layer_2_dis_dim           dimension of discriminator dense layer 2  \n",
       "layer_3_dis_dim           dimension of discriminator dense layer 3  \n",
       "layer_4_dis_dim           dimension of discriminator dense layer 4  \n",
       "lr_dis                              learning rate of discriminator  \n",
       "dr_dis                                 decay rate of discriminator  \n",
       "layer_1_dis_cat_dim  dimension of cat. discriminator dense layer 1  \n",
       "layer_2_dis_cat_dim  dimension of cat. discriminator dense layer 2  \n",
       "layer_3_dis_cat_dim  dimension of cat. discriminator dense layer 3  \n",
       "layer_4_dis_cat_dim  dimension of cat. discriminator dense layer 4  \n",
       "lr_dis_cat                     learning rate of cat. discriminator  \n",
       "dr_dis_cat                        decay rate of cat. discriminator  \n",
       "tau                                          temperature parameter  \n",
       "num_clusters                     number of clusters in the dateset  "
      ]
     },
     "execution_count": 8,
     "metadata": {},
     "output_type": "execute_result"
    }
   ],
   "source": [
    "# Show network hyper-parameters\n",
    "\n",
    "print(\"List of Network parameters\")\n",
    "model.get_parameters()"
   ]
  },
  {
   "cell_type": "code",
   "execution_count": 9,
   "metadata": {
    "ExecuteTime": {
     "end_time": "2019-09-25T12:20:02.483379Z",
     "start_time": "2019-09-25T12:19:56.769071Z"
    },
    "hidden": true
   },
   "outputs": [
    {
     "name": "stdout",
     "output_type": "stream",
     "text": [
      "INFO:tensorflow:Reduce to /job:localhost/replica:0/task:0/device:CPU:0 then broadcast to ('/job:localhost/replica:0/task:0/device:CPU:0',).\n",
      "INFO:tensorflow:Reduce to /job:localhost/replica:0/task:0/device:CPU:0 then broadcast to ('/job:localhost/replica:0/task:0/device:CPU:0',).\n",
      "INFO:tensorflow:Reduce to /job:localhost/replica:0/task:0/device:CPU:0 then broadcast to ('/job:localhost/replica:0/task:0/device:CPU:0',).\n",
      "INFO:tensorflow:Reduce to /job:localhost/replica:0/task:0/device:CPU:0 then broadcast to ('/job:localhost/replica:0/task:0/device:CPU:0',).\n",
      "INFO:tensorflow:Reduce to /job:localhost/replica:0/task:0/device:CPU:0 then broadcast to ('/job:localhost/replica:0/task:0/device:CPU:0',).\n",
      "INFO:tensorflow:Reduce to /job:localhost/replica:0/task:0/device:CPU:0 then broadcast to ('/job:localhost/replica:0/task:0/device:CPU:0',).\n",
      "INFO:tensorflow:Reduce to /job:localhost/replica:0/task:0/device:CPU:0 then broadcast to ('/job:localhost/replica:0/task:0/device:CPU:0',).\n",
      "INFO:tensorflow:Reduce to /job:localhost/replica:0/task:0/device:CPU:0 then broadcast to ('/job:localhost/replica:0/task:0/device:CPU:0',).\n",
      "INFO:tensorflow:Reduce to /job:localhost/replica:0/task:0/device:CPU:0 then broadcast to ('/job:localhost/replica:0/task:0/device:CPU:0',).\n",
      "INFO:tensorflow:Reduce to /job:localhost/replica:0/task:0/device:CPU:0 then broadcast to ('/job:localhost/replica:0/task:0/device:CPU:0',).\n"
     ]
    }
   ],
   "source": [
    "# Define distribute strategy and build the full model\n",
    "\n",
    "TF_DISTRIBUTE_MIRRORED_STRATEGY = True\n",
    "TF_DISTRIBUTE_CENTRAL_STORAGE_STRATEGY = False\n",
    "\n",
    "if TF_DISTRIBUTE_MIRRORED_STRATEGY:\n",
    "\n",
    "    #     CROSS_DEVICE_OPS = tf.distribute.HierarchicalCopyAllReduce()\n",
    "    #     CROSS_DEVICE_OPS = tf.distribute.ReductionToOneDevice()\n",
    "    CROSS_DEVICE_OPS = tf.distribute.NcclAllReduce()\n",
    "\n",
    "    strategy = tf.distribute.MirroredStrategy(\n",
    "        cross_device_ops=CROSS_DEVICE_OPS)\n",
    "\n",
    "    with strategy.scope():\n",
    "        model.build_model()\n",
    "\n",
    "if TF_DISTRIBUTE_CENTRAL_STORAGE_STRATEGY:\n",
    "    pass\n",
    "\n",
    "#     strategy = tf.distribute.experimental.CentralStorageStrategy()\n",
    "\n",
    "#     with strategy.scope():\n",
    "\n",
    "# #         BATCH_SIZE_PER_REPLICA = model.batch_size\n",
    "# #         global_batch_size = (BATCH_SIZE_PER_REPLICA * mirrored_strategy.num_replicas_in_sync)\n",
    "# #         model.batch_size = global_batch_size\n",
    "#         model.build_model()"
   ]
  },
  {
   "cell_type": "code",
   "execution_count": 10,
   "metadata": {
    "ExecuteTime": {
     "end_time": "2019-09-25T12:20:02.761425Z",
     "start_time": "2019-09-25T12:20:02.682702Z"
    },
    "hidden": true,
    "scrolled": true
   },
   "outputs": [
    {
     "name": "stdout",
     "output_type": "stream",
     "text": [
      "\n",
      "Encoder Network\n",
      "===============\n",
      "Model: \"encoder\"\n",
      "__________________________________________________________________________________________________\n",
      "Layer (type)                    Output Shape         Param #     Connected to                     \n",
      "==================================================================================================\n",
      "X (InputLayer)                  [(None, 2145)]       0                                            \n",
      "__________________________________________________________________________________________________\n",
      "H_1 (Dense)                     (None, 200)          429200      X[0][0]                          \n",
      "__________________________________________________________________________________________________\n",
      "BN_1 (BatchNormalization)       (None, 200)          800         H_1[0][0]                        \n",
      "__________________________________________________________________________________________________\n",
      "LR_1 (LeakyReLU)                (None, 200)          0           BN_1[0][0]                       \n",
      "__________________________________________________________________________________________________\n",
      "D_1 (Dropout)                   (None, 200)          0           LR_1[0][0]                       \n",
      "__________________________________________________________________________________________________\n",
      "H_2 (Dense)                     (None, 100)          20100       D_1[0][0]                        \n",
      "__________________________________________________________________________________________________\n",
      "BN_2 (BatchNormalization)       (None, 100)          400         H_2[0][0]                        \n",
      "__________________________________________________________________________________________________\n",
      "LR_2 (LeakyReLU)                (None, 100)          0           BN_2[0][0]                       \n",
      "__________________________________________________________________________________________________\n",
      "D_2 (Dropout)                   (None, 100)          0           LR_2[0][0]                       \n",
      "__________________________________________________________________________________________________\n",
      "H_3 (Dense)                     (None, 50)           5050        D_2[0][0]                        \n",
      "__________________________________________________________________________________________________\n",
      "BN_3 (BatchNormalization)       (None, 50)           200         H_3[0][0]                        \n",
      "__________________________________________________________________________________________________\n",
      "LR_3 (LeakyReLU)                (None, 50)           0           BN_3[0][0]                       \n",
      "__________________________________________________________________________________________________\n",
      "D_3 (Dropout)                   (None, 50)           0           LR_3[0][0]                       \n",
      "__________________________________________________________________________________________________\n",
      "H_4 (Dense)                     (None, 30)           1530        D_3[0][0]                        \n",
      "__________________________________________________________________________________________________\n",
      "BN_4 (BatchNormalization)       (None, 30)           120         H_4[0][0]                        \n",
      "__________________________________________________________________________________________________\n",
      "LR_4 (LeakyReLU)                (None, 30)           0           BN_4[0][0]                       \n",
      "__________________________________________________________________________________________________\n",
      "D_4 (Dropout)                   (None, 30)           0           LR_4[0][0]                       \n",
      "__________________________________________________________________________________________________\n",
      "H_z (Dense)                     (None, 30)           930         D_4[0][0]                        \n",
      "__________________________________________________________________________________________________\n",
      "H_y (Dense)                     (None, 30)           930         D_4[0][0]                        \n",
      "__________________________________________________________________________________________________\n",
      "BN_z (BatchNormalization)       (None, 30)           120         H_z[0][0]                        \n",
      "__________________________________________________________________________________________________\n",
      "BN_y (BatchNormalization)       (None, 30)           120         H_y[0][0]                        \n",
      "__________________________________________________________________________________________________\n",
      "LR_z (LeakyReLU)                (None, 30)           0           BN_z[0][0]                       \n",
      "__________________________________________________________________________________________________\n",
      "LR_y (LeakyReLU)                (None, 30)           0           BN_y[0][0]                       \n",
      "__________________________________________________________________________________________________\n",
      "D_z (Dropout)                   (None, 30)           0           LR_z[0][0]                       \n",
      "__________________________________________________________________________________________________\n",
      "D_y (Dropout)                   (None, 30)           0           LR_y[0][0]                       \n",
      "__________________________________________________________________________________________________\n",
      "z_mean (Dense)                  (None, 10)           310         D_z[0][0]                        \n",
      "__________________________________________________________________________________________________\n",
      "z_log_var (Dense)               (None, 10)           310         D_z[0][0]                        \n",
      "__________________________________________________________________________________________________\n",
      "logits (Dense)                  (None, 17)           527         D_y[0][0]                        \n",
      "__________________________________________________________________________________________________\n",
      "Z (Lambda)                      (None, 10)           0           z_mean[0][0]                     \n",
      "                                                                 z_log_var[0][0]                  \n",
      "__________________________________________________________________________________________________\n",
      "y (Lambda)                      (None, 17)           1           logits[0][0]                     \n",
      "==================================================================================================\n",
      "Total params: 460,648\n",
      "Trainable params: 459,768\n",
      "Non-trainable params: 880\n",
      "__________________________________________________________________________________________________\n",
      "\n",
      "Decoder Network\n",
      "===============\n",
      "Model: \"decoder\"\n",
      "__________________________________________________________________________________________________\n",
      "Layer (type)                    Output Shape         Param #     Connected to                     \n",
      "==================================================================================================\n",
      "Z (InputLayer)                  [(None, 10)]         0                                            \n",
      "__________________________________________________________________________________________________\n",
      "y (InputLayer)                  [(None, 17)]         0                                            \n",
      "__________________________________________________________________________________________________\n",
      "Z_y (Concatenate)               (None, 27)           0           Z[0][0]                          \n",
      "                                                                 y[0][0]                          \n",
      "__________________________________________________________________________________________________\n",
      "H_1 (Dense)                     (None, 30)           840         Z_y[0][0]                        \n",
      "__________________________________________________________________________________________________\n",
      "BN_1 (BatchNormalization)       (None, 30)           120         H_1[0][0]                        \n",
      "__________________________________________________________________________________________________\n",
      "LR_1 (LeakyReLU)                (None, 30)           0           BN_1[0][0]                       \n",
      "__________________________________________________________________________________________________\n",
      "D_1 (Dropout)                   (None, 30)           0           LR_1[0][0]                       \n",
      "__________________________________________________________________________________________________\n",
      "H_2 (Dense)                     (None, 50)           1550        D_1[0][0]                        \n",
      "__________________________________________________________________________________________________\n",
      "BN_2 (BatchNormalization)       (None, 50)           200         H_2[0][0]                        \n",
      "__________________________________________________________________________________________________\n",
      "LR_2 (LeakyReLU)                (None, 50)           0           BN_2[0][0]                       \n",
      "__________________________________________________________________________________________________\n",
      "D_2 (Dropout)                   (None, 50)           0           LR_2[0][0]                       \n",
      "__________________________________________________________________________________________________\n",
      "H_3 (Dense)                     (None, 100)          5100        D_2[0][0]                        \n",
      "__________________________________________________________________________________________________\n",
      "BN_3 (BatchNormalization)       (None, 100)          400         H_3[0][0]                        \n",
      "__________________________________________________________________________________________________\n",
      "LR_3 (LeakyReLU)                (None, 100)          0           BN_3[0][0]                       \n",
      "__________________________________________________________________________________________________\n",
      "D_3 (Dropout)                   (None, 100)          0           LR_3[0][0]                       \n",
      "__________________________________________________________________________________________________\n",
      "H_4 (Dense)                     (None, 200)          20200       D_3[0][0]                        \n",
      "__________________________________________________________________________________________________\n",
      "BN_4 (BatchNormalization)       (None, 200)          800         H_4[0][0]                        \n",
      "__________________________________________________________________________________________________\n",
      "LR_4 (LeakyReLU)                (None, 200)          0           BN_4[0][0]                       \n",
      "__________________________________________________________________________________________________\n",
      "D_4 (Dropout)                   (None, 200)          0           LR_4[0][0]                       \n",
      "__________________________________________________________________________________________________\n",
      "Xp (Dense)                      (None, 2145)         431145      D_4[0][0]                        \n",
      "==================================================================================================\n",
      "Total params: 460,355\n",
      "Trainable params: 459,595\n",
      "Non-trainable params: 760\n",
      "__________________________________________________________________________________________________\n",
      "\n",
      "Autoencoder Network\n",
      "===================\n",
      "Model: \"autoencoder\"\n",
      "__________________________________________________________________________________________________\n",
      "Layer (type)                    Output Shape         Param #     Connected to                     \n",
      "==================================================================================================\n",
      "X (InputLayer)                  [(None, 2145)]       0                                            \n",
      "__________________________________________________________________________________________________\n",
      "encoder (Model)                 [(None, 10), (None,  460648      X[0][0]                          \n",
      "                                                                 X[0][0]                          \n",
      "__________________________________________________________________________________________________\n",
      "decoder (Model)                 (None, 2145)         460355      encoder[1][2]                    \n",
      "                                                                 encoder[2][3]                    \n",
      "__________________________________________________________________________________________________\n",
      "discriminator (Model)           (None, 1)            30431       encoder[1][2]                    \n",
      "__________________________________________________________________________________________________\n",
      "discriminator_cat (Model)       (None, 1)            31831       encoder[2][3]                    \n",
      "==================================================================================================\n",
      "Total params: 983,265\n",
      "Trainable params: 919,363\n",
      "Non-trainable params: 63,902\n",
      "__________________________________________________________________________________________________\n",
      "\n",
      "Discriminator Network\n",
      "=====================\n",
      "Model: \"discriminator\"\n",
      "_________________________________________________________________\n",
      "Layer (type)                 Output Shape              Param #   \n",
      "=================================================================\n",
      "Z (InputLayer)               [(None, 10)]              0         \n",
      "_________________________________________________________________\n",
      "H_1 (Dense)                  (None, 200)               2200      \n",
      "_________________________________________________________________\n",
      "BN_1 (BatchNormalization)    (None, 200)               800       \n",
      "_________________________________________________________________\n",
      "LR_1 (LeakyReLU)             (None, 200)               0         \n",
      "_________________________________________________________________\n",
      "D_1 (Dropout)                (None, 200)               0         \n",
      "_________________________________________________________________\n",
      "H_2 (Dense)                  (None, 100)               20100     \n",
      "_________________________________________________________________\n",
      "BN_2 (BatchNormalization)    (None, 100)               400       \n",
      "_________________________________________________________________\n",
      "LR_2 (LeakyReLU)             (None, 100)               0         \n",
      "_________________________________________________________________\n",
      "D_2 (Dropout)                (None, 100)               0         \n",
      "_________________________________________________________________\n",
      "H_3 (Dense)                  (None, 50)                5050      \n",
      "_________________________________________________________________\n",
      "BN_3 (BatchNormalization)    (None, 50)                200       \n",
      "_________________________________________________________________\n",
      "LR_3 (LeakyReLU)             (None, 50)                0         \n",
      "_________________________________________________________________\n",
      "D_3 (Dropout)                (None, 50)                0         \n",
      "_________________________________________________________________\n",
      "H_4 (Dense)                  (None, 30)                1530      \n",
      "_________________________________________________________________\n",
      "BN_4 (BatchNormalization)    (None, 30)                120       \n",
      "_________________________________________________________________\n",
      "LR_4 (LeakyReLU)             (None, 30)                0         \n",
      "_________________________________________________________________\n",
      "D_4 (Dropout)                (None, 30)                0         \n",
      "_________________________________________________________________\n",
      "Check (Dense)                (None, 1)                 31        \n",
      "=================================================================\n",
      "Total params: 30,431\n",
      "Trainable params: 29,671\n",
      "Non-trainable params: 760\n",
      "_________________________________________________________________\n",
      "\n",
      "Categorical Discriminator Network\n",
      "=================================\n",
      "Model: \"discriminator_cat\"\n",
      "_________________________________________________________________\n",
      "Layer (type)                 Output Shape              Param #   \n",
      "=================================================================\n",
      "y (InputLayer)               [(None, 17)]              0         \n",
      "_________________________________________________________________\n",
      "H_1 (Dense)                  (None, 200)               3600      \n",
      "_________________________________________________________________\n",
      "BN_1 (BatchNormalization)    (None, 200)               800       \n",
      "_________________________________________________________________\n",
      "LR_1 (LeakyReLU)             (None, 200)               0         \n",
      "_________________________________________________________________\n",
      "D_1 (Dropout)                (None, 200)               0         \n",
      "_________________________________________________________________\n",
      "H_2 (Dense)                  (None, 100)               20100     \n",
      "_________________________________________________________________\n",
      "BN_2 (BatchNormalization)    (None, 100)               400       \n",
      "_________________________________________________________________\n",
      "LR_2 (LeakyReLU)             (None, 100)               0         \n",
      "_________________________________________________________________\n",
      "D_2 (Dropout)                (None, 100)               0         \n",
      "_________________________________________________________________\n",
      "H_3 (Dense)                  (None, 50)                5050      \n",
      "_________________________________________________________________\n",
      "BN_3 (BatchNormalization)    (None, 50)                200       \n",
      "_________________________________________________________________\n",
      "LR_3 (LeakyReLU)             (None, 50)                0         \n",
      "_________________________________________________________________\n",
      "D_3 (Dropout)                (None, 50)                0         \n",
      "_________________________________________________________________\n",
      "H_4 (Dense)                  (None, 30)                1530      \n",
      "_________________________________________________________________\n",
      "BN_4 (BatchNormalization)    (None, 30)                120       \n",
      "_________________________________________________________________\n",
      "LR_4 (LeakyReLU)             (None, 30)                0         \n",
      "_________________________________________________________________\n",
      "D_4 (Dropout)                (None, 30)                0         \n",
      "_________________________________________________________________\n",
      "Check (Dense)                (None, 1)                 31        \n",
      "=================================================================\n",
      "Total params: 31,831\n",
      "Trainable params: 31,071\n",
      "Non-trainable params: 760\n",
      "_________________________________________________________________\n"
     ]
    }
   ],
   "source": [
    "# Model summary\n",
    "\n",
    "model.get_summary()"
   ]
  },
  {
   "cell_type": "code",
   "execution_count": 11,
   "metadata": {
    "ExecuteTime": {
     "end_time": "2019-09-25T12:20:04.039302Z",
     "start_time": "2019-09-25T12:20:02.947723Z"
    },
    "hidden": true
   },
   "outputs": [
    {
     "name": "stdout",
     "output_type": "stream",
     "text": [
      "Model graphs saved.\n",
      "\n"
     ]
    }
   ],
   "source": [
    "# Export model graphs\n",
    "\n",
    "log_dir = '../results/AAE2/PBMC10k/'\n",
    "os.makedirs(log_dir + 'graphs', exist_ok=True)\n",
    "model.export_graph('../results/AAE2/PBMC10k/graphs')"
   ]
  },
  {
   "cell_type": "markdown",
   "metadata": {
    "heading_collapsed": true
   },
   "source": [
    "### Visualize graphs"
   ]
  },
  {
   "cell_type": "markdown",
   "metadata": {
    "ExecuteTime": {
     "end_time": "2019-09-05T16:51:38.875223Z",
     "start_time": "2019-09-05T16:51:38.872254Z"
    },
    "hidden": true
   },
   "source": [
    "[ENCODER](../results/AAE2/PBMC10k/graphs/encoder.png)"
   ]
  },
  {
   "cell_type": "markdown",
   "metadata": {
    "hidden": true
   },
   "source": [
    "[DECODER](../results/AAE2/PBMC10k/graphs/decoder.png)"
   ]
  },
  {
   "cell_type": "markdown",
   "metadata": {
    "hidden": true
   },
   "source": [
    "[DISCRIMINATOR](../results/AAE2/PBMC10k/graphs/discriminator.png)"
   ]
  },
  {
   "cell_type": "markdown",
   "metadata": {
    "hidden": true
   },
   "source": [
    "[AUTOENCODER](../results/AAE2/PBMC10k/graphs/autoencoder.png)"
   ]
  },
  {
   "cell_type": "markdown",
   "metadata": {
    "heading_collapsed": true
   },
   "source": [
    "### Train the model\n"
   ]
  },
  {
   "cell_type": "code",
   "execution_count": 11,
   "metadata": {
    "hidden": true
   },
   "outputs": [],
   "source": [
    "# Create the input dataset\n",
    "MODE = 'Dataset'\n",
    "\n",
    "BATCH_SIZE_PER_REPLICA = model.batch_size\n",
    "global_batch_size = (BATCH_SIZE_PER_REPLICA *\n",
    "                     strategy.num_replicas_in_sync)\n",
    "    \n",
    "if MODE == 'Dataset':\n",
    "\n",
    "    train_dataset = tf.data.Dataset.from_tensor_slices(model.data).repeat(model.epochs).shuffle(\n",
    "        len(model.data)).batch(global_batch_size, drop_remainder=True)\n",
    "\n",
    "    distributed_train_dataset = strategy.experimental_distribute_dataset(\n",
    "        train_dataset)\n",
    "\n",
    "elif MODE == 'TFRecord':\n",
    "\n",
    "    data_file = '../data/proc/pbmc10k.tfrecord.train'\n",
    "\n",
    "    train_dataset = data_generator(data_file,\n",
    "                                    batch_size=global_batch_size,\n",
    "                                    epochs=model.epochs,\n",
    "                                    is_training=True)\n",
    "\n",
    "    distributed_train_dataset = strategy.experimental_distribute_dataset(\n",
    "        train_dataset)\n",
    "\n",
    "else:\n",
    "    print(\"Choose input dataset mode between 'Dataset' and 'TFRecord'.\")"
   ]
  },
  {
   "cell_type": "code",
   "execution_count": 14,
   "metadata": {
    "hidden": true
   },
   "outputs": [],
   "source": [
    "with strategy.scope():\n",
    "    \n",
    "    def train_step(input_batch):\n",
    "        \n",
    "        batch = input_batch\n",
    "        \n",
    "        dis_loss, dis_cat_loss, auto_loss = model.train_on_batch(batch)\n",
    "        \n",
    "        return dis_loss, dis_cat_loss, auto_loss"
   ]
  },
  {
   "cell_type": "code",
   "execution_count": null,
   "metadata": {
    "hidden": true
   },
   "outputs": [
    {
     "name": "stdout",
     "output_type": "stream",
     "text": [
      "Start model training...\n",
      "\n",
      "INFO:tensorflow:batch_all_reduce: 18 all-reduces with algorithm = nccl, num_packs = 1, agg_small_grads_max_bytes = 0 and agg_small_grads_max_group = 10\n",
      "INFO:tensorflow:batch_all_reduce: 18 all-reduces with algorithm = nccl, num_packs = 1, agg_small_grads_max_bytes = 0 and agg_small_grads_max_group = 10\n",
      "INFO:tensorflow:batch_all_reduce: 49 all-reduces with algorithm = nccl, num_packs = 1, agg_small_grads_max_bytes = 0 and agg_small_grads_max_group = 10\n",
      "INFO:tensorflow:batch_all_reduce: 18 all-reduces with algorithm = nccl, num_packs = 1, agg_small_grads_max_bytes = 0 and agg_small_grads_max_group = 10\n"
     ]
    }
   ],
   "source": [
    "# Training...\n",
    "\n",
    "log_dir = '../results/AAE1/PBMC10k/'\n",
    "os.makedirs(log_dir, exist_ok=True)\n",
    "\n",
    "GRAPH = True\n",
    "GENE = 'CST3'  # used only for training visualization\n",
    "\n",
    "\n",
    "with strategy.scope():\n",
    "    \n",
    "    rec_loss = []\n",
    "    dis_loss = []\n",
    "    dis_cat_loss = []\n",
    "    \n",
    "#     @tf.function\n",
    "    def distributed_train_step(dist_batch):\n",
    "        \"\"\"It replicates the training step and runs the calculation with distributed input.\n",
    "        \n",
    "        \"\"\"\n",
    "        \n",
    "        per_replica_dis_losses, per_replica_dis_cat_losses, per_replica_auto_losses = strategy.experimental_run_v2(\n",
    "            train_step, \n",
    "            args=(dist_batch,))\n",
    "        \n",
    "        red_dis_loss = strategy.reduce(\n",
    "             tf.distribute.ReduceOp.SUM, per_replica_dis_losses, axis=0)\n",
    "        \n",
    "        red_dis_cat_loss = strategy.reduce(\n",
    "             tf.distribute.ReduceOp.SUM, per_replica_dis_losses, axis=0)\n",
    "\n",
    "        red_auto_loss = strategy.reduce(\n",
    "             tf.distribute.ReduceOp.SUM, per_replica_auto_losses, axis=0)\n",
    "        \n",
    "        return red_dis_loss, red_dis_cat_loss, red_auto_loss\n",
    "    \n",
    "    print(\"Start model training...\\n\")\n",
    "        \n",
    "    for epoch in range(model.epochs):\n",
    "        \n",
    "        num_batches = 0\n",
    "        total_dis_loss = 0.0\n",
    "        total_dis_cat_loss = 0.0\n",
    "        total_auto_loss = 0.0\n",
    "            \n",
    "        for batch in distributed_train_dataset:\n",
    "            \n",
    "            red_dis_loss, red_dis_cat_loss, red_auto_loss = distributed_train_step(batch)\n",
    "            total_dis_loss += red_dis_loss\n",
    "            total_dis_cat_loss += red_dis_cat_loss\n",
    "            total_auto_loss += red_auto_loss\n",
    "            num_batches += 1\n",
    "            \n",
    "        train_dis_loss = total_dis_loss / num_batches\n",
    "        train_dis_cat_loss = total_dis_cat_loss / num_batches\n",
    "        train_auto_loss = total_auto_loss / num_batches\n",
    "        \n",
    "        dis_loss.append(red_dis_loss.numpy())\n",
    "        dis_cat_loss.append(red_dis_cat_loss.numpy())\n",
    "        rec_loss.append(red_auto_loss.numpy())\n",
    "        \n",
    "        message = (\"Epoch {0:d}/{1:d}, rec. loss: {2:.6f}, dis. loss: {3:.6f}, cat. dis. loss: {4:.6f}\")\n",
    "        \n",
    "        clear_output(wait=True)\n",
    "        \n",
    "        print(message.format(\n",
    "                        *[epoch+1, model.epochs, \n",
    "                          train_auto_loss.numpy(), \n",
    "                          train_dis_loss.numpy(),\n",
    "                          train_dis_cat_loss.numpy()])\n",
    "             )\n",
    "        \n",
    "        if GRAPH and (GENE is not None):\n",
    "            \n",
    "            model.plot_umap(gene_selected=[GENE], louvain=True)\n",
    "\n",
    "        \n",
    "    print(\"Training completed.\")\n",
    "\n",
    "    # save models in h5 format\n",
    "    makedirs(log_dir + 'models/', exist_ok=True)\n",
    "    model.export_model(log_dir + 'models/')"
   ]
  },
  {
   "cell_type": "code",
   "execution_count": 19,
   "metadata": {
    "hidden": true
   },
   "outputs": [],
   "source": [
    "#!tensorboard --logdir=../results/AAE2/PBMC10k/"
   ]
  },
  {
   "cell_type": "code",
   "execution_count": null,
   "metadata": {
    "hidden": true
   },
   "outputs": [],
   "source": [
    "# Plot training loss values\n",
    "\n",
    "plt.figure(figsize=(8, 6))\n",
    "axes = plt.gca()\n",
    "x_range = np.arange(1, model.epochs + 1, 1)\n",
    "plt.plot(x_range, rec_loss, 'bo-')\n",
    "plt.plot(x_range, dis_loss, 'ro-')\n",
    "plt.plot(x_range, dis_cat_loss, 'go-')\n",
    "plt.ylabel('Loss')\n",
    "plt.xlabel('Epoch')\n",
    "plt.legend(['Reconstruction', 'Discriminator', 'Cat. Discriminator'], loc='upper right')\n",
    "plt.show()"
   ]
  },
  {
   "cell_type": "code",
   "execution_count": null,
   "metadata": {
    "ExecuteTime": {
     "end_time": "2019-08-26T10:15:21.684116Z",
     "start_time": "2019-08-26T10:15:04.629109Z"
    },
    "hidden": true
   },
   "outputs": [],
   "source": [
    "GENE_LIST = ['CST3', 'NKG7', 'PPBP']\n",
    "model.plot_umap(gene_selected=GENE_LIST, louvain=True)"
   ]
  },
  {
   "cell_type": "code",
   "execution_count": null,
   "metadata": {
    "ExecuteTime": {
     "end_time": "2019-09-06T14:08:19.347766Z",
     "start_time": "2019-09-06T14:07:58.469423Z"
    },
    "hidden": true
   },
   "outputs": [],
   "source": [
    "from tensorflow.keras.models import load_model\n",
    "from sklearn.metrics import adjusted_rand_score\n",
    "from sklearn.metrics.cluster import adjusted_mutual_info_score\n",
    "\n",
    "# BUG: currently loading a model with multiple outpus generates an AttributeError\n",
    "# log_dir = '../results/AAE2/PBMC10k/'\n",
    "# model.encoder = load_model(log_dir + 'models/encoder.h5')\n",
    "\n",
    "labels_true = model.labels\n",
    "\n",
    "model.update_labels(res=0.6)\n",
    "labels_pred = model.labels\n",
    "\n",
    "GENE_LIST = ['CST3']\n",
    "model.plot_umap(gene_selected=GENE_LIST, louvain=True)\n",
    "\n",
    "print(\"ARI = {}\".format(adjusted_rand_score(labels_true, labels_pred)))\n",
    "print(\"AMI = {}\".format(adjusted_mutual_info_score(labels_true, labels_pred)))"
   ]
  },
  {
   "cell_type": "markdown",
   "metadata": {
    "heading_collapsed": true
   },
   "source": [
    "## Variational Autoencoder"
   ]
  },
  {
   "cell_type": "markdown",
   "metadata": {
    "hidden": true
   },
   "source": [
    "<img src=\"img/variational_autoencoder_model.png\" width=\"800px\" style=\"float:center\">"
   ]
  },
  {
   "cell_type": "markdown",
   "metadata": {
    "hidden": true
   },
   "source": [
    "### Build the model"
   ]
  },
  {
   "cell_type": "code",
   "execution_count": 4,
   "metadata": {
    "ExecuteTime": {
     "end_time": "2019-09-25T03:45:08.912020Z",
     "start_time": "2019-09-25T03:45:08.907903Z"
    },
    "hidden": true
   },
   "outputs": [],
   "source": [
    "# Network parameters\n",
    "parameters = {\n",
    "    'latent_dim': 10,\n",
    "    'layers_enc_dim': [200, 100, 50, 30],\n",
    "    'layers_dec_dim': [30, 50, 100, 200],\n",
    "    'batch_size': 35,\n",
    "    'epochs': 500\n",
    "}"
   ]
  },
  {
   "cell_type": "code",
   "execution_count": 5,
   "metadata": {
    "ExecuteTime": {
     "end_time": "2019-09-25T03:45:09.643675Z",
     "start_time": "2019-09-25T03:45:09.640380Z"
    },
    "hidden": true
   },
   "outputs": [],
   "source": [
    "model = VAE(**parameters)"
   ]
  },
  {
   "cell_type": "code",
   "execution_count": 6,
   "metadata": {
    "ExecuteTime": {
     "end_time": "2019-09-25T03:45:13.645035Z",
     "start_time": "2019-09-25T03:45:10.361651Z"
    },
    "hidden": true
   },
   "outputs": [
    {
     "name": "stdout",
     "output_type": "stream",
     "text": [
      "Dataset imported.\n"
     ]
    }
   ],
   "source": [
    "# Import dataset\n",
    "\n",
    "data_path = '../data/proc/pbmc10k.h5ad'\n",
    "\n",
    "model.load_data(data_path)"
   ]
  },
  {
   "cell_type": "code",
   "execution_count": 7,
   "metadata": {
    "ExecuteTime": {
     "end_time": "2019-09-23T06:27:33.199940Z",
     "start_time": "2019-09-23T06:27:32.695077Z"
    },
    "hidden": true
   },
   "outputs": [
    {
     "name": "stdout",
     "output_type": "stream",
     "text": [
      "Dataset rescaled.\n"
     ]
    }
   ],
   "source": [
    "# Rescale gene expression data\n",
    "\n",
    "model.rescale_data()"
   ]
  },
  {
   "cell_type": "code",
   "execution_count": 8,
   "metadata": {
    "ExecuteTime": {
     "end_time": "2019-09-23T06:27:33.349551Z",
     "start_time": "2019-09-23T06:27:33.329362Z"
    },
    "hidden": true,
    "scrolled": true
   },
   "outputs": [
    {
     "name": "stdout",
     "output_type": "stream",
     "text": [
      "List of Network parameters\n"
     ]
    },
    {
     "data": {
      "text/html": [
       "<div>\n",
       "<style scoped>\n",
       "    .dataframe tbody tr th:only-of-type {\n",
       "        vertical-align: middle;\n",
       "    }\n",
       "\n",
       "    .dataframe tbody tr th {\n",
       "        vertical-align: top;\n",
       "    }\n",
       "\n",
       "    .dataframe thead th {\n",
       "        text-align: right;\n",
       "    }\n",
       "</style>\n",
       "<table border=\"1\" class=\"dataframe\">\n",
       "  <thead>\n",
       "    <tr style=\"text-align: right;\">\n",
       "      <th></th>\n",
       "      <th>Value</th>\n",
       "      <th>Description</th>\n",
       "    </tr>\n",
       "  </thead>\n",
       "  <tbody>\n",
       "    <tr>\n",
       "      <td>batch_size</td>\n",
       "      <td>35</td>\n",
       "      <td>batch size</td>\n",
       "    </tr>\n",
       "    <tr>\n",
       "      <td>epochs</td>\n",
       "      <td>500</td>\n",
       "      <td>number of epochs</td>\n",
       "    </tr>\n",
       "    <tr>\n",
       "      <td>alpha</td>\n",
       "      <td>0.1</td>\n",
       "      <td>alpha coeff. in activation function</td>\n",
       "    </tr>\n",
       "    <tr>\n",
       "      <td>do_rate</td>\n",
       "      <td>0.1</td>\n",
       "      <td>dropout rate</td>\n",
       "    </tr>\n",
       "    <tr>\n",
       "      <td>kernel_initializer</td>\n",
       "      <td>glorot_uniform</td>\n",
       "      <td>kernel initializer of all dense layers</td>\n",
       "    </tr>\n",
       "    <tr>\n",
       "      <td>bias_initializer</td>\n",
       "      <td>zeros</td>\n",
       "      <td>bias initializer of all dense layers</td>\n",
       "    </tr>\n",
       "    <tr>\n",
       "      <td>l2_weight</td>\n",
       "      <td>None</td>\n",
       "      <td>weight of l2 kernel regularization</td>\n",
       "    </tr>\n",
       "    <tr>\n",
       "      <td>l1_weight</td>\n",
       "      <td>None</td>\n",
       "      <td>weight of l1 activity regularization</td>\n",
       "    </tr>\n",
       "    <tr>\n",
       "      <td>latent_dim</td>\n",
       "      <td>10</td>\n",
       "      <td>dimension of latent space Z</td>\n",
       "    </tr>\n",
       "    <tr>\n",
       "      <td>layer_1_enc_dim</td>\n",
       "      <td>200</td>\n",
       "      <td>dimension of encoder dense layer 1</td>\n",
       "    </tr>\n",
       "    <tr>\n",
       "      <td>layer_2_enc_dim</td>\n",
       "      <td>100</td>\n",
       "      <td>dimension of encoder dense layer 2</td>\n",
       "    </tr>\n",
       "    <tr>\n",
       "      <td>layer_3_enc_dim</td>\n",
       "      <td>50</td>\n",
       "      <td>dimension of encoder dense layer 3</td>\n",
       "    </tr>\n",
       "    <tr>\n",
       "      <td>layer_4_enc_dim</td>\n",
       "      <td>30</td>\n",
       "      <td>dimension of encoder dense layer 4</td>\n",
       "    </tr>\n",
       "    <tr>\n",
       "      <td>layer_1_dec_dim</td>\n",
       "      <td>30</td>\n",
       "      <td>dimension of decoder dense layer 1</td>\n",
       "    </tr>\n",
       "    <tr>\n",
       "      <td>layer_2_dec_dim</td>\n",
       "      <td>50</td>\n",
       "      <td>dimension of decoder dense layer 2</td>\n",
       "    </tr>\n",
       "    <tr>\n",
       "      <td>layer_3_dec_dim</td>\n",
       "      <td>100</td>\n",
       "      <td>dimension of decoder dense layer 3</td>\n",
       "    </tr>\n",
       "    <tr>\n",
       "      <td>layer_4_dec_dim</td>\n",
       "      <td>200</td>\n",
       "      <td>dimension of decoder dense layer 4</td>\n",
       "    </tr>\n",
       "    <tr>\n",
       "      <td>lr_ae</td>\n",
       "      <td>0.0002</td>\n",
       "      <td>learning rate of autoencoder</td>\n",
       "    </tr>\n",
       "    <tr>\n",
       "      <td>dr_ae</td>\n",
       "      <td>1e-06</td>\n",
       "      <td>decay rate of autoencoder</td>\n",
       "    </tr>\n",
       "  </tbody>\n",
       "</table>\n",
       "</div>"
      ],
      "text/plain": [
       "                             Value                             Description\n",
       "batch_size                      35                              batch size\n",
       "epochs                         500                        number of epochs\n",
       "alpha                          0.1     alpha coeff. in activation function\n",
       "do_rate                        0.1                            dropout rate\n",
       "kernel_initializer  glorot_uniform  kernel initializer of all dense layers\n",
       "bias_initializer             zeros    bias initializer of all dense layers\n",
       "l2_weight                     None      weight of l2 kernel regularization\n",
       "l1_weight                     None    weight of l1 activity regularization\n",
       "latent_dim                      10             dimension of latent space Z\n",
       "layer_1_enc_dim                200      dimension of encoder dense layer 1\n",
       "layer_2_enc_dim                100      dimension of encoder dense layer 2\n",
       "layer_3_enc_dim                 50      dimension of encoder dense layer 3\n",
       "layer_4_enc_dim                 30      dimension of encoder dense layer 4\n",
       "layer_1_dec_dim                 30      dimension of decoder dense layer 1\n",
       "layer_2_dec_dim                 50      dimension of decoder dense layer 2\n",
       "layer_3_dec_dim                100      dimension of decoder dense layer 3\n",
       "layer_4_dec_dim                200      dimension of decoder dense layer 4\n",
       "lr_ae                       0.0002            learning rate of autoencoder\n",
       "dr_ae                        1e-06               decay rate of autoencoder"
      ]
     },
     "execution_count": 8,
     "metadata": {},
     "output_type": "execute_result"
    }
   ],
   "source": [
    "# Show network hyper-parameters\n",
    "\n",
    "print(\"List of Network parameters\")\n",
    "model.get_parameters()"
   ]
  },
  {
   "cell_type": "code",
   "execution_count": 9,
   "metadata": {
    "ExecuteTime": {
     "end_time": "2019-09-23T06:27:37.198345Z",
     "start_time": "2019-09-23T06:27:35.944086Z"
    },
    "hidden": true
   },
   "outputs": [
    {
     "name": "stdout",
     "output_type": "stream",
     "text": [
      "INFO:tensorflow:Reduce to /job:localhost/replica:0/task:0/device:CPU:0 then broadcast to ('/job:localhost/replica:0/task:0/device:CPU:0',).\n",
      "INFO:tensorflow:Reduce to /job:localhost/replica:0/task:0/device:CPU:0 then broadcast to ('/job:localhost/replica:0/task:0/device:CPU:0',).\n",
      "INFO:tensorflow:Reduce to /job:localhost/replica:0/task:0/device:CPU:0 then broadcast to ('/job:localhost/replica:0/task:0/device:CPU:0',).\n",
      "INFO:tensorflow:Reduce to /job:localhost/replica:0/task:0/device:CPU:0 then broadcast to ('/job:localhost/replica:0/task:0/device:CPU:0',).\n",
      "INFO:tensorflow:Reduce to /job:localhost/replica:0/task:0/device:CPU:0 then broadcast to ('/job:localhost/replica:0/task:0/device:CPU:0',).\n",
      "INFO:tensorflow:Reduce to /job:localhost/replica:0/task:0/device:CPU:0 then broadcast to ('/job:localhost/replica:0/task:0/device:CPU:0',).\n",
      "INFO:tensorflow:Reduce to /job:localhost/replica:0/task:0/device:CPU:0 then broadcast to ('/job:localhost/replica:0/task:0/device:CPU:0',).\n",
      "INFO:tensorflow:Reduce to /job:localhost/replica:0/task:0/device:CPU:0 then broadcast to ('/job:localhost/replica:0/task:0/device:CPU:0',).\n",
      "INFO:tensorflow:Reduce to /job:localhost/replica:0/task:0/device:CPU:0 then broadcast to ('/job:localhost/replica:0/task:0/device:CPU:0',).\n",
      "INFO:tensorflow:Reduce to /job:localhost/replica:0/task:0/device:CPU:0 then broadcast to ('/job:localhost/replica:0/task:0/device:CPU:0',).\n",
      "WARNING:tensorflow:Output decoder missing from loss dictionary. We assume this was done on purpose. The fit and evaluate APIs will not be expecting any data to be passed to decoder.\n"
     ]
    }
   ],
   "source": [
    "# Build the full model\n",
    "\n",
    "# implement distribute strategy\n",
    "TF_DISTRIBUTE_MIRRORED_STRATEGY = True\n",
    "TF_DISTRIBUTE_CENTRAL_STORAGE_STRATEGY = False\n",
    "\n",
    "if TF_DISTRIBUTE_MIRRORED_STRATEGY:\n",
    "    \n",
    "#     CROSS_DEVICE_OPS = tf.distribute.HierarchicalCopyAllReduce()\n",
    "#     CROSS_DEVICE_OPS = tf.distribute.ReductionToOneDevice()\n",
    "    CROSS_DEVICE_OPS = tf.distribute.NcclAllReduce()\n",
    "    \n",
    "    mirrored_strategy = tf.distribute.MirroredStrategy(\n",
    "        cross_device_ops=CROSS_DEVICE_OPS)\n",
    "    \n",
    "    with mirrored_strategy.scope():\n",
    "        \n",
    "        BATCH_SIZE_PER_REPLICA = model.batch_size\n",
    "        global_batch_size = (BATCH_SIZE_PER_REPLICA * mirrored_strategy.num_replicas_in_sync)\n",
    "        model.batch_size = global_batch_size\n",
    "        model.build_model()\n",
    "\n",
    "# elif TF_DISTRIBUTE_CENTRAL_STORAGE_STRATEGY:\n",
    "    \n",
    "#     central_storage_strategy = tf.distribute.experimental.CentralStorageStrategy()\n",
    "    \n",
    "#     with central_storage_strategy.scope():\n",
    "        \n",
    "# #         BATCH_SIZE_PER_REPLICA = model.batch_size\n",
    "# #         global_batch_size = (BATCH_SIZE_PER_REPLICA * mirrored_strategy.num_replicas_in_sync)\n",
    "# #         model.batch_size = global_batch_size\n",
    "#         model.build_model()\n",
    "    \n",
    "else:\n",
    "    model.build_model()"
   ]
  },
  {
   "cell_type": "code",
   "execution_count": 10,
   "metadata": {
    "ExecuteTime": {
     "end_time": "2019-09-23T06:27:37.358451Z",
     "start_time": "2019-09-23T06:27:37.303485Z"
    },
    "hidden": true,
    "scrolled": true
   },
   "outputs": [
    {
     "name": "stdout",
     "output_type": "stream",
     "text": [
      "\n",
      "Encoder Network\n",
      "===============\n",
      "Model: \"encoder\"\n",
      "__________________________________________________________________________________________________\n",
      "Layer (type)                    Output Shape         Param #     Connected to                     \n",
      "==================================================================================================\n",
      "X (InputLayer)                  [(None, 2145)]       0                                            \n",
      "__________________________________________________________________________________________________\n",
      "H_1 (Dense)                     (None, 200)          429200      X[0][0]                          \n",
      "__________________________________________________________________________________________________\n",
      "BN_1 (BatchNormalization)       (None, 200)          800         H_1[0][0]                        \n",
      "__________________________________________________________________________________________________\n",
      "LR_1 (LeakyReLU)                (None, 200)          0           BN_1[0][0]                       \n",
      "__________________________________________________________________________________________________\n",
      "D_1 (Dropout)                   (None, 200)          0           LR_1[0][0]                       \n",
      "__________________________________________________________________________________________________\n",
      "H_2 (Dense)                     (None, 100)          20100       D_1[0][0]                        \n",
      "__________________________________________________________________________________________________\n",
      "BN_2 (BatchNormalization)       (None, 100)          400         H_2[0][0]                        \n",
      "__________________________________________________________________________________________________\n",
      "LR_2 (LeakyReLU)                (None, 100)          0           BN_2[0][0]                       \n",
      "__________________________________________________________________________________________________\n",
      "D_2 (Dropout)                   (None, 100)          0           LR_2[0][0]                       \n",
      "__________________________________________________________________________________________________\n",
      "H_3 (Dense)                     (None, 50)           5050        D_2[0][0]                        \n",
      "__________________________________________________________________________________________________\n",
      "BN_3 (BatchNormalization)       (None, 50)           200         H_3[0][0]                        \n",
      "__________________________________________________________________________________________________\n",
      "LR_3 (LeakyReLU)                (None, 50)           0           BN_3[0][0]                       \n",
      "__________________________________________________________________________________________________\n",
      "D_3 (Dropout)                   (None, 50)           0           LR_3[0][0]                       \n",
      "__________________________________________________________________________________________________\n",
      "H_4 (Dense)                     (None, 30)           1530        D_3[0][0]                        \n",
      "__________________________________________________________________________________________________\n",
      "BN_4 (BatchNormalization)       (None, 30)           120         H_4[0][0]                        \n",
      "__________________________________________________________________________________________________\n",
      "LR_4 (LeakyReLU)                (None, 30)           0           BN_4[0][0]                       \n",
      "__________________________________________________________________________________________________\n",
      "D_4 (Dropout)                   (None, 30)           0           LR_4[0][0]                       \n",
      "__________________________________________________________________________________________________\n",
      "z_mean (Dense)                  (None, 10)           310         D_4[0][0]                        \n",
      "__________________________________________________________________________________________________\n",
      "z_log_var (Dense)               (None, 10)           310         D_4[0][0]                        \n",
      "__________________________________________________________________________________________________\n",
      "Z (Lambda)                      (None, 10)           0           z_mean[0][0]                     \n",
      "                                                                 z_log_var[0][0]                  \n",
      "==================================================================================================\n",
      "Total params: 458,020\n",
      "Trainable params: 457,260\n",
      "Non-trainable params: 760\n",
      "__________________________________________________________________________________________________\n",
      "\n",
      "Decoder Network\n",
      "===============\n",
      "Model: \"decoder\"\n",
      "_________________________________________________________________\n",
      "Layer (type)                 Output Shape              Param #   \n",
      "=================================================================\n",
      "Z (InputLayer)               [(None, 10)]              0         \n",
      "_________________________________________________________________\n",
      "H_1 (Dense)                  (None, 30)                330       \n",
      "_________________________________________________________________\n",
      "BN_1 (BatchNormalization)    (None, 30)                120       \n",
      "_________________________________________________________________\n",
      "LR_1 (LeakyReLU)             (None, 30)                0         \n",
      "_________________________________________________________________\n",
      "D_1 (Dropout)                (None, 30)                0         \n",
      "_________________________________________________________________\n",
      "H_2 (Dense)                  (None, 50)                1550      \n",
      "_________________________________________________________________\n",
      "BN_2 (BatchNormalization)    (None, 50)                200       \n",
      "_________________________________________________________________\n",
      "LR_2 (LeakyReLU)             (None, 50)                0         \n",
      "_________________________________________________________________\n",
      "D_2 (Dropout)                (None, 50)                0         \n",
      "_________________________________________________________________\n",
      "H_3 (Dense)                  (None, 100)               5100      \n",
      "_________________________________________________________________\n",
      "BN_3 (BatchNormalization)    (None, 100)               400       \n",
      "_________________________________________________________________\n",
      "LR_3 (LeakyReLU)             (None, 100)               0         \n",
      "_________________________________________________________________\n",
      "D_3 (Dropout)                (None, 100)               0         \n",
      "_________________________________________________________________\n",
      "H_4 (Dense)                  (None, 200)               20200     \n",
      "_________________________________________________________________\n",
      "BN_4 (BatchNormalization)    (None, 200)               800       \n",
      "_________________________________________________________________\n",
      "LR_4 (LeakyReLU)             (None, 200)               0         \n",
      "_________________________________________________________________\n",
      "D_4 (Dropout)                (None, 200)               0         \n",
      "_________________________________________________________________\n",
      "Xp (Dense)                   (None, 2145)              431145    \n",
      "=================================================================\n",
      "Total params: 459,845\n",
      "Trainable params: 459,085\n",
      "Non-trainable params: 760\n",
      "_________________________________________________________________\n",
      "\n",
      "Autoencoder Network\n",
      "===================\n",
      "Model: \"autoencoder\"\n",
      "__________________________________________________________________________________________________\n",
      "Layer (type)                    Output Shape         Param #     Connected to                     \n",
      "==================================================================================================\n",
      "X (InputLayer)                  [(None, 2145)]       0                                            \n",
      "__________________________________________________________________________________________________\n",
      "encoder (Model)                 [(None, 10), (None,  458020      X[0][0]                          \n",
      "                                                                 X[0][0]                          \n",
      "                                                                 X[0][0]                          \n",
      "__________________________________________________________________________________________________\n",
      "decoder (Model)                 (None, 2145)         459845      encoder[1][2]                    \n",
      "__________________________________________________________________________________________________\n",
      "tf_op_layer_add (TensorFlowOpLa [(None, 10)]         0           encoder[3][1]                    \n",
      "__________________________________________________________________________________________________\n",
      "tf_op_layer_Square (TensorFlowO [(None, 10)]         0           encoder[2][0]                    \n",
      "__________________________________________________________________________________________________\n",
      "tf_op_layer_sub (TensorFlowOpLa [(None, 10)]         0           tf_op_layer_add[0][0]            \n",
      "                                                                 tf_op_layer_Square[0][0]         \n",
      "__________________________________________________________________________________________________\n",
      "tf_op_layer_Exp (TensorFlowOpLa [(None, 10)]         0           encoder[3][1]                    \n",
      "__________________________________________________________________________________________________\n",
      "tf_op_layer_SquaredDifference ( [(None, 2145)]       0           decoder[1][0]                    \n",
      "                                                                 X[0][0]                          \n",
      "__________________________________________________________________________________________________\n",
      "tf_op_layer_sub_1 (TensorFlowOp [(None, 10)]         0           tf_op_layer_sub[0][0]            \n",
      "                                                                 tf_op_layer_Exp[0][0]            \n",
      "__________________________________________________________________________________________________\n",
      "tf_op_layer_Mean (TensorFlowOpL [(None,)]            0           tf_op_layer_SquaredDifference[0][\n",
      "__________________________________________________________________________________________________\n",
      "tf_op_layer_Sum (TensorFlowOpLa [(None,)]            0           tf_op_layer_sub_1[0][0]          \n",
      "__________________________________________________________________________________________________\n",
      "tf_op_layer_mul (TensorFlowOpLa [(None,)]            0           tf_op_layer_Mean[0][0]           \n",
      "__________________________________________________________________________________________________\n",
      "tf_op_layer_mul_1 (TensorFlowOp [(None,)]            0           tf_op_layer_Sum[0][0]            \n",
      "__________________________________________________________________________________________________\n",
      "tf_op_layer_add_1 (TensorFlowOp [(None,)]            0           tf_op_layer_mul[0][0]            \n",
      "                                                                 tf_op_layer_mul_1[0][0]          \n",
      "__________________________________________________________________________________________________\n",
      "tf_op_layer_Mean_1 (TensorFlowO [()]                 0           tf_op_layer_add_1[0][0]          \n",
      "__________________________________________________________________________________________________\n",
      "add_loss (AddLoss)              ()                   0           tf_op_layer_Mean_1[0][0]         \n",
      "==================================================================================================\n",
      "Total params: 917,865\n",
      "Trainable params: 916,345\n",
      "Non-trainable params: 1,520\n",
      "__________________________________________________________________________________________________\n"
     ]
    }
   ],
   "source": [
    "# Model summary\n",
    "\n",
    "model.get_summary()"
   ]
  },
  {
   "cell_type": "code",
   "execution_count": 11,
   "metadata": {
    "ExecuteTime": {
     "end_time": "2019-09-23T06:27:41.353510Z",
     "start_time": "2019-09-23T06:27:40.735059Z"
    },
    "hidden": true,
    "scrolled": true
   },
   "outputs": [
    {
     "name": "stdout",
     "output_type": "stream",
     "text": [
      "Failed to import pydot. You must install pydot and graphviz for `pydotprint` to work.\n",
      "Failed to import pydot. You must install pydot and graphviz for `pydotprint` to work.\n",
      "Failed to import pydot. You must install pydot and graphviz for `pydotprint` to work.\n",
      "Model graphs saved.\n",
      "\n"
     ]
    }
   ],
   "source": [
    "# Export model graphs\n",
    "\n",
    "log_dir = '../results/VAE/PBMC10k/'\n",
    "os.makedirs(log_dir + 'graphs', exist_ok=True)\n",
    "model.export_graph('../results/VAE/PBMC10k/graphs')"
   ]
  },
  {
   "cell_type": "markdown",
   "metadata": {
    "heading_collapsed": true,
    "hidden": true
   },
   "source": [
    "### Visualize graphs"
   ]
  },
  {
   "cell_type": "markdown",
   "metadata": {
    "ExecuteTime": {
     "end_time": "2019-09-05T16:52:21.890032Z",
     "start_time": "2019-09-05T16:52:21.754626Z"
    },
    "hidden": true
   },
   "source": [
    "[ENCODER](../results/VAE/PBMC10k/graphs/encoder.png)"
   ]
  },
  {
   "cell_type": "markdown",
   "metadata": {
    "hidden": true
   },
   "source": [
    "[DECODER](../results/VAE/PBMC10k/graphs/decoder.png)"
   ]
  },
  {
   "cell_type": "markdown",
   "metadata": {
    "hidden": true
   },
   "source": [
    "[AUTOENCODER](../results/VAE/PBMC10k/graphs/autoencoder.png)"
   ]
  },
  {
   "cell_type": "markdown",
   "metadata": {
    "hidden": true
   },
   "source": [
    "### Train the model"
   ]
  },
  {
   "cell_type": "code",
   "execution_count": null,
   "metadata": {
    "ExecuteTime": {
     "end_time": "2019-09-20T21:30:15.816123Z",
     "start_time": "2019-09-20T16:05:31.584477Z"
    },
    "hidden": true,
    "scrolled": true
   },
   "outputs": [
    {
     "name": "stdout",
     "output_type": "stream",
     "text": [
      "Start model training...\n",
      "Train for 126 steps, validate for 31 steps\n",
      "Epoch 1/500\n",
      "INFO:tensorflow:batch_all_reduce: 38 all-reduces with algorithm = nccl, num_packs = 1, agg_small_grads_max_bytes = 0 and agg_small_grads_max_group = 10\n",
      "INFO:tensorflow:batch_all_reduce: 38 all-reduces with algorithm = nccl, num_packs = 1, agg_small_grads_max_bytes = 0 and agg_small_grads_max_group = 10\n",
      "  1/126 [..............................] - ETA: 25:00 - loss: 2395.4399WARNING:tensorflow:Method (on_train_batch_end) is slow compared to the batch update (0.275364). Check your callbacks.\n",
      "  2/126 [..............................] - ETA: 12:35 - loss: 2564.5018WARNING:tensorflow:Method (on_train_batch_end) is slow compared to the batch update (0.118697). Check your callbacks.\n",
      "126/126 [==============================] - 17s 136ms/step - loss: 2215.4040 - val_loss: 2293.9420\n",
      "Epoch 2/500\n",
      "126/126 [==============================] - 3s 27ms/step - loss: 1987.3993 - val_loss: 2056.2683\n",
      "Epoch 3/500\n",
      "126/126 [==============================] - 3s 26ms/step - loss: 1934.2557 - val_loss: 1950.2925\n",
      "Epoch 4/500\n",
      "126/126 [==============================] - 3s 27ms/step - loss: 1897.7918 - val_loss: 1915.6702\n",
      "Epoch 5/500\n",
      " 82/126 [==================>...........] - ETA: 1s - loss: 1869.0703"
     ]
    }
   ],
   "source": [
    "# Training...\n",
    "\n",
    "log_dir = '../results/VAE/PBMC10k/'\n",
    "os.makedirs(log_dir, exist_ok=True)\n",
    "\n",
    "data_file = '../data/proc/pbmc10k.tfrecord'  # add for mode='TFRecord'\n",
    "\n",
    "loss, val_loss = model.train(val_split=0.2, \n",
    "                             log_dir=log_dir, \n",
    "                             mode = 'TFRecord',\n",
    "                             data_file=data_file, \n",
    "                             num_workers=10)"
   ]
  },
  {
   "cell_type": "code",
   "execution_count": 11,
   "metadata": {
    "ExecuteTime": {
     "end_time": "2019-09-23T06:26:13.583607Z",
     "start_time": "2019-09-23T06:26:13.064612Z"
    },
    "hidden": true,
    "scrolled": true
   },
   "outputs": [
    {
     "data": {
      "image/png": "[encoded data removed]",
      "text/plain": [
       "<Figure size 576x432 with 1 Axes>"
      ]
     },
     "metadata": {
      "needs_background": "light"
     },
     "output_type": "display_data"
    }
   ],
   "source": [
    "# Plot training & validation loss values\n",
    "\n",
    "plt.figure(figsize=(8, 6))\n",
    "axes = plt.gca()\n",
    "plt.plot(loss)\n",
    "plt.plot(val_loss)\n",
    "plt.ylabel('Loss')\n",
    "plt.xlabel('Epoch')\n",
    "plt.legend(['Train', 'Validation'], loc='upper right')\n",
    "plt.show()"
   ]
  },
  {
   "cell_type": "code",
   "execution_count": 12,
   "metadata": {
    "ExecuteTime": {
     "end_time": "2019-09-23T06:26:34.364344Z",
     "start_time": "2019-09-23T06:26:17.372363Z"
    },
    "hidden": true
   },
   "outputs": [
    {
     "name": "stderr",
     "output_type": "stream",
     "text": [
      "/work/sysops/molinaro/anaconda3/envs/scAAE/lib/python3.7/site-packages/numba/compiler.py:602: NumbaPerformanceWarning: \n",
      "The keyword argument 'parallel=True' was specified but no transformation for parallel execution was possible.\n",
      "\n",
      "To find out why, try turning on parallel diagnostics, see http://numba.pydata.org/numba-doc/latest/user/parallel.html#diagnostics for help.\n",
      "\n",
      "File \"../../../../../../../../work/sysops/molinaro/anaconda3/envs/scAAE/lib/python3.7/site-packages/umap/rp_tree.py\", line 135:\n",
      "@numba.njit(fastmath=True, nogil=True, parallel=True)\n",
      "def euclidean_random_projection_split(data, indices, rng_state):\n",
      "^\n",
      "\n",
      "  self.func_ir.loc))\n",
      "/work/sysops/molinaro/anaconda3/envs/scAAE/lib/python3.7/site-packages/umap/nndescent.py:92: NumbaPerformanceWarning: \n",
      "The keyword argument 'parallel=True' was specified but no transformation for parallel execution was possible.\n",
      "\n",
      "To find out why, try turning on parallel diagnostics, see http://numba.pydata.org/numba-doc/latest/user/parallel.html#diagnostics for help.\n",
      "\n",
      "File \"../../../../../../../../work/sysops/molinaro/anaconda3/envs/scAAE/lib/python3.7/site-packages/umap/utils.py\", line 409:\n",
      "@numba.njit(parallel=True)\n",
      "def build_candidates(current_graph, n_vertices, n_neighbors, max_candidates, rng_state):\n",
      "^\n",
      "\n",
      "  current_graph, n_vertices, n_neighbors, max_candidates, rng_state\n",
      "/work/sysops/molinaro/anaconda3/envs/scAAE/lib/python3.7/site-packages/numba/compiler.py:602: NumbaPerformanceWarning: \n",
      "The keyword argument 'parallel=True' was specified but no transformation for parallel execution was possible.\n",
      "\n",
      "To find out why, try turning on parallel diagnostics, see http://numba.pydata.org/numba-doc/latest/user/parallel.html#diagnostics for help.\n",
      "\n",
      "File \"../../../../../../../../work/sysops/molinaro/anaconda3/envs/scAAE/lib/python3.7/site-packages/umap/nndescent.py\", line 47:\n",
      "    @numba.njit(parallel=True)\n",
      "    def nn_descent(\n",
      "    ^\n",
      "\n",
      "  self.func_ir.loc))\n"
     ]
    },
    {
     "data": {
      "image/png": "[encoded data removed]",
      "text/plain": [
       "<Figure size 1008x360 with 4 Axes>"
      ]
     },
     "metadata": {
      "needs_background": "light"
     },
     "output_type": "display_data"
    },
    {
     "data": {
      "image/png": "[encoded data removed]",
      "text/plain": [
       "<Figure size 1008x360 with 4 Axes>"
      ]
     },
     "metadata": {
      "needs_background": "light"
     },
     "output_type": "display_data"
    },
    {
     "data": {
      "image/png": "[encoded data removed]",
      "text/plain": [
       "<Figure size 1008x360 with 4 Axes>"
      ]
     },
     "metadata": {
      "needs_background": "light"
     },
     "output_type": "display_data"
    }
   ],
   "source": [
    "gene_list = ['CST3', 'NKG7', 'PPBP']\n",
    "model.plot_umap(gene_selected=gene_list, louvain=True)"
   ]
  },
  {
   "cell_type": "code",
   "execution_count": 18,
   "metadata": {
    "ExecuteTime": {
     "end_time": "2019-09-11T17:01:47.516176Z",
     "start_time": "2019-09-11T17:01:29.993730Z"
    },
    "hidden": true
   },
   "outputs": [
    {
     "name": "stdout",
     "output_type": "stream",
     "text": [
      "WARNING:tensorflow:No training configuration found in save file: the model was *not* compiled. Compile it manually.\n"
     ]
    },
    {
     "name": "stderr",
     "output_type": "stream",
     "text": [
      "/work/sysops/molinaro/anaconda3/envs/scAAE/lib/python3.7/site-packages/numba/compiler.py:602: NumbaPerformanceWarning: \n",
      "The keyword argument 'parallel=True' was specified but no transformation for parallel execution was possible.\n",
      "\n",
      "To find out why, try turning on parallel diagnostics, see http://numba.pydata.org/numba-doc/latest/user/parallel.html#diagnostics for help.\n",
      "\n",
      "File \"../../../../../../../../work/sysops/molinaro/anaconda3/envs/scAAE/lib/python3.7/site-packages/umap/nndescent.py\", line 47:\n",
      "    @numba.njit(parallel=True)\n",
      "    def nn_descent(\n",
      "    ^\n",
      "\n",
      "  self.func_ir.loc))\n",
      "../src/models.py:521: FutureWarning: The 'get_values' method is deprecated and will be removed in a future version\n",
      "  self.labels = Z.obs['louvain'].values.get_values().astype(int)\n",
      "/work/sysops/molinaro/anaconda3/envs/scAAE/lib/python3.7/site-packages/numba/compiler.py:602: NumbaPerformanceWarning: \n",
      "The keyword argument 'parallel=True' was specified but no transformation for parallel execution was possible.\n",
      "\n",
      "To find out why, try turning on parallel diagnostics, see http://numba.pydata.org/numba-doc/latest/user/parallel.html#diagnostics for help.\n",
      "\n",
      "File \"../../../../../../../../work/sysops/molinaro/anaconda3/envs/scAAE/lib/python3.7/site-packages/umap/nndescent.py\", line 47:\n",
      "    @numba.njit(parallel=True)\n",
      "    def nn_descent(\n",
      "    ^\n",
      "\n",
      "  self.func_ir.loc))\n"
     ]
    },
    {
     "data": {
      "image/png": "[encoded data removed]",
      "text/plain": [
       "<Figure size 1008x360 with 4 Axes>"
      ]
     },
     "metadata": {
      "needs_background": "light"
     },
     "output_type": "display_data"
    }
   ],
   "source": [
    "from tensorflow.keras.models import load_model\n",
    "\n",
    "log_dir = '../results/VAE/PBMC10k/'\n",
    "model.encoder = load_model(log_dir + 'models/encoder.h5')\n",
    "\n",
    "model.update_labels(res=0.8)\n",
    "\n",
    "GENE_LIST = ['CST3']\n",
    "model.plot_umap(gene_selected=GENE_LIST, louvain=True)"
   ]
  },
  {
   "cell_type": "code",
   "execution_count": null,
   "metadata": {
    "hidden": true
   },
   "outputs": [],
   "source": []
  }
 ],
 "metadata": {
  "hide_input": false,
  "kernelspec": {
   "display_name": "Conda (scAAE2)",
   "language": "python",
   "name": "conda-scaae2"
  },
  "language_info": {
   "codemirror_mode": {
    "name": "ipython",
    "version": 3
   },
   "file_extension": ".py",
   "mimetype": "text/x-python",
   "name": "python",
   "nbconvert_exporter": "python",
   "pygments_lexer": "ipython3",
   "version": "3.7.4"
  },
  "toc": {
   "base_numbering": 1,
   "nav_menu": {},
   "number_sections": true,
   "sideBar": true,
   "skip_h1_title": false,
   "title_cell": "Table of Contents",
   "title_sidebar": "Contents",
   "toc_cell": false,
   "toc_position": {
    "height": "calc(100% - 180px)",
    "left": "10px",
    "top": "150px",
    "width": "366.188px"
   },
   "toc_section_display": true,
   "toc_window_display": true
  },
  "varInspector": {
   "cols": {
    "lenName": 16,
    "lenType": 16,
    "lenVar": 40
   },
   "kernels_config": {
    "python": {
     "delete_cmd_postfix": "",
     "delete_cmd_prefix": "del ",
     "library": "var_list.py",
     "varRefreshCmd": "print(var_dic_list())"
    },
    "r": {
     "delete_cmd_postfix": ") ",
     "delete_cmd_prefix": "rm(",
     "library": "var_list.r",
     "varRefreshCmd": "cat(var_dic_list()) "
    }
   },
   "oldHeight": 534,
   "position": {
    "height": "556px",
    "left": "842px",
    "right": "20px",
    "top": "117px",
    "width": "667px"
   },
   "types_to_exclude": [
    "module",
    "function",
    "builtin_function_or_method",
    "instance",
    "_Feature"
   ],
   "varInspector_section_display": "block",
   "window_display": false
  }
 },
 "nbformat": 4,
 "nbformat_minor": 2
}
