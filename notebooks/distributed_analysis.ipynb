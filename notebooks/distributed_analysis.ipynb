{
 "cells": [
  {
   "cell_type": "markdown",
   "metadata": {},
   "source": [
    "# Clustering analysis on 10k PBMC data"
   ]
  },
  {
   "cell_type": "code",
   "execution_count": null,
   "metadata": {
    "ExecuteTime": {
     "end_time": "2019-10-03T07:05:12.672792Z",
     "start_time": "2019-10-03T07:05:05.638121Z"
    },
    "hide_input": false,
    "scrolled": true
   },
   "outputs": [],
   "source": [
    "from keras.utils.vis_utils import model_to_dot\n",
    "\n",
    "import tensorflow as tf\n",
    "from tensorflow.keras.utils import plot_model\n",
    "\n",
    "from sklearn.preprocessing import StandardScaler, LabelEncoder\n",
    "from sklearn.decomposition import PCA\n",
    "\n",
    "import matplotlib.pyplot as plt\n",
    "import os, sys\n",
    "\n",
    "sys.path.append('../src')\n",
    "\n",
    "from imp import load_source\n",
    "from models import *\n",
    "from utils import *\n",
    "\n",
    "tf.enable_eager_execution()\n",
    "tf.executing_eagerly()"
   ]
  },
  {
   "cell_type": "code",
   "execution_count": null,
   "metadata": {
    "ExecuteTime": {
     "end_time": "2019-10-03T07:05:29.199523Z",
     "start_time": "2019-10-03T07:05:29.196627Z"
    },
    "scrolled": true
   },
   "outputs": [],
   "source": [
    "import warnings\n",
    "warnings.filterwarnings(\"ignore\")"
   ]
  },
  {
   "cell_type": "code",
   "execution_count": null,
   "metadata": {
    "ExecuteTime": {
     "end_time": "2019-10-03T07:05:29.852788Z",
     "start_time": "2019-10-03T07:05:29.849970Z"
    },
    "scrolled": true
   },
   "outputs": [],
   "source": [
    "from tensorflow.python.util import deprecation\n",
    "deprecation._PRINT_DEPRECATION_WARNINGS = False"
   ]
  },
  {
   "cell_type": "markdown",
   "metadata": {},
   "source": [
    "## Adversarial Autoencoder: Basic Architecture"
   ]
  },
  {
   "cell_type": "markdown",
   "metadata": {
    "ExecuteTime": {
     "end_time": "2019-07-30T10:02:28.158025Z",
     "start_time": "2019-07-30T10:02:28.154496Z"
    }
   },
   "source": [
    "<img src=\"img/adversarial_autoencoder_model.png\" width=\"800px\" style=\"float:center\" >"
   ]
  },
  {
   "cell_type": "markdown",
   "metadata": {},
   "source": [
    "### Build the model"
   ]
  },
  {
   "cell_type": "code",
   "execution_count": null,
   "metadata": {
    "ExecuteTime": {
     "end_time": "2019-09-25T11:15:08.114164Z",
     "start_time": "2019-09-25T11:15:08.110268Z"
    },
    "code_folding": [],
    "scrolled": true
   },
   "outputs": [],
   "source": [
    "# Network parameters\n",
    "parameters = {\n",
    "    'latent_dim': 100,\n",
    "    'layers_enc_dim': [1000, 500, 400, 300, 200],\n",
    "    'layers_dec_dim': [200, 300, 400, 500, 1000],\n",
    "    'layers_dis_dim': [200, 300, 400, 500, 1000],\n",
    "    'batch_size': 1000,\n",
    "    'epochs': 30\n",
    "}"
   ]
  },
  {
   "cell_type": "code",
   "execution_count": null,
   "metadata": {
    "ExecuteTime": {
     "end_time": "2019-09-25T11:15:08.714736Z",
     "start_time": "2019-09-25T11:15:08.711155Z"
    },
    "scrolled": true
   },
   "outputs": [],
   "source": [
    "model = AAE1(**parameters)"
   ]
  },
  {
   "cell_type": "code",
   "execution_count": null,
   "metadata": {
    "ExecuteTime": {
     "end_time": "2019-09-25T11:15:12.797369Z",
     "start_time": "2019-09-25T11:15:09.327623Z"
    },
    "scrolled": true
   },
   "outputs": [],
   "source": [
    "# Import dataset\n",
    "\n",
    "data_path = '../data/proc/pbmc10k.h5ad'\n",
    "\n",
    "model.load_data(data_path)"
   ]
  },
  {
   "cell_type": "code",
   "execution_count": null,
   "metadata": {
    "ExecuteTime": {
     "end_time": "2019-09-25T11:15:13.573994Z",
     "start_time": "2019-09-25T11:15:12.938346Z"
    },
    "scrolled": true
   },
   "outputs": [],
   "source": [
    "# Rescale gene expression data\n",
    "\n",
    "model.rescale_data()"
   ]
  },
  {
   "cell_type": "code",
   "execution_count": null,
   "metadata": {
    "ExecuteTime": {
     "end_time": "2019-09-25T11:15:13.699077Z",
     "start_time": "2019-09-25T11:15:13.677574Z"
    },
    "scrolled": true
   },
   "outputs": [],
   "source": [
    "# Show network hyper-parameters\n",
    "\n",
    "print(\"List of Network parameters\")\n",
    "model.get_parameters()"
   ]
  },
  {
   "cell_type": "code",
   "execution_count": null,
   "metadata": {
    "ExecuteTime": {
     "end_time": "2019-09-25T11:15:17.096724Z",
     "start_time": "2019-09-25T11:15:15.514680Z"
    }
   },
   "outputs": [],
   "source": [
    "# Define distribute strategy and build the full model\n",
    "\n",
    "TF_DISTRIBUTE_MIRRORED_STRATEGY = True\n",
    "TF_DISTRIBUTE_CENTRAL_STORAGE_STRATEGY = False\n",
    "\n",
    "if TF_DISTRIBUTE_MIRRORED_STRATEGY:\n",
    "\n",
    "    #     CROSS_DEVICE_OPS = tf.distribute.HierarchicalCopyAllReduce()\n",
    "    #     CROSS_DEVICE_OPS = tf.distribute.ReductionToOneDevice()\n",
    "    CROSS_DEVICE_OPS = tf.distribute.NcclAllReduce()\n",
    "\n",
    "    strategy = tf.distribute.MirroredStrategy(\n",
    "        cross_device_ops=CROSS_DEVICE_OPS)\n",
    "\n",
    "    with strategy.scope():\n",
    "        model.build_model()\n",
    "\n",
    "if TF_DISTRIBUTE_CENTRAL_STORAGE_STRATEGY:\n",
    "    pass\n",
    "\n",
    "#     strategy = tf.distribute.experimental.CentralStorageStrategy()\n",
    "\n",
    "#     with strategy.scope():\n",
    "\n",
    "# #         BATCH_SIZE_PER_REPLICA = model.batch_size\n",
    "# #         global_batch_size = (BATCH_SIZE_PER_REPLICA * mirrored_strategy.num_replicas_in_sync)\n",
    "# #         model.batch_size = global_batch_size\n",
    "#         model.build_model()"
   ]
  },
  {
   "cell_type": "code",
   "execution_count": null,
   "metadata": {
    "ExecuteTime": {
     "end_time": "2019-09-25T11:15:45.202278Z",
     "start_time": "2019-09-25T11:15:45.168414Z"
    }
   },
   "outputs": [],
   "source": [
    "# Model summary\n",
    "\n",
    "model.get_summary()"
   ]
  },
  {
   "cell_type": "code",
   "execution_count": null,
   "metadata": {
    "ExecuteTime": {
     "end_time": "2019-09-25T11:00:10.541754Z",
     "start_time": "2019-09-25T11:00:09.915254Z"
    }
   },
   "outputs": [],
   "source": [
    "# Export model graphs\n",
    "\n",
    "log_dir = '../results/AAE1/PBMC10k/'\n",
    "os.makedirs(log_dir + 'graphs', exist_ok=True)\n",
    "model.export_graph('../results/AAE1/PBMC10k/graphs')"
   ]
  },
  {
   "cell_type": "markdown",
   "metadata": {
    "heading_collapsed": true
   },
   "source": [
    "### Visualize graphs"
   ]
  },
  {
   "cell_type": "markdown",
   "metadata": {
    "ExecuteTime": {
     "end_time": "2019-09-05T16:51:38.875223Z",
     "start_time": "2019-09-05T16:51:38.872254Z"
    },
    "hidden": true
   },
   "source": [
    "[ENCODER](../results/AAE1/PBMC10k/graphs/encoder.png)"
   ]
  },
  {
   "cell_type": "markdown",
   "metadata": {
    "hidden": true
   },
   "source": [
    "[DECODER](../results/AAE1/PBMC10k/graphs/decoder.png)"
   ]
  },
  {
   "cell_type": "markdown",
   "metadata": {
    "hidden": true
   },
   "source": [
    "[DISCRIMINATOR](../results/AAE1/PBMC10k/graphs/discriminator.png)"
   ]
  },
  {
   "cell_type": "markdown",
   "metadata": {
    "hidden": true
   },
   "source": [
    "[AUTOENCODER](../results/AAE1/PBMC10k/graphs/autoencoder.png)"
   ]
  },
  {
   "cell_type": "markdown",
   "metadata": {},
   "source": [
    "### Train the model"
   ]
  },
  {
   "cell_type": "code",
   "execution_count": null,
   "metadata": {
    "scrolled": true
   },
   "outputs": [],
   "source": [
    "# Create the input dataset\n",
    "MODE = 'TFRecord'\n",
    "\n",
    "BATCH_SIZE_PER_REPLICA = model.batch_size\n",
    "global_batch_size = (BATCH_SIZE_PER_REPLICA *\n",
    "                     strategy.num_replicas_in_sync)\n",
    "    \n",
    "if MODE == 'Dataset':\n",
    "\n",
    "    train_dataset = tf.data.Dataset.from_tensor_slices(model.data).shuffle(\n",
    "        len(model.data)).repeat(model.epochs).batch(global_batch_size, drop_remainder=True).prefetch(buffer_size=1)\n",
    "\n",
    "elif MODE == 'TFRecord':\n",
    "\n",
    "    data_file = '../data/proc/pbmc10k.tfrecord.train'\n",
    "\n",
    "    train_dataset = data_generator(data_file,\n",
    "                                    batch_size=global_batch_size,\n",
    "                                    epochs=model.epochs,\n",
    "                                    is_training=True)\n",
    "\n",
    "else:\n",
    "    print(\"Choose input dataset mode between 'Dataset' and 'TFRecord'.\")"
   ]
  },
  {
   "cell_type": "code",
   "execution_count": null,
   "metadata": {
    "scrolled": false
   },
   "outputs": [],
   "source": [
    "# Training...\n",
    "\n",
    "log_dir = '../results/AAE1/PBMC10k/'\n",
    "os.makedirs(log_dir, exist_ok=True)\n",
    "\n",
    "GRAPH = True\n",
    "GENE = 'CST3'  # used only for training visualization\n",
    "\n",
    "with strategy.scope():\n",
    "    \n",
    "    distributed_train_dataset = strategy.experimental_distribute_dataset(train_dataset)\n",
    "    \n",
    "    rec_loss, dis_loss = model.distributed_train(distributed_train_dataset, strategy, \n",
    "                                                 enable_function=True, graph=GRAPH, gene=GENE, \n",
    "                                                 log_dir=log_dir)"
   ]
  },
  {
   "cell_type": "markdown",
   "metadata": {
    "ExecuteTime": {
     "start_time": "2019-08-26T11:49:43.875Z"
    }
   },
   "source": [
    "!tensorboard --logdir=../results/AAE1/PBMC10k/"
   ]
  },
  {
   "cell_type": "code",
   "execution_count": null,
   "metadata": {
    "ExecuteTime": {
     "end_time": "2019-09-25T11:28:40.469608Z",
     "start_time": "2019-09-25T11:28:40.234382Z"
    },
    "scrolled": true
   },
   "outputs": [],
   "source": [
    "# Plot training loss values\n",
    "\n",
    "plt.figure(figsize=(8, 6))\n",
    "axes = plt.gca()\n",
    "x_range = np.arange(1, model.epochs + 1, 1)\n",
    "plt.plot(x_range, rec_loss, 'bo-')\n",
    "plt.plot(x_range,dis_loss, 'ro-')\n",
    "plt.ylabel('Loss')\n",
    "plt.xlabel('Epoch')\n",
    "plt.legend(['Autoencoder', 'Discriminator'], loc='upper right')\n",
    "plt.show()"
   ]
  },
  {
   "cell_type": "code",
   "execution_count": null,
   "metadata": {
    "ExecuteTime": {
     "end_time": "2019-08-26T11:33:40.926196Z",
     "start_time": "2019-08-26T11:33:04.337921Z"
    }
   },
   "outputs": [],
   "source": [
    "GENE_LIST = ['CST3', 'NKG7', 'PPBP']\n",
    "model.plot_umap(gene_selected=GENE_LIST, louvain=True)"
   ]
  },
  {
   "cell_type": "code",
   "execution_count": null,
   "metadata": {
    "ExecuteTime": {
     "end_time": "2019-09-06T12:59:30.772650Z",
     "start_time": "2019-09-06T12:59:08.480200Z"
    }
   },
   "outputs": [],
   "source": [
    "from tensorflow.keras.models import load_model\n",
    "from sklearn.metrics import adjusted_rand_score\n",
    "from sklearn.metrics.cluster import adjusted_mutual_info_score\n",
    "\n",
    "log_dir = '../results/AAE1/PBMC10k/'\n",
    "# model.encoder = load_model(log_dir + 'models/encoder.h5')\n",
    "\n",
    "labels_true = model.labels"
   ]
  },
  {
   "cell_type": "code",
   "execution_count": null,
   "metadata": {
    "ExecuteTime": {
     "end_time": "2019-09-06T12:59:30.772650Z",
     "start_time": "2019-09-06T12:59:08.480200Z"
    },
    "scrolled": false
   },
   "outputs": [],
   "source": [
    "RES=1.0\n",
    "N_NBS=10\n",
    "N_PCS=40\n",
    "\n",
    "model.update_labels(res=RES, n_neighbors=N_NBS, n_pcs=N_PCS)\n",
    "labels_pred = model.labels\n",
    "\n",
    "GENE_LIST = ['CST3']\n",
    "model.plot_umap(gene_selected=GENE_LIST, louvain=True)\n",
    "\n",
    "print(\"ARI = {}\".format(adjusted_rand_score(labels_true, labels_pred)))\n",
    "print(\"AMI = {}\".format(adjusted_mutual_info_score(labels_true, labels_pred)))"
   ]
  },
  {
   "cell_type": "markdown",
   "metadata": {},
   "source": [
    "## Unsupervised Adversarial Autoencoder: Setting Number of Clusters"
   ]
  },
  {
   "cell_type": "markdown",
   "metadata": {
    "heading_collapsed": true
   },
   "source": [
    "### Build the model"
   ]
  },
  {
   "cell_type": "code",
   "execution_count": null,
   "metadata": {
    "ExecuteTime": {
     "end_time": "2019-09-25T12:19:50.698777Z",
     "start_time": "2019-09-25T12:19:50.694290Z"
    },
    "code_folding": [],
    "hidden": true,
    "scrolled": true
   },
   "outputs": [],
   "source": [
    "# Network parameters\n",
    "parameters = {\n",
    "    'latent_dim': 10,\n",
    "    'num_clusters': 17,\n",
    "    'layers_enc_dim': [200, 100, 50, 30],\n",
    "    'layers_dec_dim': [30, 50, 100, 200],\n",
    "    'layers_dis_dim': [200, 100, 50, 30],\n",
    "    'layers_dis_cat_dim': [200, 100, 50, 30],\n",
    "    'batch_size': 100,\n",
    "    'epochs': 200,\n",
    "    'tau': 0.05 # temperature parameter\n",
    "}"
   ]
  },
  {
   "cell_type": "code",
   "execution_count": null,
   "metadata": {
    "ExecuteTime": {
     "end_time": "2019-09-25T12:19:51.523183Z",
     "start_time": "2019-09-25T12:19:51.520014Z"
    },
    "hidden": true,
    "scrolled": true
   },
   "outputs": [],
   "source": [
    "model = AAE2(**parameters)"
   ]
  },
  {
   "cell_type": "code",
   "execution_count": null,
   "metadata": {
    "ExecuteTime": {
     "end_time": "2019-09-25T12:19:55.539228Z",
     "start_time": "2019-09-25T12:19:52.062254Z"
    },
    "hidden": true,
    "scrolled": true
   },
   "outputs": [],
   "source": [
    "# Import dataset\n",
    "\n",
    "data_path = '../data/proc/pbmc10k.h5ad'\n",
    "\n",
    "model.load_data(data_path)"
   ]
  },
  {
   "cell_type": "code",
   "execution_count": null,
   "metadata": {
    "ExecuteTime": {
     "end_time": "2019-09-25T12:19:56.403071Z",
     "start_time": "2019-09-25T12:19:55.783252Z"
    },
    "hidden": true,
    "scrolled": true
   },
   "outputs": [],
   "source": [
    "# Rescale gene expression data\n",
    "\n",
    "model.rescale_data()"
   ]
  },
  {
   "cell_type": "code",
   "execution_count": null,
   "metadata": {
    "ExecuteTime": {
     "end_time": "2019-09-25T12:19:56.590092Z",
     "start_time": "2019-09-25T12:19:56.569641Z"
    },
    "hidden": true,
    "scrolled": true
   },
   "outputs": [],
   "source": [
    "# Show network hyper-parameters\n",
    "\n",
    "print(\"List of Network parameters\")\n",
    "model.get_parameters()"
   ]
  },
  {
   "cell_type": "code",
   "execution_count": null,
   "metadata": {
    "ExecuteTime": {
     "end_time": "2019-09-25T12:20:02.483379Z",
     "start_time": "2019-09-25T12:19:56.769071Z"
    },
    "hidden": true,
    "scrolled": true
   },
   "outputs": [],
   "source": [
    "# Define distribute strategy and build the full model\n",
    "\n",
    "TF_DISTRIBUTE_MIRRORED_STRATEGY = True\n",
    "TF_DISTRIBUTE_CENTRAL_STORAGE_STRATEGY = False\n",
    "\n",
    "if TF_DISTRIBUTE_MIRRORED_STRATEGY:\n",
    "\n",
    "    #     CROSS_DEVICE_OPS = tf.distribute.HierarchicalCopyAllReduce()\n",
    "    #     CROSS_DEVICE_OPS = tf.distribute.ReductionToOneDevice()\n",
    "    CROSS_DEVICE_OPS = tf.distribute.NcclAllReduce()\n",
    "\n",
    "    strategy = tf.distribute.MirroredStrategy(\n",
    "        cross_device_ops=CROSS_DEVICE_OPS)\n",
    "\n",
    "    with strategy.scope():\n",
    "        model.build_model()\n",
    "\n",
    "if TF_DISTRIBUTE_CENTRAL_STORAGE_STRATEGY:\n",
    "    pass\n",
    "\n",
    "#     strategy = tf.distribute.experimental.CentralStorageStrategy()\n",
    "\n",
    "#     with strategy.scope():\n",
    "\n",
    "# #         BATCH_SIZE_PER_REPLICA = model.batch_size\n",
    "# #         global_batch_size = (BATCH_SIZE_PER_REPLICA * mirrored_strategy.num_replicas_in_sync)\n",
    "# #         model.batch_size = global_batch_size\n",
    "#         model.build_model()"
   ]
  },
  {
   "cell_type": "code",
   "execution_count": null,
   "metadata": {
    "ExecuteTime": {
     "end_time": "2019-09-25T12:20:02.761425Z",
     "start_time": "2019-09-25T12:20:02.682702Z"
    },
    "hidden": true,
    "scrolled": true
   },
   "outputs": [],
   "source": [
    "# Model summary\n",
    "\n",
    "model.get_summary()"
   ]
  },
  {
   "cell_type": "code",
   "execution_count": null,
   "metadata": {
    "ExecuteTime": {
     "end_time": "2019-09-25T12:20:04.039302Z",
     "start_time": "2019-09-25T12:20:02.947723Z"
    },
    "hidden": true,
    "scrolled": true
   },
   "outputs": [],
   "source": [
    "# Export model graphs\n",
    "\n",
    "log_dir = '../results/AAE2/PBMC10k/'\n",
    "os.makedirs(log_dir + 'graphs', exist_ok=True)\n",
    "model.export_graph('../results/AAE2/PBMC10k/graphs')"
   ]
  },
  {
   "cell_type": "markdown",
   "metadata": {
    "heading_collapsed": true
   },
   "source": [
    "### Visualize graphs"
   ]
  },
  {
   "cell_type": "markdown",
   "metadata": {
    "ExecuteTime": {
     "end_time": "2019-09-05T16:51:38.875223Z",
     "start_time": "2019-09-05T16:51:38.872254Z"
    },
    "hidden": true
   },
   "source": [
    "[ENCODER](../results/AAE2/PBMC10k/graphs/encoder.png)"
   ]
  },
  {
   "cell_type": "markdown",
   "metadata": {
    "hidden": true
   },
   "source": [
    "[DECODER](../results/AAE2/PBMC10k/graphs/decoder.png)"
   ]
  },
  {
   "cell_type": "markdown",
   "metadata": {
    "hidden": true
   },
   "source": [
    "[DISCRIMINATOR](../results/AAE2/PBMC10k/graphs/discriminator.png)"
   ]
  },
  {
   "cell_type": "markdown",
   "metadata": {
    "hidden": true
   },
   "source": [
    "[AUTOENCODER](../results/AAE2/PBMC10k/graphs/autoencoder.png)"
   ]
  },
  {
   "cell_type": "markdown",
   "metadata": {},
   "source": [
    "### Train the model\n"
   ]
  },
  {
   "cell_type": "code",
   "execution_count": null,
   "metadata": {
    "scrolled": true
   },
   "outputs": [],
   "source": [
    "# Create the input dataset\n",
    "MODE = 'Dataset'\n",
    "\n",
    "BATCH_SIZE_PER_REPLICA = model.batch_size\n",
    "global_batch_size = (BATCH_SIZE_PER_REPLICA *\n",
    "                     strategy.num_replicas_in_sync)\n",
    "    \n",
    "if MODE == 'Dataset':\n",
    "\n",
    "    train_dataset = tf.data.Dataset.from_tensor_slices(model.data).shuffle(\n",
    "        len(model.data)).repeat(model.epochs).batch(global_batch_size, drop_remainder=True).prefetch(buffer_size=1)\n",
    "\n",
    "elif MODE == 'TFRecord':\n",
    "\n",
    "    data_file = '../data/proc/pbmc10k.tfrecord.train'\n",
    "\n",
    "    train_dataset = data_generator(data_file,\n",
    "                                    batch_size=global_batch_size,\n",
    "                                    epochs=model.epochs,\n",
    "                                    is_training=True)\n",
    "\n",
    "else:\n",
    "    print(\"Choose input dataset mode between 'Dataset' and 'TFRecord'.\")"
   ]
  },
  {
   "cell_type": "code",
   "execution_count": null,
   "metadata": {
    "scrolled": true
   },
   "outputs": [],
   "source": [
    "# Training...\n",
    "\n",
    "log_dir = '../results/AAE2/PBMC10k/'\n",
    "os.makedirs(log_dir, exist_ok=True)\n",
    "\n",
    "GRAPH = True\n",
    "GENE = 'CST3'  # used only for training visualization\n",
    "\n",
    "with strategy.scope():\n",
    "    \n",
    "    \n",
    "    distributed_train_dataset = strategy.experimental_distribute_dataset(train_dataset)\n",
    "    \n",
    "    \n",
    "    rec_loss, dis_loss, dis_cat_loss = model.distributed_train(distributed_train_dataset, strategy, \n",
    "                                                               enable_function=True, graph=GRAPH, gene=GENE, \n",
    "                                                               log_dir=log_dir)"
   ]
  },
  {
   "cell_type": "code",
   "execution_count": null,
   "metadata": {
    "scrolled": true
   },
   "outputs": [],
   "source": [
    "#!tensorboard --logdir=../results/AAE2/PBMC10k/"
   ]
  },
  {
   "cell_type": "code",
   "execution_count": null,
   "metadata": {
    "scrolled": true
   },
   "outputs": [],
   "source": [
    "# Plot training loss values\n",
    "\n",
    "plt.figure(figsize=(8, 6))\n",
    "axes = plt.gca()\n",
    "x_range = np.arange(1, model.epochs + 1, 1)\n",
    "plt.plot(x_range, rec_loss, 'bo-')\n",
    "plt.plot(x_range, dis_loss, 'ro-')\n",
    "plt.plot(x_range, dis_cat_loss, 'go-')\n",
    "plt.ylabel('Loss')\n",
    "plt.xlabel('Epoch')\n",
    "plt.legend(['Reconstruction', 'Discriminator', 'Cat. Discriminator'], loc='upper right')\n",
    "plt.show()"
   ]
  },
  {
   "cell_type": "code",
   "execution_count": null,
   "metadata": {
    "ExecuteTime": {
     "end_time": "2019-08-26T10:15:21.684116Z",
     "start_time": "2019-08-26T10:15:04.629109Z"
    },
    "scrolled": true
   },
   "outputs": [],
   "source": [
    "GENE_LIST = ['CST3', 'NKG7', 'PPBP']\n",
    "model.plot_umap(gene_selected=GENE_LIST, louvain=True)"
   ]
  },
  {
   "cell_type": "code",
   "execution_count": null,
   "metadata": {
    "ExecuteTime": {
     "end_time": "2019-09-06T14:08:19.347766Z",
     "start_time": "2019-09-06T14:07:58.469423Z"
    }
   },
   "outputs": [],
   "source": [
    "from tensorflow.keras.models import load_model\n",
    "from sklearn.metrics import adjusted_rand_score\n",
    "from sklearn.metrics.cluster import adjusted_mutual_info_score\n",
    "\n",
    "# BUG: currently loading a model with multiple outpus generates an AttributeError\n",
    "# log_dir = '../results/AAE2/PBMC10k/'\n",
    "# model.encoder = load_model(log_dir + 'models/encoder.h5')\n",
    "\n",
    "labels_true = model.labels"
   ]
  },
  {
   "cell_type": "code",
   "execution_count": null,
   "metadata": {
    "ExecuteTime": {
     "end_time": "2019-09-06T14:08:19.347766Z",
     "start_time": "2019-09-06T14:07:58.469423Z"
    },
    "scrolled": true
   },
   "outputs": [],
   "source": [
    "RES=0.6\n",
    "N_NBS=10\n",
    "N_PCS=40\n",
    "\n",
    "model.update_labels(res=RES, n_neighbors=NBS, n_pcs=N_PCS)\n",
    "labels_pred = model.labels\n",
    "\n",
    "GENE_LIST = ['CST3']\n",
    "model.plot_umap(gene_selected=GENE_LIST, louvain=True)\n",
    "\n",
    "print(\"ARI = {}\".format(adjusted_rand_score(labels_true, labels_pred)))\n",
    "print(\"AMI = {}\".format(adjusted_mutual_info_score(labels_true, labels_pred)))"
   ]
  },
  {
   "cell_type": "markdown",
   "metadata": {},
   "source": [
    "## Variational Autoencoder"
   ]
  },
  {
   "cell_type": "markdown",
   "metadata": {},
   "source": [
    "<img src=\"img/variational_autoencoder_model.png\" width=\"800px\" style=\"float:center\">"
   ]
  },
  {
   "cell_type": "markdown",
   "metadata": {},
   "source": [
    "### Build the model"
   ]
  },
  {
   "cell_type": "code",
   "execution_count": null,
   "metadata": {
    "ExecuteTime": {
     "end_time": "2019-10-03T07:05:37.030155Z",
     "start_time": "2019-10-03T07:05:37.026248Z"
    },
    "scrolled": true
   },
   "outputs": [],
   "source": [
    "# Network parameters\n",
    "parameters = {\n",
    "    'latent_dim': 100,\n",
    "    'layers_enc_dim': [1000, 500, 400, 300, 200],\n",
    "    'layers_dec_dim': [200, 300, 400, 500, 1000],\n",
    "    'batch_size': 1000,\n",
    "    'epochs': 5000\n",
    "}"
   ]
  },
  {
   "cell_type": "code",
   "execution_count": null,
   "metadata": {
    "ExecuteTime": {
     "end_time": "2019-10-03T07:05:37.948389Z",
     "start_time": "2019-10-03T07:05:37.938309Z"
    },
    "scrolled": true
   },
   "outputs": [],
   "source": [
    "model = VAE(**parameters)"
   ]
  },
  {
   "cell_type": "code",
   "execution_count": null,
   "metadata": {
    "ExecuteTime": {
     "end_time": "2019-10-03T07:05:42.428293Z",
     "start_time": "2019-10-03T07:05:38.781320Z"
    },
    "scrolled": true
   },
   "outputs": [],
   "source": [
    "# Import dataset\n",
    "\n",
    "data_path = '../data/proc/pbmc10k.h5ad'\n",
    "\n",
    "model.load_data(data_path)"
   ]
  },
  {
   "cell_type": "code",
   "execution_count": null,
   "metadata": {
    "ExecuteTime": {
     "end_time": "2019-10-03T07:05:43.008793Z",
     "start_time": "2019-10-03T07:05:42.436115Z"
    },
    "scrolled": true
   },
   "outputs": [],
   "source": [
    "# Rescale gene expression data\n",
    "\n",
    "model.rescale_data()"
   ]
  },
  {
   "cell_type": "code",
   "execution_count": null,
   "metadata": {
    "ExecuteTime": {
     "end_time": "2019-10-03T07:05:44.939472Z",
     "start_time": "2019-10-03T07:05:44.867322Z"
    },
    "scrolled": true
   },
   "outputs": [],
   "source": [
    "# Show network hyper-parameters\n",
    "\n",
    "print(\"List of Network parameters\")\n",
    "model.get_parameters()"
   ]
  },
  {
   "cell_type": "code",
   "execution_count": null,
   "metadata": {
    "ExecuteTime": {
     "end_time": "2019-10-03T07:05:50.098161Z",
     "start_time": "2019-10-03T07:05:48.094698Z"
    },
    "scrolled": true
   },
   "outputs": [],
   "source": [
    "# Build the full model\n",
    "\n",
    "# implement distribute strategy\n",
    "TF_DISTRIBUTE_MIRRORED_STRATEGY = True\n",
    "TF_DISTRIBUTE_CENTRAL_STORAGE_STRATEGY = False\n",
    "# TF_DISTRIBUTE_MULTI_WORKER_MIRRORED_STRATEGY = False\n",
    "\n",
    "if TF_DISTRIBUTE_MIRRORED_STRATEGY:\n",
    "    \n",
    "#     CROSS_DEVICE_OPS = tf.distribute.HierarchicalCopyAllReduce()\n",
    "#     CROSS_DEVICE_OPS = tf.distribute.ReductionToOneDevice()\n",
    "    CROSS_DEVICE_OPS = tf.distribute.NcclAllReduce()\n",
    "    \n",
    "    strategy = tf.distribute.MirroredStrategy(\n",
    "        cross_device_ops=CROSS_DEVICE_OPS)\n",
    "    \n",
    "    with strategy.scope():\n",
    "        \n",
    "        BATCH_SIZE_PER_REPLICA = model.batch_size\n",
    "        global_batch_size = (BATCH_SIZE_PER_REPLICA * strategy.num_replicas_in_sync)\n",
    "        model.batch_size = global_batch_size\n",
    "        model.build_model()\n",
    "\n",
    "elif TF_DISTRIBUTE_CENTRAL_STORAGE_STRATEGY:\n",
    "    \n",
    "    strategy = tf.distribute.experimental.CentralStorageStrategy()\n",
    "    \n",
    "    with strategy.scope():\n",
    "        \n",
    "        BATCH_SIZE_PER_REPLICA = model.batch_size\n",
    "        global_batch_size = (BATCH_SIZE_PER_REPLICA * strategy.num_replicas_in_sync)\n",
    "        model.batch_size = global_batch_size\n",
    "        model.build_model()\n",
    "        \n",
    "# elif TF_DISTRIBUTE_MULTI_WORKER_MIRRORED_STRATEGY:\n",
    "    \n",
    "#     import json\n",
    "    \n",
    "#     NUM_WORKERS = 2\n",
    "#     IP_ADDRS = ['s42p35.deic.sdu.dk','s42p36.deic.sdu.dk']\n",
    "# #     IP_ADDRS = ['localhost','localhost']\n",
    "#     PORTS = [2223,2223]\n",
    "\n",
    "#     os.environ['TF_CONFIG'] = json.dumps({\n",
    "#         'cluster': {\n",
    "#             'worker': ['%s:%d' % (IP_ADDRS[w], PORTS[w]) for w in range(NUM_WORKERS)]\n",
    "#         },\n",
    "#         'task': {'type': 'worker', 'index': 0}\n",
    "#     })\n",
    "    \n",
    "#     strategy = tf.distribute.experimental.MultiWorkerMirroredStrategy(\n",
    "#         tf.distribute.experimental.CollectiveCommunication.NCCL)\n",
    "    \n",
    "#     with strategy.scope():\n",
    "    \n",
    "#         NUM_WORKERS = 2\n",
    "#         BATCH_SIZE_PER_REPLICA = model.batch_size\n",
    "#         global_batch_size = (NUM_WORKERS * BATCH_SIZE_PER_REPLICA * strategy.num_replicas_in_sync)\n",
    "#         model.batch_size = global_batch_size\n",
    "#         model.build_model()\n",
    "    \n",
    "else:\n",
    "    model.build_model()"
   ]
  },
  {
   "cell_type": "code",
   "execution_count": null,
   "metadata": {
    "ExecuteTime": {
     "end_time": "2019-10-03T07:06:02.998763Z",
     "start_time": "2019-10-03T07:06:02.958355Z"
    }
   },
   "outputs": [],
   "source": [
    "# Model summary\n",
    "\n",
    "model.get_summary()"
   ]
  },
  {
   "cell_type": "code",
   "execution_count": null,
   "metadata": {
    "ExecuteTime": {
     "end_time": "2019-10-03T07:06:12.637840Z",
     "start_time": "2019-10-03T07:06:11.937577Z"
    },
    "scrolled": false
   },
   "outputs": [],
   "source": [
    "# Export model graphs\n",
    "\n",
    "log_dir = '../results/VAE/PBMC10k/'\n",
    "os.makedirs(log_dir + 'graphs', exist_ok=True)\n",
    "model.export_graph('../results/VAE/PBMC10k/graphs')"
   ]
  },
  {
   "cell_type": "markdown",
   "metadata": {
    "heading_collapsed": true
   },
   "source": [
    "### Visualize graphs"
   ]
  },
  {
   "cell_type": "markdown",
   "metadata": {
    "ExecuteTime": {
     "end_time": "2019-09-05T16:52:21.890032Z",
     "start_time": "2019-09-05T16:52:21.754626Z"
    },
    "hidden": true
   },
   "source": [
    "[ENCODER](../results/VAE/PBMC10k/graphs/encoder.png)"
   ]
  },
  {
   "cell_type": "markdown",
   "metadata": {
    "hidden": true
   },
   "source": [
    "[DECODER](../results/VAE/PBMC10k/graphs/decoder.png)"
   ]
  },
  {
   "cell_type": "markdown",
   "metadata": {
    "hidden": true
   },
   "source": [
    "[AUTOENCODER](../results/VAE/PBMC10k/graphs/autoencoder.png)"
   ]
  },
  {
   "cell_type": "markdown",
   "metadata": {
    "heading_collapsed": true
   },
   "source": [
    "### Train the model"
   ]
  },
  {
   "cell_type": "code",
   "execution_count": null,
   "metadata": {
    "ExecuteTime": {
     "end_time": "2019-10-03T07:33:39.025082Z",
     "start_time": "2019-10-03T07:06:17.247744Z"
    },
    "hidden": true,
    "scrolled": true
   },
   "outputs": [],
   "source": [
    "# Training...\n",
    "\n",
    "log_dir = '../results/VAE/PBMC10k/'\n",
    "os.makedirs(log_dir, exist_ok=True)\n",
    "\n",
    "data_file = '../data/proc/pbmc10k.tfrecord'  # add for mode='TFRecord'\n",
    "\n",
    "loss, val_loss = model.train(val_split=0.2, \n",
    "                             log_dir=log_dir, \n",
    "                             mode = 'TFRecord',\n",
    "                             data_file=data_file, \n",
    "                             num_workers=24)"
   ]
  },
  {
   "cell_type": "code",
   "execution_count": null,
   "metadata": {
    "ExecuteTime": {
     "end_time": "2019-10-03T08:33:22.749483Z",
     "start_time": "2019-10-03T08:33:22.459435Z"
    },
    "hidden": true,
    "scrolled": false
   },
   "outputs": [],
   "source": [
    "# Plot training & validation loss values\n",
    "\n",
    "plt.figure(figsize=(8, 6))\n",
    "axes = plt.gca()\n",
    "plt.plot(loss)\n",
    "plt.plot(val_loss)\n",
    "plt.ylabel('Loss')\n",
    "plt.xlabel('Epoch')\n",
    "plt.legend(['Train', 'Validation'], loc='upper right')\n",
    "plt.show()"
   ]
  },
  {
   "cell_type": "code",
   "execution_count": null,
   "metadata": {
    "ExecuteTime": {
     "end_time": "2019-10-03T08:33:50.957530Z",
     "start_time": "2019-10-03T08:33:31.641442Z"
    },
    "hidden": true,
    "scrolled": false
   },
   "outputs": [],
   "source": [
    "gene_list = ['CST3', 'NKG7', 'PPBP']\n",
    "model.plot_umap(gene_selected=gene_list, louvain=True)"
   ]
  },
  {
   "cell_type": "code",
   "execution_count": null,
   "metadata": {
    "ExecuteTime": {
     "end_time": "2019-10-03T08:33:57.153395Z",
     "start_time": "2019-10-03T08:33:57.149008Z"
    },
    "hidden": true
   },
   "outputs": [],
   "source": [
    "from tensorflow.keras.models import load_model\n",
    "from sklearn.metrics import adjusted_rand_score\n",
    "from sklearn.metrics.cluster import adjusted_mutual_info_score\n",
    "\n",
    "log_dir = '../results/VAE/PBMC10k/'\n",
    "# model.encoder = load_model(log_dir + 'models/encoder.h5')\n",
    "\n",
    "labels_true = model.labels"
   ]
  },
  {
   "cell_type": "code",
   "execution_count": null,
   "metadata": {
    "ExecuteTime": {
     "end_time": "2019-10-03T08:34:14.893896Z",
     "start_time": "2019-10-03T08:33:58.364655Z"
    },
    "hidden": true,
    "scrolled": false
   },
   "outputs": [],
   "source": [
    "RES=0.6\n",
    "N_NBS=10\n",
    "N_PCS=40\n",
    "\n",
    "model.update_labels(res=RES, n_neighbors=N_NBS, n_pcs=N_PCS)\n",
    "labels_pred = model.labels\n",
    "\n",
    "GENE_LIST = ['CST3']\n",
    "model.plot_umap(gene_selected=GENE_LIST, louvain=True)\n",
    "\n",
    "print(\"ARI = {}\".format(adjusted_rand_score(labels_true, labels_pred)))\n",
    "print(\"AMI = {}\".format(adjusted_mutual_info_score(labels_true, labels_pred)))"
   ]
  },
  {
   "cell_type": "code",
   "execution_count": null,
   "metadata": {
    "hidden": true,
    "scrolled": true
   },
   "outputs": [],
   "source": []
  }
 ],
 "metadata": {
  "hide_input": false,
  "kernelspec": {
   "display_name": "Python 3",
   "language": "python",
   "name": "python3"
  },
  "language_info": {
   "codemirror_mode": {
    "name": "ipython",
    "version": 3
   },
   "file_extension": ".py",
   "mimetype": "text/x-python",
   "name": "python",
   "nbconvert_exporter": "python",
   "pygments_lexer": "ipython3",
   "version": "3.7.3"
  },
  "toc": {
   "base_numbering": 1,
   "nav_menu": {},
   "number_sections": true,
   "sideBar": true,
   "skip_h1_title": false,
   "title_cell": "Table of Contents",
   "title_sidebar": "Contents",
   "toc_cell": false,
   "toc_position": {
    "height": "calc(100% - 180px)",
    "left": "10px",
    "top": "150px",
    "width": "366.188px"
   },
   "toc_section_display": true,
   "toc_window_display": true
  },
  "varInspector": {
   "cols": {
    "lenName": 16,
    "lenType": 16,
    "lenVar": 40
   },
   "kernels_config": {
    "python": {
     "delete_cmd_postfix": "",
     "delete_cmd_prefix": "del ",
     "library": "var_list.py",
     "varRefreshCmd": "print(var_dic_list())"
    },
    "r": {
     "delete_cmd_postfix": ") ",
     "delete_cmd_prefix": "rm(",
     "library": "var_list.r",
     "varRefreshCmd": "cat(var_dic_list()) "
    }
   },
   "oldHeight": 534,
   "position": {
    "height": "556px",
    "left": "842px",
    "right": "20px",
    "top": "117px",
    "width": "667px"
   },
   "types_to_exclude": [
    "module",
    "function",
    "builtin_function_or_method",
    "instance",
    "_Feature"
   ],
   "varInspector_section_display": "block",
   "window_display": false
  }
 },
 "nbformat": 4,
 "nbformat_minor": 2
}
